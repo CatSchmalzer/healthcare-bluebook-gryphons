{
 "cells": [
  {
   "cell_type": "code",
   "execution_count": 1,
   "metadata": {},
   "outputs": [],
   "source": [
    "import pandas as pd\n",
    "import pickle"
   ]
  },
  {
   "cell_type": "code",
   "execution_count": 2,
   "metadata": {},
   "outputs": [
    {
     "name": "stdout",
     "output_type": "stream",
     "text": [
      "Wall time: 2min 59s\n"
     ]
    }
   ],
   "source": [
    "%%time\n",
    "\n",
    "individual_provider_rows =[]\n",
    "for chunk in pd.read_csv('../data/Medicare_Provider_Utilization_and_Payment_Data__Physician_and_Other_Supplier_PUF_CY2017.csv', \n",
    "                         dtype={'Zip Code of the Provider': object},\n",
    "                         chunksize = 50000):\n",
    "    individual_provider_rows.append(chunk[chunk['Entity Type of the Provider'] == 'I']) \n",
    "               \n",
    "                \n",
    "individual_provider_payment_df = pd.concat(individual_provider_rows, ignore_index=True)"
   ]
  },
  {
   "cell_type": "code",
   "execution_count": 3,
   "metadata": {},
   "outputs": [],
   "source": [
    "# creating total medicare revenue column\n",
    "\n",
    "individual_provider_payment_df['Total Medicare Revenue'] = individual_provider_payment_df['Average Medicare Payment Amount'] * individual_provider_payment_df['Number of Services']"
   ]
  },
  {
   "cell_type": "code",
   "execution_count": 4,
   "metadata": {},
   "outputs": [],
   "source": [
    "# creates and adds groupings for codes to dataframe\n",
    "\n",
    "HCPCS_Grouped_Code = []\n",
    "\n",
    "for value in individual_provider_payment_df['HCPCS Code']:\n",
    "    if value.endswith(\"T\"):\n",
    "        HCPCS_Grouped_Code.append(\"0000T\")\n",
    "    else:\n",
    "        HCPCS_Grouped_Code.append(value[0:3] + \"00\")\n",
    "\n",
    "\n",
    "individual_provider_payment_df['HCPCS Grouped Code'] = HCPCS_Grouped_Code "
   ]
  },
  {
   "cell_type": "code",
   "execution_count": 5,
   "metadata": {},
   "outputs": [
    {
     "data": {
      "text/plain": [
       "(9416125, 28)"
      ]
     },
     "execution_count": 5,
     "metadata": {},
     "output_type": "execute_result"
    }
   ],
   "source": [
    "individual_provider_payment_df.shape"
   ]
  },
  {
   "cell_type": "code",
   "execution_count": 6,
   "metadata": {
    "scrolled": true
   },
   "outputs": [
    {
     "data": {
      "text/plain": [
       "Index(['National Provider Identifier',\n",
       "       'Last Name/Organization Name of the Provider',\n",
       "       'First Name of the Provider', 'Middle Initial of the Provider',\n",
       "       'Credentials of the Provider', 'Gender of the Provider',\n",
       "       'Entity Type of the Provider', 'Street Address 1 of the Provider',\n",
       "       'Street Address 2 of the Provider', 'City of the Provider',\n",
       "       'Zip Code of the Provider', 'State Code of the Provider',\n",
       "       'Country Code of the Provider', 'Provider Type',\n",
       "       'Medicare Participation Indicator', 'Place of Service', 'HCPCS Code',\n",
       "       'HCPCS Description', 'HCPCS Drug Indicator', 'Number of Services',\n",
       "       'Number of Medicare Beneficiaries',\n",
       "       'Number of Distinct Medicare Beneficiary/Per Day Services',\n",
       "       'Average Medicare Allowed Amount', 'Average Submitted Charge Amount',\n",
       "       'Average Medicare Payment Amount',\n",
       "       'Average Medicare Standardized Amount', 'Total Medicare Revenue',\n",
       "       'HCPCS Grouped Code'],\n",
       "      dtype='object')"
      ]
     },
     "execution_count": 6,
     "metadata": {},
     "output_type": "execute_result"
    }
   ],
   "source": [
    "individual_provider_payment_df.columns"
   ]
  },
  {
   "cell_type": "code",
   "execution_count": 7,
   "metadata": {},
   "outputs": [],
   "source": [
    "individual_provider_payment_df_clean = individual_provider_payment_df.drop(columns = ['Last Name/Organization Name of the Provider',\n",
    "                                                                                      'First Name of the Provider', \n",
    "                                                                                      'Middle Initial of the Provider',\n",
    "                                                                                      'Entity Type of the Provider',\n",
    "                                                                                      'Street Address 1 of the Provider',\n",
    "                                                                                      'Street Address 2 of the Provider',\n",
    "                                                                                      'City of the Provider',\n",
    "                                                                                      'Zip Code of the Provider',\n",
    "                                                                                      'State Code of the Provider',\n",
    "                                                                                      'Country Code of the Provider',\n",
    "                                                                                      'Medicare Participation Indicator',\n",
    "                                                                                      'HCPCS Drug Indicator',\n",
    "                                                                                      'Average Medicare Allowed Amount', \n",
    "                                                                                      'Average Submitted Charge Amount',\n",
    "                                                                                      'Average Medicare Standardized Amount', \n",
    "                                                                                      ])\n",
    "                                                                           \n",
    "#  Keeping 'National Provider Identifier', \n",
    "#          'Credentials of the Provider',\n",
    "#          'Gender of the Provider', \n",
    "#         'Provider Type', \n",
    "#         'Place of Service', \n",
    "#         'HCPCS Code',\n",
    "#         'HCPCS Description', \n",
    "#         'HCPCS Grouped Code',\n",
    "#         'Total Medicare Revenue', \n",
    "#         'Average Medicare Payment Amount',\n",
    "#         'Number of Services',\n",
    "#         'Number of Medicare Beneficiaries',\n",
    "#         'Number of Distinct Medicare Beneficiary/Per Day Services'\n"
   ]
  },
  {
   "cell_type": "markdown",
   "metadata": {},
   "source": [
    "# new code to add ratios and calculations"
   ]
  },
  {
   "cell_type": "code",
   "execution_count": 8,
   "metadata": {},
   "outputs": [],
   "source": [
    "# creates sums over Provider Type and Provider Type/HCPCS Code\n",
    "\n",
    "provider_type_sum_of_services = individual_provider_payment_df_clean.groupby('Provider Type', as_index=False)['Number of Services'].sum()\n",
    "\n",
    "provider_type_services = individual_provider_payment_df_clean.groupby(['Provider Type','HCPCS Code'], as_index=False)['Number of Services'].sum()\n",
    "\n",
    "provider_type_grouped_services = individual_provider_payment_df_clean.groupby(['Provider Type','HCPCS Grouped Code'], as_index=False)['Number of Services'].sum()"
   ]
  },
  {
   "cell_type": "code",
   "execution_count": 9,
   "metadata": {},
   "outputs": [],
   "source": [
    "# creates data frames from the new sums\n",
    "\n",
    "provider_type_sum_of_services_df = pd.DataFrame({\"Provider Type\": provider_type_sum_of_services['Provider Type'], \"total_count\": provider_type_sum_of_services[\"Number of Services\"]})\n",
    "\n",
    "provider_type_services_df = pd.DataFrame({ \"Provider Type\":provider_type_services[\"Provider Type\"], \"HCPCS Code\":provider_type_services[\"HCPCS Code\"], \"service_count\":provider_type_services[\"Number of Services\"]})\n",
    "\n",
    "provider_type_grouped_services_df = pd.DataFrame({\"Provider Type\": provider_type_grouped_services['Provider Type'], \"HCPCS Grouped Code\":provider_type_grouped_services[\"HCPCS Grouped Code\"], \"grouped_service_count\":provider_type_grouped_services[\"Number of Services\"]})\n"
   ]
  },
  {
   "cell_type": "code",
   "execution_count": 19,
   "metadata": {},
   "outputs": [
    {
     "name": "stdout",
     "output_type": "stream",
     "text": [
      "<class 'pandas.core.frame.DataFrame'>\n",
      "Int64Index: 9416125 entries, 0 to 9416124\n",
      "Data columns (total 16 columns):\n",
      " #   Column                                                    Dtype  \n",
      "---  ------                                                    -----  \n",
      " 0   National Provider Identifier                              int64  \n",
      " 1   Credentials of the Provider                               object \n",
      " 2   Gender of the Provider                                    object \n",
      " 3   Provider Type                                             object \n",
      " 4   Place of Service                                          object \n",
      " 5   HCPCS Code                                                object \n",
      " 6   HCPCS Description                                         object \n",
      " 7   Number of Services                                        float64\n",
      " 8   Number of Medicare Beneficiaries                          int64  \n",
      " 9   Number of Distinct Medicare Beneficiary/Per Day Services  int64  \n",
      " 10  Average Medicare Payment Amount                           float64\n",
      " 11  Total Medicare Revenue                                    float64\n",
      " 12  HCPCS Grouped Code                                        object \n",
      " 13  service_count                                             float64\n",
      " 14  total_count                                               float64\n",
      " 15  grouped_service_count                                     float64\n",
      "dtypes: float64(6), int64(3), object(7)\n",
      "memory usage: 1.2+ GB\n"
     ]
    }
   ],
   "source": [
    "individual_provider_payment_df_clean_merged = pd.merge(individual_provider_payment_df_clean, provider_type_services_df, how=\"left\", on=['Provider Type','HCPCS Code'])\n",
    "individual_provider_payment_df_clean_merged = pd.merge(individual_provider_payment_df_clean_merged, provider_type_sum_of_services_df, how=\"left\", on='Provider Type')\n",
    "individual_provider_payment_df_clean_merged = pd.merge(individual_provider_payment_df_clean_merged, provider_type_grouped_services_df, how=\"left\", on=['Provider Type','HCPCS Grouped Code'])\n",
    "# individual_provider_payment_df_clean_merged['service_ratio'] = individual_provider_payment_df_clean_merged.service_count/individual_provider_payment_df_clean_merged.total_count\n",
    "# individual_provider_payment_df_clean_merged['grouped_service_ratio'] = individual_provider_payment_df_clean_merged.grouped_service_count/individual_provider_payment_df_clean_merged.total_count\n",
    "\n",
    "individual_provider_payment_df_clean_merged.info()"
   ]
  },
  {
   "cell_type": "code",
   "execution_count": 15,
   "metadata": {},
   "outputs": [
    {
     "data": {
      "text/html": [
       "<div>\n",
       "<style scoped>\n",
       "    .dataframe tbody tr th:only-of-type {\n",
       "        vertical-align: middle;\n",
       "    }\n",
       "\n",
       "    .dataframe tbody tr th {\n",
       "        vertical-align: top;\n",
       "    }\n",
       "\n",
       "    .dataframe thead th {\n",
       "        text-align: right;\n",
       "    }\n",
       "</style>\n",
       "<table border=\"1\" class=\"dataframe\">\n",
       "  <thead>\n",
       "    <tr style=\"text-align: right;\">\n",
       "      <th></th>\n",
       "      <th>National Provider Identifier</th>\n",
       "      <th>Credentials of the Provider</th>\n",
       "      <th>Gender of the Provider</th>\n",
       "      <th>Provider Type</th>\n",
       "      <th>Place of Service</th>\n",
       "      <th>HCPCS Code</th>\n",
       "      <th>HCPCS Description</th>\n",
       "      <th>Number of Services</th>\n",
       "      <th>Number of Medicare Beneficiaries</th>\n",
       "      <th>Number of Distinct Medicare Beneficiary/Per Day Services</th>\n",
       "      <th>Average Medicare Payment Amount</th>\n",
       "      <th>Total Medicare Revenue</th>\n",
       "      <th>HCPCS Grouped Code</th>\n",
       "      <th>service_count</th>\n",
       "      <th>total_count</th>\n",
       "      <th>grouped_service_count</th>\n",
       "      <th>service_ratio</th>\n",
       "      <th>grouped_service_ratio</th>\n",
       "    </tr>\n",
       "  </thead>\n",
       "  <tbody>\n",
       "    <tr>\n",
       "      <th>6681070</th>\n",
       "      <td>1700955184</td>\n",
       "      <td>M. D.</td>\n",
       "      <td>F</td>\n",
       "      <td>Pathology</td>\n",
       "      <td>O</td>\n",
       "      <td>0008M</td>\n",
       "      <td>Onc breast risk score</td>\n",
       "      <td>92.0</td>\n",
       "      <td>90</td>\n",
       "      <td>91</td>\n",
       "      <td>3363.195870</td>\n",
       "      <td>309414.020003</td>\n",
       "      <td>00000</td>\n",
       "      <td>198.0</td>\n",
       "      <td>29564489.8</td>\n",
       "      <td>198.0</td>\n",
       "      <td>0.000007</td>\n",
       "      <td>0.000007</td>\n",
       "    </tr>\n",
       "    <tr>\n",
       "      <th>63553</th>\n",
       "      <td>1003871815</td>\n",
       "      <td>MD</td>\n",
       "      <td>M</td>\n",
       "      <td>Pathology</td>\n",
       "      <td>O</td>\n",
       "      <td>0008M</td>\n",
       "      <td>Onc breast risk score</td>\n",
       "      <td>36.0</td>\n",
       "      <td>36</td>\n",
       "      <td>36</td>\n",
       "      <td>3224.514444</td>\n",
       "      <td>116082.519998</td>\n",
       "      <td>00000</td>\n",
       "      <td>198.0</td>\n",
       "      <td>29564489.8</td>\n",
       "      <td>198.0</td>\n",
       "      <td>0.000007</td>\n",
       "      <td>0.000007</td>\n",
       "    </tr>\n",
       "    <tr>\n",
       "      <th>7144940</th>\n",
       "      <td>1750608915</td>\n",
       "      <td>M.D.</td>\n",
       "      <td>F</td>\n",
       "      <td>Pathology</td>\n",
       "      <td>O</td>\n",
       "      <td>0008M</td>\n",
       "      <td>Onc breast risk score</td>\n",
       "      <td>70.0</td>\n",
       "      <td>70</td>\n",
       "      <td>70</td>\n",
       "      <td>3374.490000</td>\n",
       "      <td>236214.300000</td>\n",
       "      <td>00000</td>\n",
       "      <td>198.0</td>\n",
       "      <td>29564489.8</td>\n",
       "      <td>198.0</td>\n",
       "      <td>0.000007</td>\n",
       "      <td>0.000007</td>\n",
       "    </tr>\n",
       "    <tr>\n",
       "      <th>9097847</th>\n",
       "      <td>1962567180</td>\n",
       "      <td>MD</td>\n",
       "      <td>F</td>\n",
       "      <td>Anesthesiology</td>\n",
       "      <td>F</td>\n",
       "      <td>00100</td>\n",
       "      <td>Anesthesia for procedure on salivary gland wit...</td>\n",
       "      <td>11.0</td>\n",
       "      <td>11</td>\n",
       "      <td>11</td>\n",
       "      <td>260.864545</td>\n",
       "      <td>2869.510000</td>\n",
       "      <td>00100</td>\n",
       "      <td>65.0</td>\n",
       "      <td>14325119.1</td>\n",
       "      <td>1184708.0</td>\n",
       "      <td>0.000005</td>\n",
       "      <td>0.082701</td>\n",
       "    </tr>\n",
       "    <tr>\n",
       "      <th>7687405</th>\n",
       "      <td>1811937972</td>\n",
       "      <td>MD</td>\n",
       "      <td>M</td>\n",
       "      <td>Anesthesiology</td>\n",
       "      <td>F</td>\n",
       "      <td>00100</td>\n",
       "      <td>Anesthesia for procedure on salivary gland wit...</td>\n",
       "      <td>12.0</td>\n",
       "      <td>12</td>\n",
       "      <td>12</td>\n",
       "      <td>105.016667</td>\n",
       "      <td>1260.200000</td>\n",
       "      <td>00100</td>\n",
       "      <td>65.0</td>\n",
       "      <td>14325119.1</td>\n",
       "      <td>1184708.0</td>\n",
       "      <td>0.000005</td>\n",
       "      <td>0.082701</td>\n",
       "    </tr>\n",
       "  </tbody>\n",
       "</table>\n",
       "</div>"
      ],
      "text/plain": [
       "         National Provider Identifier Credentials of the Provider  \\\n",
       "6681070                    1700955184                       M. D.   \n",
       "63553                      1003871815                          MD   \n",
       "7144940                    1750608915                        M.D.   \n",
       "9097847                    1962567180                          MD   \n",
       "7687405                    1811937972                          MD   \n",
       "\n",
       "        Gender of the Provider   Provider Type Place of Service HCPCS Code  \\\n",
       "6681070                      F       Pathology                O      0008M   \n",
       "63553                        M       Pathology                O      0008M   \n",
       "7144940                      F       Pathology                O      0008M   \n",
       "9097847                      F  Anesthesiology                F      00100   \n",
       "7687405                      M  Anesthesiology                F      00100   \n",
       "\n",
       "                                         HCPCS Description  \\\n",
       "6681070                              Onc breast risk score   \n",
       "63553                                Onc breast risk score   \n",
       "7144940                              Onc breast risk score   \n",
       "9097847  Anesthesia for procedure on salivary gland wit...   \n",
       "7687405  Anesthesia for procedure on salivary gland wit...   \n",
       "\n",
       "         Number of Services  Number of Medicare Beneficiaries  \\\n",
       "6681070                92.0                                90   \n",
       "63553                  36.0                                36   \n",
       "7144940                70.0                                70   \n",
       "9097847                11.0                                11   \n",
       "7687405                12.0                                12   \n",
       "\n",
       "         Number of Distinct Medicare Beneficiary/Per Day Services  \\\n",
       "6681070                                                 91          \n",
       "63553                                                   36          \n",
       "7144940                                                 70          \n",
       "9097847                                                 11          \n",
       "7687405                                                 12          \n",
       "\n",
       "         Average Medicare Payment Amount  Total Medicare Revenue  \\\n",
       "6681070                      3363.195870           309414.020003   \n",
       "63553                        3224.514444           116082.519998   \n",
       "7144940                      3374.490000           236214.300000   \n",
       "9097847                       260.864545             2869.510000   \n",
       "7687405                       105.016667             1260.200000   \n",
       "\n",
       "        HCPCS Grouped Code  service_count  total_count  grouped_service_count  \\\n",
       "6681070              00000          198.0   29564489.8                  198.0   \n",
       "63553                00000          198.0   29564489.8                  198.0   \n",
       "7144940              00000          198.0   29564489.8                  198.0   \n",
       "9097847              00100           65.0   14325119.1              1184708.0   \n",
       "7687405              00100           65.0   14325119.1              1184708.0   \n",
       "\n",
       "         service_ratio  grouped_service_ratio  \n",
       "6681070       0.000007               0.000007  \n",
       "63553         0.000007               0.000007  \n",
       "7144940       0.000007               0.000007  \n",
       "9097847       0.000005               0.082701  \n",
       "7687405       0.000005               0.082701  "
      ]
     },
     "execution_count": 15,
     "metadata": {},
     "output_type": "execute_result"
    }
   ],
   "source": [
    "individual_provider_payment_df_clean_merged.sort_values(by = 'HCPCS Code').head()"
   ]
  },
  {
   "cell_type": "code",
   "execution_count": 20,
   "metadata": {},
   "outputs": [],
   "source": [
    "individual_provider_payment_df_clean_merged.to_csv(\"../data/final_medicare_provider_file.csv\", index = False)\n"
   ]
  },
  {
   "cell_type": "code",
   "execution_count": null,
   "metadata": {},
   "outputs": [],
   "source": []
  },
  {
   "cell_type": "code",
   "execution_count": null,
   "metadata": {},
   "outputs": [],
   "source": []
  },
  {
   "cell_type": "code",
   "execution_count": null,
   "metadata": {},
   "outputs": [],
   "source": []
  },
  {
   "cell_type": "code",
   "execution_count": 7,
   "metadata": {},
   "outputs": [],
   "source": [
    "# optional pickle\n",
    "\n",
    "# individual_provider_payment_df_clean.to_pickle(\"../data/individual_provider_payment.pkl\")"
   ]
  }
 ],
 "metadata": {
  "kernelspec": {
   "display_name": "Python 3",
   "language": "python",
   "name": "python3"
  },
  "language_info": {
   "codemirror_mode": {
    "name": "ipython",
    "version": 3
   },
   "file_extension": ".py",
   "mimetype": "text/x-python",
   "name": "python",
   "nbconvert_exporter": "python",
   "pygments_lexer": "ipython3",
   "version": "3.7.7"
  }
 },
 "nbformat": 4,
 "nbformat_minor": 4
}
