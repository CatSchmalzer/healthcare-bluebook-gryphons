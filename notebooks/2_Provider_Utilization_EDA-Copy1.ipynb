{
 "cells": [
  {
   "cell_type": "markdown",
   "metadata": {},
   "source": [
    "### Goal 3, Question 1:\n",
    "For entity type __Individual__, what is the \"normal basket\" of __procedures__ for each **provider type**?\n",
    "\n",
    "#### Steps:\n",
    "    1. read in csv and select rows that are ['Entity Type of the Provider'] == 'I']\n",
    "    2. select necessary columns, for clarity\n",
    "    3. Create query that returns top 15 procedures for given provider type"
   ]
  },
  {
   "cell_type": "code",
   "execution_count": 2,
   "metadata": {},
   "outputs": [],
   "source": [
    "import pandas as pd\n",
    "import pickle"
   ]
  },
  {
   "cell_type": "markdown",
   "metadata": {},
   "source": [
    "#### read csv, select rows with Entity Type 'I' "
   ]
  },
  {
   "cell_type": "code",
   "execution_count": 3,
   "metadata": {},
   "outputs": [
    {
     "name": "stdout",
     "output_type": "stream",
     "text": [
      "Wall time: 2min 31s\n"
     ]
    }
   ],
   "source": [
    "%%time\n",
    "\n",
    "individual_providers_rows =[]\n",
    "for chunk in pd.read_csv('../data/Medicare_Provider_Utilization_and_Payment_Data__Physician_and_Other_Supplier_PUF_CY2017.csv', \n",
    "                         chunksize = 1000):\n",
    "    individual_providers_rows.append(chunk[chunk['Entity Type of the Provider'] == 'I'])\n",
    "    \n",
    "               \n",
    "                \n",
    "individual_type_providers = pd.concat(individual_providers_rows, ignore_index=True)"
   ]
  },
  {
   "cell_type": "markdown",
   "metadata": {},
   "source": [
    "#### Too many columns for this question..."
   ]
  },
  {
   "cell_type": "code",
   "execution_count": 4,
   "metadata": {
    "scrolled": true
   },
   "outputs": [
    {
     "name": "stdout",
     "output_type": "stream",
     "text": [
      "<class 'pandas.core.frame.DataFrame'>\n",
      "RangeIndex: 9416125 entries, 0 to 9416124\n",
      "Data columns (total 26 columns):\n",
      " #   Column                                                    Dtype  \n",
      "---  ------                                                    -----  \n",
      " 0   National Provider Identifier                              int64  \n",
      " 1   Last Name/Organization Name of the Provider               object \n",
      " 2   First Name of the Provider                                object \n",
      " 3   Middle Initial of the Provider                            object \n",
      " 4   Credentials of the Provider                               object \n",
      " 5   Gender of the Provider                                    object \n",
      " 6   Entity Type of the Provider                               object \n",
      " 7   Street Address 1 of the Provider                          object \n",
      " 8   Street Address 2 of the Provider                          object \n",
      " 9   City of the Provider                                      object \n",
      " 10  Zip Code of the Provider                                  object \n",
      " 11  State Code of the Provider                                object \n",
      " 12  Country Code of the Provider                              object \n",
      " 13  Provider Type                                             object \n",
      " 14  Medicare Participation Indicator                          object \n",
      " 15  Place of Service                                          object \n",
      " 16  HCPCS Code                                                object \n",
      " 17  HCPCS Description                                         object \n",
      " 18  HCPCS Drug Indicator                                      object \n",
      " 19  Number of Services                                        float64\n",
      " 20  Number of Medicare Beneficiaries                          int64  \n",
      " 21  Number of Distinct Medicare Beneficiary/Per Day Services  int64  \n",
      " 22  Average Medicare Allowed Amount                           float64\n",
      " 23  Average Submitted Charge Amount                           float64\n",
      " 24  Average Medicare Payment Amount                           float64\n",
      " 25  Average Medicare Standardized Amount                      float64\n",
      "dtypes: float64(5), int64(3), object(18)\n",
      "memory usage: 1.8+ GB\n"
     ]
    }
   ],
   "source": [
    "individual_type_providers.info()"
   ]
  },
  {
   "cell_type": "markdown",
   "metadata": {},
   "source": [
    "#### select columns:\n",
    "    - National Provider Identifier\n",
    "    - Entity Type of the Provider\n",
    "    - Provider Type\n",
    "    - Place of Service\n",
    "    - HCPCS Code\n",
    "    - HCPCS Description\n",
    "    - Number of Services\n",
    "    - Number of Medicare Beneficiaries\n",
    "    - Number of Distinct Medicare Beneficiary/Per Day Services"
   ]
  },
  {
   "cell_type": "code",
   "execution_count": 6,
   "metadata": {},
   "outputs": [],
   "source": [
    "individual_type_providers_reduced_columns = individual_type_providers[['National Provider Identifier','Entity Type of the Provider',\n",
    "                                                             'Provider Type','Place of Service','HCPCS Code',\n",
    "                                                             'HCPCS Description','Number of Services',\n",
    "                                                             'Number of Medicare Beneficiaries',\n",
    "                                                             'Number of Distinct Medicare Beneficiary/Per Day Services']]"
   ]
  },
  {
   "cell_type": "code",
   "execution_count": 7,
   "metadata": {},
   "outputs": [
    {
     "name": "stdout",
     "output_type": "stream",
     "text": [
      "<class 'pandas.core.frame.DataFrame'>\n",
      "RangeIndex: 9416125 entries, 0 to 9416124\n",
      "Data columns (total 9 columns):\n",
      " #   Column                                                    Dtype  \n",
      "---  ------                                                    -----  \n",
      " 0   National Provider Identifier                              int64  \n",
      " 1   Entity Type of the Provider                               object \n",
      " 2   Provider Type                                             object \n",
      " 3   Place of Service                                          object \n",
      " 4   HCPCS Code                                                object \n",
      " 5   HCPCS Description                                         object \n",
      " 6   Number of Services                                        float64\n",
      " 7   Number of Medicare Beneficiaries                          int64  \n",
      " 8   Number of Distinct Medicare Beneficiary/Per Day Services  int64  \n",
      "dtypes: float64(1), int64(3), object(5)\n",
      "memory usage: 646.6+ MB\n"
     ]
    }
   ],
   "source": [
    "individual_type_providers_reduced_columns.info()"
   ]
  },
  {
   "cell_type": "code",
   "execution_count": 10,
   "metadata": {},
   "outputs": [
    {
     "data": {
      "text/plain": [
       "88"
      ]
     },
     "execution_count": 10,
     "metadata": {},
     "output_type": "execute_result"
    }
   ],
   "source": [
    "individual_type_providers_reduced_columns['Provider Type'].nunique()"
   ]
  },
  {
   "cell_type": "markdown",
   "metadata": {},
   "source": [
    "#### Diagnostic Radiology has the most rows, lets start by isolating that provider type..."
   ]
  },
  {
   "cell_type": "code",
   "execution_count": 17,
   "metadata": {
    "scrolled": true
   },
   "outputs": [
    {
     "data": {
      "text/plain": [
       "Diagnostic Radiology                   1241400\n",
       "Internal Medicine                      1118171\n",
       "Family Practice                         969268\n",
       "Nurse Practitioner                      560219\n",
       "Cardiology                              445088\n",
       "                                        ...   \n",
       "Ambulance Service Provider                  42\n",
       "Unknown Supplier/Provider Specialty         17\n",
       "All Other Suppliers                         11\n",
       "Slide Preparation Facility                   2\n",
       "Medical Toxicology                           2\n",
       "Name: Provider Type, Length: 88, dtype: int64"
      ]
     },
     "execution_count": 17,
     "metadata": {},
     "output_type": "execute_result"
    }
   ],
   "source": [
    "individual_type_providers_reduced_columns['Provider Type'].value_counts()"
   ]
  },
  {
   "cell_type": "code",
   "execution_count": 22,
   "metadata": {
    "scrolled": false
   },
   "outputs": [
    {
     "data": {
      "text/html": [
       "<div>\n",
       "<style scoped>\n",
       "    .dataframe tbody tr th:only-of-type {\n",
       "        vertical-align: middle;\n",
       "    }\n",
       "\n",
       "    .dataframe tbody tr th {\n",
       "        vertical-align: top;\n",
       "    }\n",
       "\n",
       "    .dataframe thead th {\n",
       "        text-align: right;\n",
       "    }\n",
       "</style>\n",
       "<table border=\"1\" class=\"dataframe\">\n",
       "  <thead>\n",
       "    <tr style=\"text-align: right;\">\n",
       "      <th></th>\n",
       "      <th>National Provider Identifier</th>\n",
       "      <th>Entity Type of the Provider</th>\n",
       "      <th>Provider Type</th>\n",
       "      <th>Place of Service</th>\n",
       "      <th>HCPCS Code</th>\n",
       "      <th>HCPCS Description</th>\n",
       "      <th>Number of Services</th>\n",
       "      <th>Number of Medicare Beneficiaries</th>\n",
       "      <th>Number of Distinct Medicare Beneficiary/Per Day Services</th>\n",
       "    </tr>\n",
       "  </thead>\n",
       "  <tbody>\n",
       "    <tr>\n",
       "      <th>348</th>\n",
       "      <td>1003002148</td>\n",
       "      <td>I</td>\n",
       "      <td>Diagnostic Radiology</td>\n",
       "      <td>F</td>\n",
       "      <td>70450</td>\n",
       "      <td>CT scan head or brain</td>\n",
       "      <td>156.0</td>\n",
       "      <td>151</td>\n",
       "      <td>156</td>\n",
       "    </tr>\n",
       "    <tr>\n",
       "      <th>349</th>\n",
       "      <td>1003002148</td>\n",
       "      <td>I</td>\n",
       "      <td>Diagnostic Radiology</td>\n",
       "      <td>F</td>\n",
       "      <td>70486</td>\n",
       "      <td>CT scan of face</td>\n",
       "      <td>23.0</td>\n",
       "      <td>23</td>\n",
       "      <td>23</td>\n",
       "    </tr>\n",
       "    <tr>\n",
       "      <th>350</th>\n",
       "      <td>1003002148</td>\n",
       "      <td>I</td>\n",
       "      <td>Diagnostic Radiology</td>\n",
       "      <td>F</td>\n",
       "      <td>70551</td>\n",
       "      <td>MRI scan brain</td>\n",
       "      <td>63.0</td>\n",
       "      <td>63</td>\n",
       "      <td>63</td>\n",
       "    </tr>\n",
       "    <tr>\n",
       "      <th>351</th>\n",
       "      <td>1003002148</td>\n",
       "      <td>I</td>\n",
       "      <td>Diagnostic Radiology</td>\n",
       "      <td>F</td>\n",
       "      <td>70553</td>\n",
       "      <td>MRI scan of brain before and after contrast</td>\n",
       "      <td>34.0</td>\n",
       "      <td>33</td>\n",
       "      <td>34</td>\n",
       "    </tr>\n",
       "    <tr>\n",
       "      <th>352</th>\n",
       "      <td>1003002148</td>\n",
       "      <td>I</td>\n",
       "      <td>Diagnostic Radiology</td>\n",
       "      <td>F</td>\n",
       "      <td>71010</td>\n",
       "      <td>X-ray of chest, 1 view, front</td>\n",
       "      <td>437.0</td>\n",
       "      <td>363</td>\n",
       "      <td>423</td>\n",
       "    </tr>\n",
       "    <tr>\n",
       "      <th>...</th>\n",
       "      <td>...</td>\n",
       "      <td>...</td>\n",
       "      <td>...</td>\n",
       "      <td>...</td>\n",
       "      <td>...</td>\n",
       "      <td>...</td>\n",
       "      <td>...</td>\n",
       "      <td>...</td>\n",
       "      <td>...</td>\n",
       "    </tr>\n",
       "    <tr>\n",
       "      <th>9415612</th>\n",
       "      <td>1992994487</td>\n",
       "      <td>I</td>\n",
       "      <td>Diagnostic Radiology</td>\n",
       "      <td>F</td>\n",
       "      <td>72125</td>\n",
       "      <td>CT scan of upper spine</td>\n",
       "      <td>68.0</td>\n",
       "      <td>68</td>\n",
       "      <td>68</td>\n",
       "    </tr>\n",
       "    <tr>\n",
       "      <th>9415613</th>\n",
       "      <td>1992994487</td>\n",
       "      <td>I</td>\n",
       "      <td>Diagnostic Radiology</td>\n",
       "      <td>F</td>\n",
       "      <td>72170</td>\n",
       "      <td>X-ray of pelvis, 1 or 2 views</td>\n",
       "      <td>11.0</td>\n",
       "      <td>11</td>\n",
       "      <td>11</td>\n",
       "    </tr>\n",
       "    <tr>\n",
       "      <th>9415614</th>\n",
       "      <td>1992994487</td>\n",
       "      <td>I</td>\n",
       "      <td>Diagnostic Radiology</td>\n",
       "      <td>F</td>\n",
       "      <td>74022</td>\n",
       "      <td>Imaging of abdomen and chest</td>\n",
       "      <td>12.0</td>\n",
       "      <td>12</td>\n",
       "      <td>12</td>\n",
       "    </tr>\n",
       "    <tr>\n",
       "      <th>9415615</th>\n",
       "      <td>1992994487</td>\n",
       "      <td>I</td>\n",
       "      <td>Diagnostic Radiology</td>\n",
       "      <td>F</td>\n",
       "      <td>74176</td>\n",
       "      <td>CT scan of abdomen and pelvis</td>\n",
       "      <td>45.0</td>\n",
       "      <td>45</td>\n",
       "      <td>45</td>\n",
       "    </tr>\n",
       "    <tr>\n",
       "      <th>9415616</th>\n",
       "      <td>1992994487</td>\n",
       "      <td>I</td>\n",
       "      <td>Diagnostic Radiology</td>\n",
       "      <td>F</td>\n",
       "      <td>74177</td>\n",
       "      <td>CT scan of abdomen and pelvis with contrast</td>\n",
       "      <td>51.0</td>\n",
       "      <td>51</td>\n",
       "      <td>51</td>\n",
       "    </tr>\n",
       "  </tbody>\n",
       "</table>\n",
       "<p>1241400 rows × 9 columns</p>\n",
       "</div>"
      ],
      "text/plain": [
       "         National Provider Identifier Entity Type of the Provider  \\\n",
       "348                        1003002148                           I   \n",
       "349                        1003002148                           I   \n",
       "350                        1003002148                           I   \n",
       "351                        1003002148                           I   \n",
       "352                        1003002148                           I   \n",
       "...                               ...                         ...   \n",
       "9415612                    1992994487                           I   \n",
       "9415613                    1992994487                           I   \n",
       "9415614                    1992994487                           I   \n",
       "9415615                    1992994487                           I   \n",
       "9415616                    1992994487                           I   \n",
       "\n",
       "                Provider Type Place of Service HCPCS Code  \\\n",
       "348      Diagnostic Radiology                F      70450   \n",
       "349      Diagnostic Radiology                F      70486   \n",
       "350      Diagnostic Radiology                F      70551   \n",
       "351      Diagnostic Radiology                F      70553   \n",
       "352      Diagnostic Radiology                F      71010   \n",
       "...                       ...              ...        ...   \n",
       "9415612  Diagnostic Radiology                F      72125   \n",
       "9415613  Diagnostic Radiology                F      72170   \n",
       "9415614  Diagnostic Radiology                F      74022   \n",
       "9415615  Diagnostic Radiology                F      74176   \n",
       "9415616  Diagnostic Radiology                F      74177   \n",
       "\n",
       "                                   HCPCS Description  Number of Services  \\\n",
       "348                            CT scan head or brain               156.0   \n",
       "349                                  CT scan of face                23.0   \n",
       "350                                   MRI scan brain                63.0   \n",
       "351      MRI scan of brain before and after contrast                34.0   \n",
       "352                    X-ray of chest, 1 view, front               437.0   \n",
       "...                                              ...                 ...   \n",
       "9415612                       CT scan of upper spine                68.0   \n",
       "9415613                X-ray of pelvis, 1 or 2 views                11.0   \n",
       "9415614                 Imaging of abdomen and chest                12.0   \n",
       "9415615                CT scan of abdomen and pelvis                45.0   \n",
       "9415616  CT scan of abdomen and pelvis with contrast                51.0   \n",
       "\n",
       "         Number of Medicare Beneficiaries  \\\n",
       "348                                   151   \n",
       "349                                    23   \n",
       "350                                    63   \n",
       "351                                    33   \n",
       "352                                   363   \n",
       "...                                   ...   \n",
       "9415612                                68   \n",
       "9415613                                11   \n",
       "9415614                                12   \n",
       "9415615                                45   \n",
       "9415616                                51   \n",
       "\n",
       "         Number of Distinct Medicare Beneficiary/Per Day Services  \n",
       "348                                                    156         \n",
       "349                                                     23         \n",
       "350                                                     63         \n",
       "351                                                     34         \n",
       "352                                                    423         \n",
       "...                                                    ...         \n",
       "9415612                                                 68         \n",
       "9415613                                                 11         \n",
       "9415614                                                 12         \n",
       "9415615                                                 45         \n",
       "9415616                                                 51         \n",
       "\n",
       "[1241400 rows x 9 columns]"
      ]
     },
     "execution_count": 22,
     "metadata": {},
     "output_type": "execute_result"
    }
   ],
   "source": [
    "individual_type_providers_reduced_columns.loc[individual_type_providers_reduced_columns\n",
    "                                              ['Provider Type'] == 'Diagnostic Radiology']\n"
   ]
  },
  {
   "cell_type": "markdown",
   "metadata": {},
   "source": [
    "#### Next, we need to do a value count of each HCPCS for radiology..."
   ]
  },
  {
   "cell_type": "code",
   "execution_count": null,
   "metadata": {},
   "outputs": [],
   "source": []
  }
 ],
 "metadata": {
  "kernelspec": {
   "display_name": "Python 3",
   "language": "python",
   "name": "python3"
  },
  "language_info": {
   "codemirror_mode": {
    "name": "ipython",
    "version": 3
   },
   "file_extension": ".py",
   "mimetype": "text/x-python",
   "name": "python",
   "nbconvert_exporter": "python",
   "pygments_lexer": "ipython3",
   "version": "3.7.6"
  }
 },
 "nbformat": 4,
 "nbformat_minor": 2
}
