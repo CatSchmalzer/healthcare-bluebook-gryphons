{
 "cells": [
  {
   "cell_type": "code",
   "execution_count": 1,
   "metadata": {},
   "outputs": [],
   "source": [
    "import pandas as pd\n",
    "import pickle\n",
    "import pprint\n",
    "import random"
   ]
  },
  {
   "cell_type": "code",
   "execution_count": 2,
   "metadata": {
    "scrolled": true
   },
   "outputs": [
    {
     "name": "stdout",
     "output_type": "stream",
     "text": [
      "Wall time: 12.7 s\n"
     ]
    }
   ],
   "source": [
    "%%time\n",
    "\n",
    "individual_provider_payment_df_clean = pd.read_pickle(\"../data/individual_provider_payment.pkl\")"
   ]
  },
  {
   "cell_type": "code",
   "execution_count": 4,
   "metadata": {},
   "outputs": [
    {
     "data": {
      "text/html": [
       "<div>\n",
       "<style scoped>\n",
       "    .dataframe tbody tr th:only-of-type {\n",
       "        vertical-align: middle;\n",
       "    }\n",
       "\n",
       "    .dataframe tbody tr th {\n",
       "        vertical-align: top;\n",
       "    }\n",
       "\n",
       "    .dataframe thead th {\n",
       "        text-align: right;\n",
       "    }\n",
       "</style>\n",
       "<table border=\"1\" class=\"dataframe\">\n",
       "  <thead>\n",
       "    <tr style=\"text-align: right;\">\n",
       "      <th></th>\n",
       "      <th>National Provider Identifier</th>\n",
       "      <th>Number of Services</th>\n",
       "      <th>Number of Medicare Beneficiaries</th>\n",
       "      <th>Number of Distinct Medicare Beneficiary/Per Day Services</th>\n",
       "      <th>Average Medicare Allowed Amount</th>\n",
       "      <th>Average Submitted Charge Amount</th>\n",
       "      <th>Average Medicare Payment Amount</th>\n",
       "      <th>Average Medicare Standardized Amount</th>\n",
       "    </tr>\n",
       "  </thead>\n",
       "  <tbody>\n",
       "    <tr>\n",
       "      <th>count</th>\n",
       "      <td>9.416125e+06</td>\n",
       "      <td>9.416125e+06</td>\n",
       "      <td>9.416125e+06</td>\n",
       "      <td>9.416125e+06</td>\n",
       "      <td>9.416125e+06</td>\n",
       "      <td>9.416125e+06</td>\n",
       "      <td>9.416125e+06</td>\n",
       "      <td>9.416125e+06</td>\n",
       "    </tr>\n",
       "    <tr>\n",
       "      <th>mean</th>\n",
       "      <td>1.499785e+09</td>\n",
       "      <td>1.983183e+02</td>\n",
       "      <td>7.084164e+01</td>\n",
       "      <td>1.151297e+02</td>\n",
       "      <td>9.735926e+01</td>\n",
       "      <td>3.316574e+02</td>\n",
       "      <td>7.392625e+01</td>\n",
       "      <td>7.453863e+01</td>\n",
       "    </tr>\n",
       "    <tr>\n",
       "      <th>std</th>\n",
       "      <td>2.877289e+08</td>\n",
       "      <td>2.351712e+03</td>\n",
       "      <td>1.442648e+02</td>\n",
       "      <td>2.783331e+02</td>\n",
       "      <td>2.186003e+02</td>\n",
       "      <td>8.947265e+02</td>\n",
       "      <td>1.705221e+02</td>\n",
       "      <td>1.706421e+02</td>\n",
       "    </tr>\n",
       "    <tr>\n",
       "      <th>min</th>\n",
       "      <td>1.003000e+09</td>\n",
       "      <td>2.400000e+00</td>\n",
       "      <td>1.100000e+01</td>\n",
       "      <td>1.100000e+01</td>\n",
       "      <td>6.035380e-05</td>\n",
       "      <td>6.035380e-05</td>\n",
       "      <td>0.000000e+00</td>\n",
       "      <td>0.000000e+00</td>\n",
       "    </tr>\n",
       "    <tr>\n",
       "      <th>25%</th>\n",
       "      <td>1.255302e+09</td>\n",
       "      <td>2.000000e+01</td>\n",
       "      <td>1.700000e+01</td>\n",
       "      <td>2.000000e+01</td>\n",
       "      <td>2.501000e+01</td>\n",
       "      <td>6.000000e+01</td>\n",
       "      <td>1.967050e+01</td>\n",
       "      <td>2.020000e+01</td>\n",
       "    </tr>\n",
       "    <tr>\n",
       "      <th>50%</th>\n",
       "      <td>1.497969e+09</td>\n",
       "      <td>4.300000e+01</td>\n",
       "      <td>3.200000e+01</td>\n",
       "      <td>4.000000e+01</td>\n",
       "      <td>6.639000e+01</td>\n",
       "      <td>1.490000e+02</td>\n",
       "      <td>4.745194e+01</td>\n",
       "      <td>4.811000e+01</td>\n",
       "    </tr>\n",
       "    <tr>\n",
       "      <th>75%</th>\n",
       "      <td>1.740681e+09</td>\n",
       "      <td>1.160000e+02</td>\n",
       "      <td>7.300000e+01</td>\n",
       "      <td>1.040000e+02</td>\n",
       "      <td>1.131400e+02</td>\n",
       "      <td>2.997289e+02</td>\n",
       "      <td>8.456263e+01</td>\n",
       "      <td>8.464778e+01</td>\n",
       "    </tr>\n",
       "    <tr>\n",
       "      <th>max</th>\n",
       "      <td>1.993000e+09</td>\n",
       "      <td>3.301134e+06</td>\n",
       "      <td>9.532700e+04</td>\n",
       "      <td>1.758700e+05</td>\n",
       "      <td>3.986417e+04</td>\n",
       "      <td>9.999900e+04</td>\n",
       "      <td>3.125351e+04</td>\n",
       "      <td>3.145565e+04</td>\n",
       "    </tr>\n",
       "  </tbody>\n",
       "</table>\n",
       "</div>"
      ],
      "text/plain": [
       "       National Provider Identifier  Number of Services  \\\n",
       "count                  9.416125e+06        9.416125e+06   \n",
       "mean                   1.499785e+09        1.983183e+02   \n",
       "std                    2.877289e+08        2.351712e+03   \n",
       "min                    1.003000e+09        2.400000e+00   \n",
       "25%                    1.255302e+09        2.000000e+01   \n",
       "50%                    1.497969e+09        4.300000e+01   \n",
       "75%                    1.740681e+09        1.160000e+02   \n",
       "max                    1.993000e+09        3.301134e+06   \n",
       "\n",
       "       Number of Medicare Beneficiaries  \\\n",
       "count                      9.416125e+06   \n",
       "mean                       7.084164e+01   \n",
       "std                        1.442648e+02   \n",
       "min                        1.100000e+01   \n",
       "25%                        1.700000e+01   \n",
       "50%                        3.200000e+01   \n",
       "75%                        7.300000e+01   \n",
       "max                        9.532700e+04   \n",
       "\n",
       "       Number of Distinct Medicare Beneficiary/Per Day Services  \\\n",
       "count                                       9.416125e+06          \n",
       "mean                                        1.151297e+02          \n",
       "std                                         2.783331e+02          \n",
       "min                                         1.100000e+01          \n",
       "25%                                         2.000000e+01          \n",
       "50%                                         4.000000e+01          \n",
       "75%                                         1.040000e+02          \n",
       "max                                         1.758700e+05          \n",
       "\n",
       "       Average Medicare Allowed Amount  Average Submitted Charge Amount  \\\n",
       "count                     9.416125e+06                     9.416125e+06   \n",
       "mean                      9.735926e+01                     3.316574e+02   \n",
       "std                       2.186003e+02                     8.947265e+02   \n",
       "min                       6.035380e-05                     6.035380e-05   \n",
       "25%                       2.501000e+01                     6.000000e+01   \n",
       "50%                       6.639000e+01                     1.490000e+02   \n",
       "75%                       1.131400e+02                     2.997289e+02   \n",
       "max                       3.986417e+04                     9.999900e+04   \n",
       "\n",
       "       Average Medicare Payment Amount  Average Medicare Standardized Amount  \n",
       "count                     9.416125e+06                          9.416125e+06  \n",
       "mean                      7.392625e+01                          7.453863e+01  \n",
       "std                       1.705221e+02                          1.706421e+02  \n",
       "min                       0.000000e+00                          0.000000e+00  \n",
       "25%                       1.967050e+01                          2.020000e+01  \n",
       "50%                       4.745194e+01                          4.811000e+01  \n",
       "75%                       8.456263e+01                          8.464778e+01  \n",
       "max                       3.125351e+04                          3.145565e+04  "
      ]
     },
     "execution_count": 4,
     "metadata": {},
     "output_type": "execute_result"
    }
   ],
   "source": [
    "individual_provider_payment_df_clean.describe()"
   ]
  },
  {
   "cell_type": "code",
   "execution_count": 11,
   "metadata": {
    "scrolled": true
   },
   "outputs": [
    {
     "name": "stdout",
     "output_type": "stream",
     "text": [
      "<class 'pandas.core.frame.DataFrame'>\n",
      "RangeIndex: 9416125 entries, 0 to 9416124\n",
      "Data columns (total 23 columns):\n",
      " #   Column                                                    Dtype  \n",
      "---  ------                                                    -----  \n",
      " 0   National Provider Identifier                              int64  \n",
      " 1   Last Name/Organization Name of the Provider               object \n",
      " 2   First Name of the Provider                                object \n",
      " 3   Credentials of the Provider                               object \n",
      " 4   Entity Type of the Provider                               object \n",
      " 5   Street Address 1 of the Provider                          object \n",
      " 6   City of the Provider                                      object \n",
      " 7   Zip Code of the Provider                                  object \n",
      " 8   State Code of the Provider                                object \n",
      " 9   Country Code of the Provider                              object \n",
      " 10  Provider Type                                             object \n",
      " 11  Medicare Participation Indicator                          object \n",
      " 12  Place of Service                                          object \n",
      " 13  HCPCS Code                                                object \n",
      " 14  HCPCS Description                                         object \n",
      " 15  HCPCS Drug Indicator                                      object \n",
      " 16  Number of Services                                        float64\n",
      " 17  Number of Medicare Beneficiaries                          int64  \n",
      " 18  Number of Distinct Medicare Beneficiary/Per Day Services  int64  \n",
      " 19  Average Medicare Allowed Amount                           float64\n",
      " 20  Average Submitted Charge Amount                           float64\n",
      " 21  Average Medicare Payment Amount                           float64\n",
      " 22  Average Medicare Standardized Amount                      float64\n",
      "dtypes: float64(5), int64(3), object(15)\n",
      "memory usage: 1.6+ GB\n"
     ]
    }
   ],
   "source": [
    "individual_provider_payment_df_clean.info()"
   ]
  },
  {
   "cell_type": "code",
   "execution_count": 3,
   "metadata": {
    "scrolled": false
   },
   "outputs": [
    {
     "data": {
      "text/plain": [
       "Diagnostic Radiology                   1241400\n",
       "Internal Medicine                      1118171\n",
       "Family Practice                         969268\n",
       "Nurse Practitioner                      560219\n",
       "Cardiology                              445088\n",
       "                                        ...   \n",
       "Ambulance Service Provider                  42\n",
       "Unknown Supplier/Provider Specialty         17\n",
       "All Other Suppliers                         11\n",
       "Medical Toxicology                           2\n",
       "Slide Preparation Facility                   2\n",
       "Name: Provider Type, Length: 88, dtype: int64"
      ]
     },
     "execution_count": 3,
     "metadata": {},
     "output_type": "execute_result"
    }
   ],
   "source": [
    "individual_provider_payment_df_clean['Provider Type'].value_counts()"
   ]
  },
  {
   "cell_type": "code",
   "execution_count": 6,
   "metadata": {
    "scrolled": false
   },
   "outputs": [
    {
     "data": {
      "text/plain": [
       "Established patient office or other outpatient visit, typically 15 minutes                              457835\n",
       "Established patient office or other outpatient, visit typically 25 minutes                              428262\n",
       "New patient office or other outpatient visit, typically 45 minutes                                      179569\n",
       "New patient office or other outpatient visit, typically 30 minutes                                      178057\n",
       "Subsequent hospital inpatient care, typically 25 minutes per day                                        175335\n",
       "                                                                                                         ...  \n",
       "Injection, voriconazole, 10 mg                                                                               1\n",
       "Blood vessel procedure using an endoscope                                                                    1\n",
       "X-ray of junction of breast and collar bones, minimum of 2 views                                             1\n",
       "Fusion of spine bones for correction of deformity, posterior approach, 13 or more vertebral segments         1\n",
       "Removal of intact breast implant                                                                             1\n",
       "Name: HCPCS Description, Length: 5171, dtype: int64"
      ]
     },
     "execution_count": 6,
     "metadata": {},
     "output_type": "execute_result"
    }
   ],
   "source": [
    "individual_provider_payment_df_clean['HCPCS Description'].value_counts()"
   ]
  },
  {
   "cell_type": "code",
   "execution_count": 32,
   "metadata": {},
   "outputs": [
    {
     "data": {
      "text/plain": [
       "99213    457835\n",
       "99214    428262\n",
       "99204    179569\n",
       "99203    178057\n",
       "99232    175335\n",
       "          ...  \n",
       "01392         1\n",
       "27823         1\n",
       "27140         1\n",
       "53665         1\n",
       "45386         1\n",
       "Name: HCPCS Code, Length: 5702, dtype: int64"
      ]
     },
     "execution_count": 32,
     "metadata": {},
     "output_type": "execute_result"
    }
   ],
   "source": [
    "individual_provider_payment_df_clean['HCPCS Code'].value_counts()"
   ]
  },
  {
   "cell_type": "code",
   "execution_count": 4,
   "metadata": {},
   "outputs": [
    {
     "data": {
      "text/plain": [
       "Established patient office or other outpatient visit, typically 15 minutes    457835\n",
       "Established patient office or other outpatient, visit typically 25 minutes    428262\n",
       "New patient office or other outpatient visit, typically 45 minutes            179569\n",
       "New patient office or other outpatient visit, typically 30 minutes            178057\n",
       "Established patient office or other outpatient visit, typically 10 minutes    133176\n",
       "Established patient office or other outpatient, visit typically 40 minutes    119757\n",
       "New patient office or other outpatient visit, typically 60 minutes             62427\n",
       "New patient office or other outpatient visit, typically 20 minutes             48225\n",
       "Established patient office or other outpatient visit, typically 5 minutes      30699\n",
       "New patient office or other outpatient visit, typically 10 minutes              4619\n",
       "Name: HCPCS Description, dtype: int64"
      ]
     },
     "execution_count": 4,
     "metadata": {},
     "output_type": "execute_result"
    }
   ],
   "source": [
    "# informational to make sure my row drops will be dropping what I expect it to drop\n",
    "individual_provider_payment_df_clean.loc[individual_provider_payment_df_clean['HCPCS Description'].str.contains('patient office')]['HCPCS Description'].value_counts()"
   ]
  },
  {
   "cell_type": "code",
   "execution_count": 10,
   "metadata": {},
   "outputs": [],
   "source": [
    "# remove patient office visits\n",
    "individual_provider_payment_df_clean_no_office = individual_provider_payment_df_clean.loc[~individual_provider_payment_df_clean['HCPCS Description'].str.contains('patient office')]"
   ]
  },
  {
   "cell_type": "code",
   "execution_count": 6,
   "metadata": {},
   "outputs": [
    {
     "data": {
      "text/plain": [
       "Subsequent hospital inpatient care, typically 25 minutes per day    175335\n",
       "Initial hospital inpatient care, typically 70 minutes per day       133367\n",
       "Subsequent hospital inpatient care, typically 35 minutes per day    120664\n",
       "Initial hospital inpatient care, typically 50 minutes per day       111446\n",
       "Subsequent hospital inpatient care, typically 15 minutes per day     69468\n",
       "Initial hospital inpatient care, typically 30 minutes per day        41781\n",
       "Name: HCPCS Description, dtype: int64"
      ]
     },
     "execution_count": 6,
     "metadata": {},
     "output_type": "execute_result"
    }
   ],
   "source": [
    "# informational to make sure my row drops will be dropping what I expect it to drop\n",
    "individual_provider_payment_df_clean.loc[individual_provider_payment_df_clean['HCPCS Description'].str.contains('hospital inpatient care,')]['HCPCS Description'].value_counts()"
   ]
  },
  {
   "cell_type": "code",
   "execution_count": 12,
   "metadata": {},
   "outputs": [],
   "source": [
    "# remove hospital inpatient care visits\n",
    "individual_provider_payment_df_clean_no_office = individual_provider_payment_df_clean_no_office.loc[~individual_provider_payment_df_clean_no_office['HCPCS Description'].str.contains('hospital inpatient care,')]"
   ]
  },
  {
   "cell_type": "code",
   "execution_count": 13,
   "metadata": {
    "scrolled": true
   },
   "outputs": [
    {
     "data": {
      "text/plain": [
       "Administration of influenza virus vaccine                                                            104505\n",
       "Insertion of needle into vein for collection of blood sample                                          95712\n",
       "Routine EKG using at least 12 leads including interpretation and report                               84250\n",
       "Annual wellness visit, includes a personalized prevention plan of service (pps), subsequent visit     76370\n",
       "Injection beneath the skin or into muscle for therapy, diagnosis, or prevention                       70312\n",
       "                                                                                                      ...  \n",
       "Injection, theophylline, per 40 mg                                                                        1\n",
       "Heat delivery to muscle at esophagus and/or stomach to treat gastric reflux using an endoscope            1\n",
       "Corrective repair of turning-inward eyelid defect using heat                                              1\n",
       "Hematology and coagulation procedures                                                                     1\n",
       "Cygnus, per square centimeter                                                                             1\n",
       "Name: HCPCS Description, Length: 5155, dtype: int64"
      ]
     },
     "execution_count": 13,
     "metadata": {},
     "output_type": "execute_result"
    }
   ],
   "source": [
    "individual_provider_payment_df_clean_no_office['HCPCS Description'].value_counts()\n"
   ]
  },
  {
   "cell_type": "code",
   "execution_count": 14,
   "metadata": {},
   "outputs": [],
   "source": [
    "individual_provider_payment_df_clean_no_office['Total Revenue'] = individual_provider_payment_df_clean_no_office['Average Medicare Allowed Amount'] * individual_provider_payment_df_clean_no_office['Number of Services']"
   ]
  },
  {
   "cell_type": "code",
   "execution_count": 33,
   "metadata": {},
   "outputs": [
    {
     "data": {
      "text/plain": [
       "G0008    104505\n",
       "36415     95712\n",
       "93000     84250\n",
       "G0439     76370\n",
       "96372     70312\n",
       "          ...  \n",
       "88274         1\n",
       "27187         1\n",
       "36511         1\n",
       "A6457         1\n",
       "52334         1\n",
       "Name: HCPCS Code, Length: 5686, dtype: int64"
      ]
     },
     "execution_count": 33,
     "metadata": {},
     "output_type": "execute_result"
    }
   ],
   "source": [
    "individual_provider_payment_df_clean_no_office['HCPCS Code'].value_counts()"
   ]
  },
  {
   "cell_type": "code",
   "execution_count": 34,
   "metadata": {
    "scrolled": true
   },
   "outputs": [
    {
     "data": {
      "text/plain": [
       "Administration of influenza virus vaccine                                                            104505\n",
       "Insertion of needle into vein for collection of blood sample                                          95712\n",
       "Routine EKG using at least 12 leads including interpretation and report                               84250\n",
       "Annual wellness visit, includes a personalized prevention plan of service (pps), subsequent visit     76370\n",
       "Injection beneath the skin or into muscle for therapy, diagnosis, or prevention                       70312\n",
       "                                                                                                      ...  \n",
       "Injection, theophylline, per 40 mg                                                                        1\n",
       "Heat delivery to muscle at esophagus and/or stomach to treat gastric reflux using an endoscope            1\n",
       "Corrective repair of turning-inward eyelid defect using heat                                              1\n",
       "Hematology and coagulation procedures                                                                     1\n",
       "Cygnus, per square centimeter                                                                             1\n",
       "Name: HCPCS Description, Length: 5155, dtype: int64"
      ]
     },
     "execution_count": 34,
     "metadata": {},
     "output_type": "execute_result"
    }
   ],
   "source": [
    "individual_provider_payment_df_clean_no_office['HCPCS Description'].value_counts()"
   ]
  },
  {
   "cell_type": "code",
   "execution_count": 39,
   "metadata": {},
   "outputs": [
    {
     "name": "stdout",
     "output_type": "stream",
     "text": [
      "<class 'pandas.core.frame.DataFrame'>\n",
      "Int64Index: 7121438 entries, 0 to 9416124\n",
      "Data columns (total 22 columns):\n",
      " #   Column                                                    Dtype  \n",
      "---  ------                                                    -----  \n",
      " 0   National Provider Identifier                              int64  \n",
      " 1   Last Name/Organization Name of the Provider               object \n",
      " 2   First Name of the Provider                                object \n",
      " 3   Credentials of the Provider                               object \n",
      " 4   Entity Type of the Provider                               object \n",
      " 5   Street Address 1 of the Provider                          object \n",
      " 6   City of the Provider                                      object \n",
      " 7   Zip Code of the Provider                                  object \n",
      " 8   State Code of the Provider                                object \n",
      " 9   Country Code of the Provider                              object \n",
      " 10  Provider Type                                             object \n",
      " 11  Medicare Participation Indicator                          object \n",
      " 12  Place of Service                                          object \n",
      " 13  HCPCS Code                                                object \n",
      " 14  HCPCS Description                                         object \n",
      " 15  HCPCS Drug Indicator                                      object \n",
      " 16  Number of Services                                        float64\n",
      " 17  Number of Medicare Beneficiaries                          int64  \n",
      " 18  Number of Distinct Medicare Beneficiary/Per Day Services  int64  \n",
      " 19  Average Medicare Allowed Amount                           float64\n",
      " 20  Average Medicare Payment Amount                           float64\n",
      " 21  Total Revenue                                             float64\n",
      "dtypes: float64(4), int64(3), object(15)\n",
      "memory usage: 1.2+ GB\n"
     ]
    }
   ],
   "source": [
    "individual_provider_payment_df_clean_no_office.info()"
   ]
  },
  {
   "cell_type": "code",
   "execution_count": 15,
   "metadata": {
    "scrolled": true
   },
   "outputs": [],
   "source": [
    "provider_no_office = pd.pivot_table(individual_provider_payment_df_clean_no_office,index=[\"Provider Type\", \"HCPCS Code\", \"HCPCS Description\"])"
   ]
  },
  {
   "cell_type": "code",
   "execution_count": null,
   "metadata": {},
   "outputs": [],
   "source": []
  },
  {
   "cell_type": "code",
   "execution_count": 21,
   "metadata": {},
   "outputs": [
    {
     "data": {
      "text/html": [
       "<div>\n",
       "<style scoped>\n",
       "    .dataframe tbody tr th:only-of-type {\n",
       "        vertical-align: middle;\n",
       "    }\n",
       "\n",
       "    .dataframe tbody tr th {\n",
       "        vertical-align: top;\n",
       "    }\n",
       "\n",
       "    .dataframe thead th {\n",
       "        text-align: right;\n",
       "    }\n",
       "</style>\n",
       "<table border=\"1\" class=\"dataframe\">\n",
       "  <thead>\n",
       "    <tr style=\"text-align: right;\">\n",
       "      <th></th>\n",
       "      <th></th>\n",
       "      <th></th>\n",
       "      <th>Average Medicare Allowed Amount</th>\n",
       "      <th>Average Medicare Payment Amount</th>\n",
       "      <th>National Provider Identifier</th>\n",
       "      <th>Number of Distinct Medicare Beneficiary/Per Day Services</th>\n",
       "      <th>Number of Medicare Beneficiaries</th>\n",
       "      <th>Number of Services</th>\n",
       "      <th>Total Revenue</th>\n",
       "    </tr>\n",
       "    <tr>\n",
       "      <th>Provider Type</th>\n",
       "      <th>HCPCS Code</th>\n",
       "      <th>HCPCS Description</th>\n",
       "      <th></th>\n",
       "      <th></th>\n",
       "      <th></th>\n",
       "      <th></th>\n",
       "      <th></th>\n",
       "      <th></th>\n",
       "      <th></th>\n",
       "    </tr>\n",
       "  </thead>\n",
       "  <tbody>\n",
       "    <tr>\n",
       "      <th rowspan=\"5\" valign=\"top\">Addiction Medicine</th>\n",
       "      <th>36415</th>\n",
       "      <th>Insertion of needle into vein for collection of blood sample</th>\n",
       "      <td>3.000000</td>\n",
       "      <td>2.933529</td>\n",
       "      <td>1.443171e+09</td>\n",
       "      <td>85.000000</td>\n",
       "      <td>52.285714</td>\n",
       "      <td>85.000000</td>\n",
       "      <td>249.182857</td>\n",
       "    </tr>\n",
       "    <tr>\n",
       "      <th>36556</th>\n",
       "      <th>Insertion of central venous catheter for infusion, patient 5 years or older</th>\n",
       "      <td>112.510000</td>\n",
       "      <td>88.210000</td>\n",
       "      <td>1.770876e+09</td>\n",
       "      <td>11.000000</td>\n",
       "      <td>11.000000</td>\n",
       "      <td>12.000000</td>\n",
       "      <td>1058.520000</td>\n",
       "    </tr>\n",
       "    <tr>\n",
       "      <th>36620</th>\n",
       "      <th>Insertion of arterial catheter for blood sampling or infusion, accessed through the skin</th>\n",
       "      <td>47.990000</td>\n",
       "      <td>37.620000</td>\n",
       "      <td>1.770876e+09</td>\n",
       "      <td>13.000000</td>\n",
       "      <td>12.000000</td>\n",
       "      <td>13.000000</td>\n",
       "      <td>489.060000</td>\n",
       "    </tr>\n",
       "    <tr>\n",
       "      <th>70100</th>\n",
       "      <th>X-ray of mandible, less than 4 views</th>\n",
       "      <td>12.624219</td>\n",
       "      <td>9.532713</td>\n",
       "      <td>1.306066e+09</td>\n",
       "      <td>293.500000</td>\n",
       "      <td>255.000000</td>\n",
       "      <td>295.000000</td>\n",
       "      <td>3484.260000</td>\n",
       "    </tr>\n",
       "    <tr>\n",
       "      <th>70310</th>\n",
       "      <th>X-ray of teeth, less than full mouth</th>\n",
       "      <td>12.237704</td>\n",
       "      <td>9.257998</td>\n",
       "      <td>1.306066e+09</td>\n",
       "      <td>293.500000</td>\n",
       "      <td>255.000000</td>\n",
       "      <td>295.000000</td>\n",
       "      <td>3532.445000</td>\n",
       "    </tr>\n",
       "    <tr>\n",
       "      <th>...</th>\n",
       "      <th>...</th>\n",
       "      <th>...</th>\n",
       "      <td>...</td>\n",
       "      <td>...</td>\n",
       "      <td>...</td>\n",
       "      <td>...</td>\n",
       "      <td>...</td>\n",
       "      <td>...</td>\n",
       "      <td>...</td>\n",
       "    </tr>\n",
       "    <tr>\n",
       "      <th rowspan=\"5\" valign=\"top\">Vascular Surgery</th>\n",
       "      <th>Q4131</th>\n",
       "      <th>Epifix or epicord, per square centimeter</th>\n",
       "      <td>161.975351</td>\n",
       "      <td>126.948602</td>\n",
       "      <td>1.543785e+09</td>\n",
       "      <td>237.500000</td>\n",
       "      <td>27.000000</td>\n",
       "      <td>5138.000000</td>\n",
       "      <td>651189.589988</td>\n",
       "    </tr>\n",
       "    <tr>\n",
       "      <th>Q4148</th>\n",
       "      <th>Neox 1k, per square centimeter</th>\n",
       "      <td>250.330000</td>\n",
       "      <td>196.258910</td>\n",
       "      <td>1.275593e+09</td>\n",
       "      <td>27.000000</td>\n",
       "      <td>11.000000</td>\n",
       "      <td>211.000000</td>\n",
       "      <td>41410.629999</td>\n",
       "    </tr>\n",
       "    <tr>\n",
       "      <th>Q9965</th>\n",
       "      <th>Low osmolar contrast material, 100-199 mg/ml iodine concentration, per ml</th>\n",
       "      <td>0.834526</td>\n",
       "      <td>0.654269</td>\n",
       "      <td>1.609892e+09</td>\n",
       "      <td>111.000000</td>\n",
       "      <td>70.000000</td>\n",
       "      <td>5786.000000</td>\n",
       "      <td>3785.600000</td>\n",
       "    </tr>\n",
       "    <tr>\n",
       "      <th>Q9966</th>\n",
       "      <th>Low osmolar contrast material, 200-299 mg/ml iodine concentration, per ml</th>\n",
       "      <td>0.246482</td>\n",
       "      <td>0.192448</td>\n",
       "      <td>1.531503e+09</td>\n",
       "      <td>93.891892</td>\n",
       "      <td>65.135135</td>\n",
       "      <td>5398.270270</td>\n",
       "      <td>1006.445676</td>\n",
       "    </tr>\n",
       "    <tr>\n",
       "      <th>Q9967</th>\n",
       "      <th>Low osmolar contrast material, 300-399 mg/ml iodine concentration, per ml</th>\n",
       "      <td>0.124234</td>\n",
       "      <td>0.096476</td>\n",
       "      <td>1.518484e+09</td>\n",
       "      <td>100.416216</td>\n",
       "      <td>74.827027</td>\n",
       "      <td>6281.327027</td>\n",
       "      <td>607.191405</td>\n",
       "    </tr>\n",
       "  </tbody>\n",
       "</table>\n",
       "<p>44747 rows × 7 columns</p>\n",
       "</div>"
      ],
      "text/plain": [
       "                                                                                  Average Medicare Allowed Amount  \\\n",
       "Provider Type      HCPCS Code HCPCS Description                                                                     \n",
       "Addiction Medicine 36415      Insertion of needle into vein for collection of...                         3.000000   \n",
       "                   36556      Insertion of central venous catheter for infusi...                       112.510000   \n",
       "                   36620      Insertion of arterial catheter for blood sampli...                        47.990000   \n",
       "                   70100      X-ray of mandible, less than 4 views                                      12.624219   \n",
       "                   70310      X-ray of teeth, less than full mouth                                      12.237704   \n",
       "...                                                                                                           ...   \n",
       "Vascular Surgery   Q4131      Epifix or epicord, per square centimeter                                 161.975351   \n",
       "                   Q4148      Neox 1k, per square centimeter                                           250.330000   \n",
       "                   Q9965      Low osmolar contrast material, 100-199 mg/ml io...                         0.834526   \n",
       "                   Q9966      Low osmolar contrast material, 200-299 mg/ml io...                         0.246482   \n",
       "                   Q9967      Low osmolar contrast material, 300-399 mg/ml io...                         0.124234   \n",
       "\n",
       "                                                                                  Average Medicare Payment Amount  \\\n",
       "Provider Type      HCPCS Code HCPCS Description                                                                     \n",
       "Addiction Medicine 36415      Insertion of needle into vein for collection of...                         2.933529   \n",
       "                   36556      Insertion of central venous catheter for infusi...                        88.210000   \n",
       "                   36620      Insertion of arterial catheter for blood sampli...                        37.620000   \n",
       "                   70100      X-ray of mandible, less than 4 views                                       9.532713   \n",
       "                   70310      X-ray of teeth, less than full mouth                                       9.257998   \n",
       "...                                                                                                           ...   \n",
       "Vascular Surgery   Q4131      Epifix or epicord, per square centimeter                                 126.948602   \n",
       "                   Q4148      Neox 1k, per square centimeter                                           196.258910   \n",
       "                   Q9965      Low osmolar contrast material, 100-199 mg/ml io...                         0.654269   \n",
       "                   Q9966      Low osmolar contrast material, 200-299 mg/ml io...                         0.192448   \n",
       "                   Q9967      Low osmolar contrast material, 300-399 mg/ml io...                         0.096476   \n",
       "\n",
       "                                                                                  National Provider Identifier  \\\n",
       "Provider Type      HCPCS Code HCPCS Description                                                                  \n",
       "Addiction Medicine 36415      Insertion of needle into vein for collection of...                  1.443171e+09   \n",
       "                   36556      Insertion of central venous catheter for infusi...                  1.770876e+09   \n",
       "                   36620      Insertion of arterial catheter for blood sampli...                  1.770876e+09   \n",
       "                   70100      X-ray of mandible, less than 4 views                                1.306066e+09   \n",
       "                   70310      X-ray of teeth, less than full mouth                                1.306066e+09   \n",
       "...                                                                                                        ...   \n",
       "Vascular Surgery   Q4131      Epifix or epicord, per square centimeter                            1.543785e+09   \n",
       "                   Q4148      Neox 1k, per square centimeter                                      1.275593e+09   \n",
       "                   Q9965      Low osmolar contrast material, 100-199 mg/ml io...                  1.609892e+09   \n",
       "                   Q9966      Low osmolar contrast material, 200-299 mg/ml io...                  1.531503e+09   \n",
       "                   Q9967      Low osmolar contrast material, 300-399 mg/ml io...                  1.518484e+09   \n",
       "\n",
       "                                                                                  Number of Distinct Medicare Beneficiary/Per Day Services  \\\n",
       "Provider Type      HCPCS Code HCPCS Description                                                                                              \n",
       "Addiction Medicine 36415      Insertion of needle into vein for collection of...                                          85.000000          \n",
       "                   36556      Insertion of central venous catheter for infusi...                                          11.000000          \n",
       "                   36620      Insertion of arterial catheter for blood sampli...                                          13.000000          \n",
       "                   70100      X-ray of mandible, less than 4 views                                                       293.500000          \n",
       "                   70310      X-ray of teeth, less than full mouth                                                       293.500000          \n",
       "...                                                                                                                             ...          \n",
       "Vascular Surgery   Q4131      Epifix or epicord, per square centimeter                                                   237.500000          \n",
       "                   Q4148      Neox 1k, per square centimeter                                                              27.000000          \n",
       "                   Q9965      Low osmolar contrast material, 100-199 mg/ml io...                                         111.000000          \n",
       "                   Q9966      Low osmolar contrast material, 200-299 mg/ml io...                                          93.891892          \n",
       "                   Q9967      Low osmolar contrast material, 300-399 mg/ml io...                                         100.416216          \n",
       "\n",
       "                                                                                  Number of Medicare Beneficiaries  \\\n",
       "Provider Type      HCPCS Code HCPCS Description                                                                      \n",
       "Addiction Medicine 36415      Insertion of needle into vein for collection of...                         52.285714   \n",
       "                   36556      Insertion of central venous catheter for infusi...                         11.000000   \n",
       "                   36620      Insertion of arterial catheter for blood sampli...                         12.000000   \n",
       "                   70100      X-ray of mandible, less than 4 views                                      255.000000   \n",
       "                   70310      X-ray of teeth, less than full mouth                                      255.000000   \n",
       "...                                                                                                            ...   \n",
       "Vascular Surgery   Q4131      Epifix or epicord, per square centimeter                                   27.000000   \n",
       "                   Q4148      Neox 1k, per square centimeter                                             11.000000   \n",
       "                   Q9965      Low osmolar contrast material, 100-199 mg/ml io...                         70.000000   \n",
       "                   Q9966      Low osmolar contrast material, 200-299 mg/ml io...                         65.135135   \n",
       "                   Q9967      Low osmolar contrast material, 300-399 mg/ml io...                         74.827027   \n",
       "\n",
       "                                                                                  Number of Services  \\\n",
       "Provider Type      HCPCS Code HCPCS Description                                                        \n",
       "Addiction Medicine 36415      Insertion of needle into vein for collection of...           85.000000   \n",
       "                   36556      Insertion of central venous catheter for infusi...           12.000000   \n",
       "                   36620      Insertion of arterial catheter for blood sampli...           13.000000   \n",
       "                   70100      X-ray of mandible, less than 4 views                        295.000000   \n",
       "                   70310      X-ray of teeth, less than full mouth                        295.000000   \n",
       "...                                                                                              ...   \n",
       "Vascular Surgery   Q4131      Epifix or epicord, per square centimeter                   5138.000000   \n",
       "                   Q4148      Neox 1k, per square centimeter                              211.000000   \n",
       "                   Q9965      Low osmolar contrast material, 100-199 mg/ml io...         5786.000000   \n",
       "                   Q9966      Low osmolar contrast material, 200-299 mg/ml io...         5398.270270   \n",
       "                   Q9967      Low osmolar contrast material, 300-399 mg/ml io...         6281.327027   \n",
       "\n",
       "                                                                                  Total Revenue  \n",
       "Provider Type      HCPCS Code HCPCS Description                                                  \n",
       "Addiction Medicine 36415      Insertion of needle into vein for collection of...     249.182857  \n",
       "                   36556      Insertion of central venous catheter for infusi...    1058.520000  \n",
       "                   36620      Insertion of arterial catheter for blood sampli...     489.060000  \n",
       "                   70100      X-ray of mandible, less than 4 views                  3484.260000  \n",
       "                   70310      X-ray of teeth, less than full mouth                  3532.445000  \n",
       "...                                                                                         ...  \n",
       "Vascular Surgery   Q4131      Epifix or epicord, per square centimeter            651189.589988  \n",
       "                   Q4148      Neox 1k, per square centimeter                       41410.629999  \n",
       "                   Q9965      Low osmolar contrast material, 100-199 mg/ml io...    3785.600000  \n",
       "                   Q9966      Low osmolar contrast material, 200-299 mg/ml io...    1006.445676  \n",
       "                   Q9967      Low osmolar contrast material, 300-399 mg/ml io...     607.191405  \n",
       "\n",
       "[44747 rows x 7 columns]"
      ]
     },
     "execution_count": 21,
     "metadata": {},
     "output_type": "execute_result"
    }
   ],
   "source": [
    "provider_no_office"
   ]
  },
  {
   "cell_type": "code",
   "execution_count": 22,
   "metadata": {},
   "outputs": [],
   "source": [
    "provider_no_office_sort_payment = individual_provider_payment_df_clean_no_office.sort_values([\"Provider Type\",\"Average Medicare Allowed Amount\"], ascending=False)"
   ]
  },
  {
   "cell_type": "code",
   "execution_count": 23,
   "metadata": {},
   "outputs": [],
   "source": [
    "provider_no_office_sort_revenue = individual_provider_payment_df_clean_no_office.sort_values([\"Provider Type\",\"Total Revenue\"], ascending=False)"
   ]
  },
  {
   "cell_type": "code",
   "execution_count": 35,
   "metadata": {
    "scrolled": true
   },
   "outputs": [
    {
     "name": "stdout",
     "output_type": "stream",
     "text": [
      "{'Vascular Surgery': ['37227', '37225', '37231', '37229', '37226'], 'Urology': ['Q2043', '55873', 'J2505', 'J9225', '51999'], 'Unknown Supplier/Provider Specialty': ['99291', '36556', '90791', '99239', '92014'], 'Undefined Physician type': ['50360', '22633', '63081', '33533', '22612'], 'Thoracic Surgery': ['37227', '37225', '37229', '33945', '32854'], 'Surgical Oncology': ['J2505', '19296', '48150', '48153', '47780'], 'Sports Medicine': ['23472', '27130', '27447', '29827', '27245'], 'Speech Language Pathologist': ['92616', '92612', '92523', '31579', '96125'], 'Slide Preparation Facility': ['88312', '88305'], 'Sleep Medicine': ['21080', '33361', '95811', '95810', '21085'], 'Rheumatology': ['J2505', 'J3590', '78815', 'J7327', 'J9310'], 'Registered Dietitian or Nutrition Professional': ['G0108', '97802', 'G0270', '97803', '99490'], 'Radiation Oncology': ['Q2043', '22513', '22514', 'G0339', 'J2505'], 'Pulmonary Disease': ['78815', '32654', '36478', '95811', '31652'], 'Psychologist, Clinical': ['70555', '96020', '99350', '99337', '90791'], 'Psychiatry': ['27447', '95811', '95810', '21085', '95953'], 'Preventive Medicine': ['95811', '95810', '65780', '66821', '78452'], 'Portable X-Ray Supplier': ['R0070', 'G0202', 'R0075', '73502', '73110'], 'Podiatry': ['36475', '15738', '36478', '27702', '27870'], 'Plastic and Reconstructive Surgery': ['L8679', '19364', '31296', '15757', '20969'], 'Physician Assistant': ['Q2043', 'L8679', 'J2505', 'J7999', '37227'], 'Physical Therapist in Private Practice': ['95913', '95912', '95911', '95910', '46930'], 'Physical Medicine and Rehabilitation': ['L8679', '22513', 'J3490', '22514', '36475'], 'Peripheral Vascular Disease': ['37227', '37231', '37225', '37226', '37229'], 'Pediatric Medicine': ['47135', '50360', '69930', '93580', '67042'], 'Pathology': ['L8679', '0008M', '81211', '81408', '52601'], 'Pain Management': ['L8679', '22514', '22513', 'J3490', '22515'], 'Otolaryngology': ['31296', '41155', '31295', '31297', '61580'], 'Osteopathic Manipulative Medicine': ['22513', '22514', '22633', '22551', '22612'], 'Orthopedic Surgery': ['22513', '22514', 'L8679', '22515', '22633'], 'Oral Surgery (Dentist only)': ['21215', '21088', '21210', '21208', '21080'], 'Optometry': ['65778', '65770', '67113', '65756', '67108'], 'Ophthalmology': ['65778', '67420', '67113', '67218', '65756'], 'Occupational Therapist in Private Practice': ['95909', '97166', '97165', '97167', '96125'], 'Obstetrics & Gynecology': ['47135', '58548', '50360', '23472', '49205'], 'Nurse Practitioner': ['Q2043', 'J3490', 'L8679', 'J2505', 'J0202'], 'Nuclear Medicine': ['Q9983', 'A9586', 'Q9982', 'A9599', 'A9584'], 'Neurosurgery': ['22513', '22514', '61697', '22515', '61608'], 'Neuropsychiatry': ['22633', '22551', '61154', '22612', '63042'], 'Neurology': ['J3590', 'J3490', 'L8679', '22513', 'J2505'], 'Nephrology': ['36906', '36903', '37241', '37238', '37236'], 'Medical Toxicology': ['99285', '99284'], 'Medical Oncology': ['J3590', 'J2505', 'J3490', 'A9586', '77301'], 'Maxillofacial Surgery': ['21210', '21081', '21080', '21079', '38724'], 'Mass Immunizer Roster Biller': ['90670', '90732', '90653', '90662', 'G0008'], 'Licensed Clinical Social Worker': ['G0483', '99328', '92523', '99337', '90839'], 'Interventional Radiology': ['37227', '37231', '37225', '37229', '36906'], 'Interventional Pain Management': ['22514', '22513', 'L8679', '22515', 'J7999'], 'Interventional Cardiology': ['37227', '37225', '37229', '37226', '37241'], 'Internal Medicine': ['37227', '37225', '37231', '37229', '36906'], 'Infectious Disease': ['J3590', 'J9310', '45190', '87507', '78452'], 'Independent Diagnostic Testing Facility (IDTF)': ['93975', '93925', '93306', '93880', '93970'], 'Hospitalist': ['L8679', '92928', '99291', '95811', '95810'], 'Hospice and Palliative Care': ['64635', '99291', 'G6015', '93306', '99220'], 'Hematology-Oncology': ['Q2043', 'J7192', 'J3590', 'J9999', 'J3490'], 'Hematology': ['J9999', 'J3490', 'J2505', '78816', '78815'], 'Hand Surgery': ['23472', '23474', '19357', '20969', '27447'], 'Gynecological Oncology': ['J2505', '58954', '58548', '58953', '58210'], 'Geriatric Psychiatry': ['95816', '95957', '99328', 'G0505', '90867'], 'Geriatric Medicine': ['43644', '36478', '95811', '95810', '43775'], 'General Surgery': ['37227', '37225', '37229', '36906', '36903'], 'General Practice': ['37227', '37225', '37229', 'L8679', '36903'], 'Gastroenterology': ['45388', '49906', '43860', '43499', '43249'], 'Family Practice': ['J3590', 'L8679', 'J0600', 'J2505', '36475'], 'Endocrinology': ['J2505', '36516', 'J3240', '80418', 'J3490'], 'Emergency Medicine': ['37227', '37225', 'L8679', '37229', '37238'], 'Diagnostic Radiology': ['37227', '37225', '37243', '37229', '37231'], 'Dermatology': ['37241', '36475', '27059', '36473', '15734'], 'Dentist': ['21215', '21210', '21085', '14040', '30580'], 'Critical Care (Intensivists)': ['36906', '36903', '47135', '36908', '48153'], 'Colorectal Surgery (Proctology)': ['45388', '46744', '44207', '50360', '44143'], 'Clinical Laboratory': ['87633', '81226', '81225', '83970', '82652'], 'Clinical Cardiac Electrophysiology': ['78492', '93656', '36475', '15734', '33418'], 'Clinic or Group Practice': ['32663', '27245', '23472', '63047', '32666'], 'Chiropractic': ['84234', '97162', '98942', '98941', '97164'], 'Certified Registered Nurse Anesthetist (CRNA)': ['00562', '00567', '00563', '00566', '00670'], 'Certified Nurse Midwife': ['99345', 'G0438', '36590', '51728', '99350'], 'Certified Clinical Nurse Specialist': ['L8679', 'J3240', 'G0483', '33533', '61867'], 'Cardiology': ['37227', '37225', '37229', '37231', '37226'], 'Cardiac Surgery': ['37227', 'J3590', '37225', '37229', '33945'], 'Audiologist': ['95913', '92585', '92603', '95930', '92700'], 'Anesthesiology Assistant': ['00563', '00562', '00670', '00567', '00566'], 'Anesthesiology': ['L8679', '22514', '22513', '37238', 'J3490'], 'Ambulance Service Provider': ['A0434', 'A0427', 'A0429', 'A0428', 'A0425'], 'Allergy/ Immunology': ['J3590', '78815', '78816', 'J9310', '87633'], 'All Other Suppliers': ['90670', '90732', '90653', '90662', 'G0009'], 'Advanced Heart Failure and Transplant Cardiology': ['93505', '99291', '36556', '99239', '78492'], 'Addiction Medicine': ['G0483', 'G0482', '99291', 'G0481', '99220']}\n"
     ]
    }
   ],
   "source": [
    "# provider type top 5 by average allowed amount\n",
    "\n",
    "provider_no_office_payment_dict = {}\n",
    "for i, v in provider_no_office_sort_payment.iterrows():\n",
    "    if v['Provider Type'] not in provider_no_office_payment_dict.keys():\n",
    "        provider_no_office_payment_dict[v['Provider Type']]=[v['HCPCS Code']]\n",
    "    elif (len(provider_no_office_payment_dict[v['Provider Type']]) < 5) & (v['HCPCS Code'] not in provider_no_office_payment_dict[v['Provider Type']]):\n",
    "        provider_no_office_payment_dict[v['Provider Type']].append(v['HCPCS Code'])\n",
    "    else:\n",
    "        continue\n",
    "\n",
    "print(provider_no_office_payment_dict)\n",
    "        "
   ]
  },
  {
   "cell_type": "code",
   "execution_count": 40,
   "metadata": {},
   "outputs": [
    {
     "name": "stdout",
     "output_type": "stream",
     "text": [
      "{'Vascular Surgery': ['34848', '33427', '50360', '33405', '34847'], 'Urology': ['51999', '50360', '51596', '51595', '50547'], 'Unknown Supplier/Provider Specialty': ['99291', '36556', '90791', '99239', '90834'], 'Undefined Physician type': ['50360', '22633', '63081', '33533', '22612'], 'Thoracic Surgery': ['33945', '32854', '32853', '33916', '33863'], 'Surgical Oncology': ['48150', '48153', '47780', '47120', '47379'], 'Sports Medicine': ['23472', '27130', '27447', '29827', '27245'], 'Speech Language Pathologist': ['92523', '31579', '92611', '92526', '92597'], 'Sleep Medicine': ['33361', '92928', '93460', '93456', '95951'], 'Rheumatology': ['29870', '20926', '99291', '42405', 'G0438'], 'Registered Dietitian or Nutrition Professional': ['G0108', '97802', '97803', 'G0270', '97804'], 'Radiation Oncology': ['G0340', 'G0339', '77301', '55875', '77435'], 'Pulmonary Disease': ['32654', '37225', '92928', '37226', '31600'], 'Psychologist, Clinical': ['90791', '99306', '96020', '90792', '90837'], 'Psychiatry': ['27447', '77301', '95951', '90867', '99291'], 'Preventive Medicine': ['65780', '36475', '22310', '11044', '11043'], 'Portable X-Ray Supplier': ['R0070', 'R0075', 'Q0092', '71010', '73502'], 'Podiatry': ['15738', '27702', '27870', '20692', '13160'], 'Plastic and Reconstructive Surgery': ['19364', '15757', '20969', '15758', '15756'], 'Physician Assistant': ['47135', '15260', '14301', '14061', '15240'], 'Physical Therapist in Private Practice': ['95911', '95910', '95909', '97161', '95886'], 'Physical Medicine and Rehabilitation': ['22551', '63056', '22612', '27447', '23472'], 'Peripheral Vascular Disease': ['37241', '33533', '35301', '22558', '37215'], 'Pediatric Medicine': ['47135', '50360', '69930', '93580', '67042'], 'Pathology': ['52601', '14301', '15260', '14061', '14041'], 'Pain Management': ['63056', '0275T', '00562', '00567', '64712'], 'Otolaryngology': ['41155', '61580', '61590', '20969', '15757'], 'Osteopathic Manipulative Medicine': ['22633', '22551', '22612', '27447', '27130'], 'Orthopedic Surgery': ['22633', '27134', '22551', '27487', '22612'], 'Oral Surgery (Dentist only)': ['21146', '21145', '21141', '21198', '15732'], 'Optometry': ['65770', '67113', '65756', '67108', '67042'], 'Ophthalmology': ['67420', '67113', '67218', '65756', '67108'], 'Occupational Therapist in Private Practice': ['97530'], 'Obstetrics & Gynecology': ['47135', '58548', '50360', '23472', '49205'], 'Nurse Practitioner': ['L8681', '33860', '33430', '33405', '22551'], 'Nuclear Medicine': ['33361', '92928', '37243', '22510', '93460'], 'Neurosurgery': ['61697', '61608', '61512', '61616', '61867'], 'Neuropsychiatry': ['22633', '22551', '61154', '22612', '63042'], 'Neurology': ['61867', '61510', '22633', '22551', '61312'], 'Nephrology': ['50360', '50547', '36832', '36818', '36821'], 'Medical Toxicology': ['99285', '99284'], 'Medical Oncology': ['77301', '45385', '99291', '77295', '77338'], 'Maxillofacial Surgery': ['21080', '38724', '21244', '21240', '29804'], 'Licensed Clinical Social Worker': ['90839', '90837', '90791', '90834', '90847'], 'Interventional Radiology': ['61624', '37215', '33880', '34804', '35301'], 'Interventional Pain Management': ['0275T', '63047', '62380', '92941', '62287'], 'Interventional Cardiology': ['33418', '33366', '33362', '92986', '34804'], 'Internal Medicine': ['33427', '33430', '33405', '33418', '33464'], 'Infectious Disease': ['99291', '43244', '99220', '45385', '36558'], 'Hospitalist': ['92928', '99291', '99236', '99220', '92950'], 'Hospice and Palliative Care': ['99291', '99220', '99306', '43255', '43246'], 'Hematology-Oncology': ['19301', '77435', '77301', '77778', '99291'], 'Hematology': ['99291', 'G9678', '99220', '38241', '99235'], 'Hand Surgery': ['23472', '23474', '19357', '20969', '27447'], 'Gynecological Oncology': ['58954', '58548', '58953', '58210', '50715'], 'Geriatric Psychiatry': ['99306', '99285', '99220', '90792', '99310'], 'Geriatric Medicine': ['43644', '43775', '45390', '33533', '99291'], 'General Surgery': ['47135', '33916', '48153', '33877', '48150'], 'General Practice': ['47135', '50360', '33533', '44207', '43281'], 'Gastroenterology': ['49906', '43860', '43499', '43279', '67042'], 'Family Practice': ['27447', '15823', '27006', '23405', '66984'], 'Endocrinology': ['60500', '60502', '43276', '43274', '99291'], 'Emergency Medicine': ['27132', '22633', '33405', '33533', '22551'], 'Diagnostic Radiology': ['33533', '61635', '61624', '27447', '33881'], 'Dermatology': ['15731', '15260', '14301', '14061', '14041'], 'Dentist': ['70355'], 'Critical Care (Intensivists)': ['47135', '48153', '50360', '48999', '47379'], 'Colorectal Surgery (Proctology)': ['46744', '44207', '50360', '44143', '44145'], 'Clinical Cardiac Electrophysiology': ['93656', '15734', '33418', '33249', '93654'], 'Clinic or Group Practice': ['32663', '27245', '23472', '63047', '32666'], 'Chiropractic': ['98942', '98941', '99282', '98940'], 'Certified Registered Nurse Anesthetist (CRNA)': ['00562', '00567', '00563', '00566', '00670'], 'Certified Nurse Midwife': ['99219', 'G0439', '99284', '57160', 'G0101'], 'Certified Clinical Nurse Specialist': ['33533', '61867', '27130', '22551', '99291'], 'Cardiology': ['33863', '33463', '33860', '33430', '33533'], 'Cardiac Surgery': ['33945', '47135', '33916', '33860', '33863'], 'Audiologist': ['95913', '95939', '95864', '95863', '92585'], 'Anesthesiology Assistant': ['00563', '00562', '00670', '00567', '00566'], 'Anesthesiology': ['00567', '00562', '00796', '00563', '00560'], 'Ambulance Service Provider': ['A0434', 'A0427', 'A0429', 'A0428', 'A0425'], 'Allergy/ Immunology': ['30140', '30520', '99220', '00840', '99291'], 'Advanced Heart Failure and Transplant Cardiology': ['93505', '99291', '36556', '99239', '78492'], 'Addiction Medicine': ['99291', '99220', '99285', '99306', '90792']}\n"
     ]
    }
   ],
   "source": [
    "# facilities top 5 by average allowed amount\n",
    "\n",
    "facilities_top_five_avg_pmt = provider_no_office_sort_payment[provider_no_office_sort_payment[\"Place of Service\"] == \"F\"]\n",
    "\n",
    "facilities_top_five_avg_pmt_dict = {}\n",
    "for i, v in facilities_top_five_avg_pmt.iterrows():\n",
    "    if v['Provider Type'] not in facilities_top_five_avg_pmt_dict.keys():\n",
    "        facilities_top_five_avg_pmt_dict[v['Provider Type']]=[v['HCPCS Code']]\n",
    "    elif (len(facilities_top_five_avg_pmt_dict[v['Provider Type']]) < 5) & (v['HCPCS Code'] not in facilities_top_five_avg_pmt_dict[v['Provider Type']]):\n",
    "        facilities_top_five_avg_pmt_dict[v['Provider Type']].append(v['HCPCS Code'])\n",
    "    else:\n",
    "        continue\n",
    "\n",
    "print(facilities_top_five_avg_pmt_dict)"
   ]
  },
  {
   "cell_type": "code",
   "execution_count": 42,
   "metadata": {},
   "outputs": [
    {
     "name": "stdout",
     "output_type": "stream",
     "text": [
      "{'Vascular Surgery': ['37227', '37225', '37231', '37229', '37226'], 'Urology': ['Q2043', '55873', 'J2505', 'J9225', 'G0339'], 'Unknown Supplier/Provider Specialty': ['92014'], 'Undefined Physician type': ['78815', '78492', '14301', '14061', '15260'], 'Thoracic Surgery': ['37227', '37225', '37229', '37228', '37241'], 'Surgical Oncology': ['J2505', '19296', '78815', '60500', '19301'], 'Sports Medicine': ['23470', '29827', 'J7327', '29876', '23412'], 'Speech Language Pathologist': ['92616', '92612', '92523', '31579', '96125'], 'Slide Preparation Facility': ['88312', '88305'], 'Sleep Medicine': ['21080', '95811', '95810', '21085', '95827'], 'Rheumatology': ['J2505', 'J3590', '78815', 'J7327', 'J9310'], 'Registered Dietitian or Nutrition Professional': ['G0108', '97802', 'G0270', '97803', '99490'], 'Radiation Oncology': ['Q2043', '22513', '22514', 'G0339', 'J2505'], 'Pulmonary Disease': ['78815', '36478', '95811', '31652', '95810'], 'Psychologist, Clinical': ['70555', '96020', '99350', '99337', '90791'], 'Psychiatry': ['95811', '95810', '21085', '95953', '95816'], 'Preventive Medicine': ['95811', '95810', '66821', '78452', '99496'], 'Portable X-Ray Supplier': ['R0070', 'G0202', 'R0075', '73502', '73110'], 'Podiatry': ['36475', '36478', '28298', '28299', '28296'], 'Plastic and Reconstructive Surgery': ['L8679', '31296', '19357', '36475', '15734'], 'Physician Assistant': ['Q2043', 'L8679', 'J2505', 'J7999', '37227'], 'Physical Therapist in Private Practice': ['95913', '95912', '95911', '95910', '46930'], 'Physical Medicine and Rehabilitation': ['L8679', '22513', 'J3490', '22514', '36475'], 'Peripheral Vascular Disease': ['37227', '37231', '37225', '37226', '37229'], 'Pediatric Medicine': ['J0178', 'J7327', '95811', '95808', 'J9310'], 'Pathology': ['L8679', '0008M', '81211', '81408', '81450'], 'Pain Management': ['L8679', '22514', '22513', 'J3490', '22515'], 'Otolaryngology': ['31296', '31295', '31297', '69645', '69930'], 'Osteopathic Manipulative Medicine': ['22513', '22514', 'J7327', '95811', 'J7326'], 'Orthopedic Surgery': ['22513', '22514', 'L8679', '22515', '36475'], 'Oral Surgery (Dentist only)': ['21215', '21088', '21210', '21208', '21080'], 'Optometry': ['65778', 'J0178', '67210', '66984', 'J2778'], 'Ophthalmology': ['65778', '67218', '15732', '67414', '67042'], 'Occupational Therapist in Private Practice': ['95909', '97166', '97165', '97167', '96125'], 'Obstetrics & Gynecology': ['36473', '36475', '58558', '64561', '36478'], 'Nurse Practitioner': ['Q2043', 'J3490', 'L8679', 'J2505', 'J0202'], 'Nuclear Medicine': ['Q9983', 'A9586', 'Q9982', 'A9599', 'A9584'], 'Neurosurgery': ['22513', '22514', '22515', 'G0339', '36226'], 'Neuropsychiatry': ['95811', '95810', '95953', '95819', '95816'], 'Neurology': ['J3590', 'J3490', 'L8679', '22513', 'J2505'], 'Nephrology': ['36906', '36903', '37241', '37238', '37236'], 'Medical Oncology': ['J3590', 'J2505', 'J3490', 'A9586', '77301'], 'Maxillofacial Surgery': ['21210', '21081', '21080', '21079', '14301'], 'Mass Immunizer Roster Biller': ['90670', '90732', '90653', '90662', 'G0008'], 'Licensed Clinical Social Worker': ['G0483', '99328', '92523', '99337', '90791'], 'Interventional Radiology': ['37227', '37231', '37225', '37229', '36906'], 'Interventional Pain Management': ['22514', '22513', 'L8679', '22515', 'J7999'], 'Interventional Cardiology': ['37227', '37225', '37229', '37226', '37241'], 'Internal Medicine': ['37227', '37225', '37231', '37229', '36906'], 'Infectious Disease': ['J3590', 'J9310', '45190', '87507', '78452'], 'Independent Diagnostic Testing Facility (IDTF)': ['93975', '93925', '93306', '93880', '93970'], 'Hospitalist': ['L8679', '95811', '95810', '90960', '99496'], 'Hospice and Palliative Care': ['64635', 'G6015', '93306', 'G6013', '11043'], 'Hematology-Oncology': ['Q2043', 'J7192', 'J3590', 'J9999', 'J3490'], 'Hematology': ['J9999', 'J3490', 'J2505', '78816', '78815'], 'Hand Surgery': ['25609', '29827', '25115', 'J7327', '25447'], 'Gynecological Oncology': ['J2505', '58558', '78815', '58571', 'J9310'], 'Geriatric Psychiatry': ['95816', '95957', '99328', 'G0505', '90867'], 'Geriatric Medicine': ['36478', '95811', '95810', '37766', '91120'], 'General Surgery': ['37227', '37225', '37229', '36906', '36903'], 'General Practice': ['37227', '37225', '37229', 'L8679', '36903'], 'Gastroenterology': ['45388', '43249', '91112', '43213', '91110'], 'Family Practice': ['J3590', 'L8679', 'J0600', 'J2505', '36475'], 'Endocrinology': ['J2505', '36516', 'J3240', '80418', 'J3490'], 'Emergency Medicine': ['37227', '37225', 'L8679', '37229', '37238'], 'Diagnostic Radiology': ['37227', '37225', '37243', '37229', '37231'], 'Dermatology': ['37241', '36475', '27059', '36473', '15734'], 'Dentist': ['21215', '21210', '21085', '14040', '30580'], 'Critical Care (Intensivists)': ['36906', '36903', '36908', '36905', '36909'], 'Colorectal Surgery (Proctology)': ['45388', '36475', '64561', '14301', '45303'], 'Clinical Laboratory': ['87633', '81226', '81225', '83970', '82652'], 'Clinical Cardiac Electrophysiology': ['78492', '36475', 'A9555', '93656', '36478'], 'Clinic or Group Practice': ['13132', '66821', '12032', '65855', '31231'], 'Chiropractic': ['84234', '97162', '98942', '98941', '97164'], 'Certified Registered Nurse Anesthetist (CRNA)': ['64635', '00770', '00880', '01922', '01500'], 'Certified Nurse Midwife': ['99345', 'G0438', '36590', '51728', '99350'], 'Certified Clinical Nurse Specialist': ['L8679', 'J3240', 'G0483', '90960', '90670'], 'Cardiology': ['37227', '37225', '37229', '37231', '37226'], 'Cardiac Surgery': ['37227', 'J3590', '37225', '37229', '37228'], 'Audiologist': ['92585', '92603', '95930', '92700', '92546'], 'Anesthesiology Assistant': ['00140', '00300', '00400', '00103', '00145'], 'Anesthesiology': ['L8679', '22514', '22513', '37238', 'J3490'], 'Allergy/ Immunology': ['J3590', '78815', '78816', 'J9310', '87633'], 'All Other Suppliers': ['90670', '90732', '90653', '90662', 'G0009'], 'Advanced Heart Failure and Transplant Cardiology': ['78452', '93306', '93750', 'G0008', '90686'], 'Addiction Medicine': ['G0483', 'G0482', 'G0481', '99350', 'G0439']}\n"
     ]
    }
   ],
   "source": [
    "# in office top 5 by average allowed amount\n",
    "\n",
    "offices_top_five_avg_pmt = provider_no_office_sort_payment[provider_no_office_sort_payment[\"Place of Service\"] == \"O\"]\n",
    "\n",
    "offices_top_five_avg_pmt_dict = {}\n",
    "for i, v in offices_top_five_avg_pmt.iterrows():\n",
    "    if v['Provider Type'] not in offices_top_five_avg_pmt_dict.keys():\n",
    "        offices_top_five_avg_pmt_dict[v['Provider Type']]=[v['HCPCS Code']]\n",
    "    elif (len(offices_top_five_avg_pmt_dict[v['Provider Type']]) < 5) & (v['HCPCS Code'] not in offices_top_five_avg_pmt_dict[v['Provider Type']]):\n",
    "        offices_top_five_avg_pmt_dict[v['Provider Type']].append(v['HCPCS Code'])\n",
    "    else:\n",
    "        continue\n",
    "        \n",
    "print(offices_top_five_avg_pmt_dict)"
   ]
  },
  {
   "cell_type": "code",
   "execution_count": 36,
   "metadata": {},
   "outputs": [
    {
     "name": "stdout",
     "output_type": "stream",
     "text": [
      "{'Vascular Surgery': ['37229', '37225', '37228', '37225', '37227'], 'Urology': ['Q2043', 'Q2043', 'Q2043', 'Q2043', 'Q2043'], 'Unknown Supplier/Provider Specialty': ['99291', '90834', '99239', '90832', '90791'], 'Undefined Physician type': ['93306', 'A9500', '78452', '94004', '36475'], 'Thoracic Surgery': ['37225', '37229', '37227', '36473', '37229'], 'Surgical Oncology': ['G9678', '93990', 'G0204', '17311', 'J2505'], 'Sports Medicine': ['J7321', '27370', '73580', '77002', 'J7324'], 'Speech Language Pathologist': ['92507', '92507', '92609', '92507', '92507'], 'Slide Preparation Facility': ['88305', '88312'], 'Sleep Medicine': ['J2357', '95811', '95810', '95811', 'J2357'], 'Rheumatology': ['J1745', 'J1745', 'J1745', 'J1602', 'J9310'], 'Registered Dietitian or Nutrition Professional': ['G0108', '97803', 'G0270', 'G0270', 'G0270'], 'Radiation Oncology': ['77523', '77522', '77523', 'A9606', '77525'], 'Pulmonary Disease': ['J2357', 'J2357', 'J2357', 'J2357', 'J2357'], 'Psychologist, Clinical': ['90832', '96118', '90832', '90837', '90837'], 'Psychiatry': ['90832', '99308', '90837', 'J2323', '90868'], 'Preventive Medicine': ['27370', 'J7320', 'G0181', '77002', 'J7321'], 'Portable X-Ray Supplier': ['R0070', 'R0070', 'R0070', 'R0070', 'Q0092'], 'Podiatry': ['Q4131', 'Q4131', 'Q4131', 'Q4131', 'Q4131'], 'Plastic and Reconstructive Surgery': ['Q4131', 'Q4131', '17311', 'L8679', '17311'], 'Physician Assistant': ['J1745', 'J1745', 'L8679', 'J7999', 'J0129'], 'Physical Therapist in Private Practice': ['97113', '97530', '97530', '97110', '97110'], 'Physical Medicine and Rehabilitation': ['G0483', 'G0482', 'J7325', '99309', 'G0482'], 'Peripheral Vascular Disease': ['37227', '37231', '37229', '37799', '36475'], 'Pediatric Medicine': ['J1745', 'J1745', 'J1569', 'J1561', 'J0129'], 'Pathology': ['87507', '88305', '88120', '88305', '88305'], 'Pain Management': ['J3490', 'G0483', 'G0483', 'J3490', 'G0483'], 'Otolaryngology': ['31296', '31525', '31295', '31296', '31296'], 'Osteopathic Manipulative Medicine': ['J9041', 'J9035', 'J7321', '97110', 'J0881'], 'Orthopedic Surgery': ['22514', '27447', '27447', '27447', '27447'], 'Oral Surgery (Dentist only)': ['21215', '21210', '21215', '21079', '21208'], 'Optometry': ['65778', 'J2778', '65778', '92014', '65778'], 'Ophthalmology': ['J2778', 'J0178', 'J0178', 'J2778', 'J0178'], 'Occupational Therapist in Private Practice': ['97535', '97112', '97110', '97110', '97110'], 'Obstetrics & Gynecology': ['J1212', '27370', 'G0483', 'G0277', '88305'], 'Nurse Practitioner': ['L8679', 'L8679', 'L8679', 'L8679', 'J1745'], 'Nuclear Medicine': ['A9606', 'A9606', '78815', 'A9606', '78815'], 'Neurosurgery': ['22513', '22514', '22514', 'J2274', '99496'], 'Neuropsychiatry': ['J2323', 'J0585', 'J0585', '99309', 'J0585'], 'Neurology': ['J0202', 'J2323', 'J2323', 'J1566', 'J2323'], 'Nephrology': ['J9310', '36903', 'J9310', '36902', '36905'], 'Medical Toxicology': ['99285', '99284'], 'Medical Oncology': ['G9678', 'J9145', 'G9678', 'J9145', 'J9299'], 'Maxillofacial Surgery': ['77280', '14041', '21110', '88305', '21210'], 'Mass Immunizer Roster Biller': ['90670', 'G0008', 'G0008', '90670', '90686'], 'Licensed Clinical Social Worker': ['90837', '90837', '90837', '90834', '90837'], 'Interventional Radiology': ['37229', '37229', '37225', '37227', '37225'], 'Interventional Pain Management': ['G0483', 'G0483', 'G0483', 'G0483', 'J3490'], 'Interventional Cardiology': ['37229', '37225', '37225', '37229', 'A9555'], 'Internal Medicine': ['G0166', 'J0878', 'J1745', '36902', 'J0897'], 'Infectious Disease': ['J2357', 'J1745', 'J3590', 'J1745', 'J0878'], 'Independent Diagnostic Testing Facility (IDTF)': ['93975', '93306', '93880', '93925', '93970'], 'Hospitalist': ['L8679', '99309', '99291', '99308', '99285'], 'Hospice and Palliative Care': ['99309', '99489', '99349', '99291', '99356'], 'Hematology-Oncology': ['G9678', 'J7192', 'J9043', 'J9299', 'J9035'], 'Hematology': ['J9035', 'J9035', 'J9310', 'J2505', 'J9310'], 'Hand Surgery': ['J0775', 'J0775', 'J0775', 'J0775', 'J0775'], 'Gynecological Oncology': ['J9035', 'J9035', 'J9035', 'J2505', 'J9035'], 'Geriatric Psychiatry': ['99336', '99334', '99309', '99308', '99309'], 'Geriatric Medicine': ['99308', '99309', '99309', '99309', '99309'], 'General Surgery': ['37225', '37229', '37227', '36475', '37225'], 'General Practice': ['37227', 'J0600', 'J0600', '36475', '37229'], 'Gastroenterology': ['J0178', 'J1459', '88305', 'J1745', 'J1745'], 'Family Practice': ['J0600', '27370', 'L8679', 'J1566', 'J2357'], 'Endocrinology': ['J0897', 'J0897', 'J0897', 'J0897', 'J0897'], 'Emergency Medicine': ['L8679', '36475', 'L8679', '90662', '37227'], 'Diagnostic Radiology': ['37229', '93890', '93886', '37227', '37227'], 'Dermatology': ['77280', '88305', '17311', '88305', '17311'], 'Dentist': ['21215', '21215', '21210', '21210', '21215'], 'Critical Care (Intensivists)': ['99291', '36906', '36903', '36902', '99337'], 'Colorectal Surgery (Proctology)': ['45388', '45388', '46500', '45303', '46604'], 'Clinical Laboratory': ['87633', '81226', '86003', '81225', '82306'], 'Clinical Cardiac Electrophysiology': ['93299', '78492', '78492', '93299', '78452'], 'Clinic or Group Practice': ['99285', '92012', '99285', '97110', '99220'], 'Chiropractic': ['98942', '98941', '98941', '98942', '98940'], 'Certified Registered Nurse Anesthetist (CRNA)': ['01936', '00142', '00142', '00142', '00142'], 'Certified Nurse Midwife': ['99350', '64566', '99349', '99345', '64566'], 'Certified Clinical Nurse Specialist': ['J0897', 'L8679', '90834', '99336', '99308'], 'Cardiology': ['78492', '37225', '37227', '78492', '37229'], 'Cardiac Surgery': ['37225', '37229', '37225', '37229', '36475'], 'Audiologist': ['92585', '95930', '92626', '92625', '92504'], 'Anesthesiology Assistant': ['00142', '00142', '00810', '00142', '00810'], 'Anesthesiology': ['G0482', '80307', 'G0483', 'G0483', 'G0483'], 'Ambulance Service Provider': ['A0428', 'A0428', 'A0428', 'A0425', 'A0428'], 'Allergy/ Immunology': ['95004', 'J2357', 'J1745', 'J2357', 'J1745'], 'All Other Suppliers': ['90662', 'G0008', '90670', 'G0008', '90670'], 'Advanced Heart Failure and Transplant Cardiology': ['99291', '99291', '99291', '93750', '99291'], 'Addiction Medicine': ['G0483', 'G0482', '90847', '90837', '80307']}\n"
     ]
    }
   ],
   "source": [
    "# provider type top 5 by revenue\n",
    "\n",
    "provider_no_office_revenue_dict = {}\n",
    "for i,v in provider_no_office_sort_revenue.iterrows():\n",
    "    if v['Provider Type'] not in provider_no_office_revenue_dict.keys():\n",
    "        provider_no_office_revenue_dict[v['Provider Type']]=[v['HCPCS Code']]\n",
    "    elif len(provider_no_office_revenue_dict[v['Provider Type']]) < 5 & (v['HCPCS Code'] not in provider_no_office_revenue_dict[v['Provider Type']]:\n",
    "        provider_no_office_revenue_dict[v['Provider Type']].append(v['HCPCS Code'])\n",
    "    else:\n",
    "        continue\n",
    "\n",
    "print(provider_no_office_revenue_dict)\n",
    "        "
   ]
  },
  {
   "cell_type": "code",
   "execution_count": 43,
   "metadata": {},
   "outputs": [
    {
     "name": "stdout",
     "output_type": "stream",
     "text": [
      "{'Vascular Surgery': ['34848', '33427', '50360', '33405', '34847'], 'Urology': ['51999', '50360', '51596', '51595', '50547'], 'Unknown Supplier/Provider Specialty': ['99291', '36556', '90791', '99239', '90834'], 'Undefined Physician type': ['50360', '22633', '63081', '33533', '22612'], 'Thoracic Surgery': ['33945', '32854', '32853', '33916', '33863'], 'Surgical Oncology': ['48150', '48153', '47780', '47120', '47379'], 'Sports Medicine': ['23472', '27130', '27447', '29827', '27245'], 'Speech Language Pathologist': ['92523', '31579', '92611', '92526', '92597'], 'Sleep Medicine': ['33361', '92928', '93460', '93456', '95951'], 'Rheumatology': ['29870', '20926', '99291', '42405', 'G0438'], 'Registered Dietitian or Nutrition Professional': ['G0108', '97802', '97803', 'G0270', '97804'], 'Radiation Oncology': ['G0340', 'G0339', '77301', '55875', '77435'], 'Pulmonary Disease': ['32654', '37225', '92928', '37226', '31600'], 'Psychologist, Clinical': ['90791', '99306', '96020', '90792', '90837'], 'Psychiatry': ['27447', '77301', '95951', '90867', '99291'], 'Preventive Medicine': ['65780', '36475', '22310', '11044', '11043'], 'Portable X-Ray Supplier': ['R0070', 'R0075', 'Q0092', '71010', '73502'], 'Podiatry': ['15738', '27702', '27870', '20692', '13160'], 'Plastic and Reconstructive Surgery': ['19364', '15757', '20969', '15758', '15756'], 'Physician Assistant': ['47135', '15260', '14301', '14061', '15240'], 'Physical Therapist in Private Practice': ['95911', '95910', '95909', '97161', '95886'], 'Physical Medicine and Rehabilitation': ['22551', '63056', '22612', '27447', '23472'], 'Peripheral Vascular Disease': ['37241', '33533', '35301', '22558', '37215'], 'Pediatric Medicine': ['47135', '50360', '69930', '93580', '67042'], 'Pathology': ['52601', '14301', '15260', '14061', '14041'], 'Pain Management': ['63056', '0275T', '00562', '00567', '64712'], 'Otolaryngology': ['41155', '61580', '61590', '20969', '15757'], 'Osteopathic Manipulative Medicine': ['22633', '22551', '22612', '27447', '27130'], 'Orthopedic Surgery': ['22633', '27134', '22551', '27487', '22612'], 'Oral Surgery (Dentist only)': ['21146', '21145', '21141', '21198', '15732'], 'Optometry': ['65770', '67113', '65756', '67108', '67042'], 'Ophthalmology': ['67420', '67113', '67218', '65756', '67108'], 'Occupational Therapist in Private Practice': ['97530'], 'Obstetrics & Gynecology': ['47135', '58548', '50360', '23472', '49205'], 'Nurse Practitioner': ['L8681', '33860', '33430', '33405', '22551'], 'Nuclear Medicine': ['33361', '92928', '37243', '22510', '93460'], 'Neurosurgery': ['61697', '61608', '61512', '61616', '61867'], 'Neuropsychiatry': ['22633', '22551', '61154', '22612', '63042'], 'Neurology': ['61867', '61510', '22633', '22551', '61312'], 'Nephrology': ['50360', '50547', '36832', '36818', '36821'], 'Medical Toxicology': ['99285', '99284'], 'Medical Oncology': ['77301', '45385', '99291', '77295', '77338'], 'Maxillofacial Surgery': ['21080', '38724', '21244', '21240', '29804'], 'Licensed Clinical Social Worker': ['90839', '90837', '90791', '90834', '90847'], 'Interventional Radiology': ['61624', '37215', '33880', '34804', '35301'], 'Interventional Pain Management': ['0275T', '63047', '62380', '92941', '62287'], 'Interventional Cardiology': ['33418', '33366', '33362', '92986', '34804'], 'Internal Medicine': ['33427', '33430', '33405', '33418', '33464'], 'Infectious Disease': ['99291', '43244', '99220', '45385', '36558'], 'Hospitalist': ['92928', '99291', '99236', '99220', '92950'], 'Hospice and Palliative Care': ['99291', '99220', '99306', '43255', '43246'], 'Hematology-Oncology': ['19301', '77435', '77301', '77778', '99291'], 'Hematology': ['99291', 'G9678', '99220', '38241', '99235'], 'Hand Surgery': ['23472', '23474', '19357', '20969', '27447'], 'Gynecological Oncology': ['58954', '58548', '58953', '58210', '50715'], 'Geriatric Psychiatry': ['99306', '99285', '99220', '90792', '99310'], 'Geriatric Medicine': ['43644', '43775', '45390', '33533', '99291'], 'General Surgery': ['47135', '33916', '48153', '33877', '48150'], 'General Practice': ['47135', '50360', '33533', '44207', '43281'], 'Gastroenterology': ['49906', '43860', '43499', '43279', '67042'], 'Family Practice': ['27447', '15823', '27006', '23405', '66984'], 'Endocrinology': ['60500', '60502', '43276', '43274', '99291'], 'Emergency Medicine': ['27132', '22633', '33405', '33533', '22551'], 'Diagnostic Radiology': ['33533', '61635', '61624', '27447', '33881'], 'Dermatology': ['15731', '15260', '14301', '14061', '14041'], 'Dentist': ['70355'], 'Critical Care (Intensivists)': ['47135', '48153', '50360', '48999', '47379'], 'Colorectal Surgery (Proctology)': ['46744', '44207', '50360', '44143', '44145'], 'Clinical Cardiac Electrophysiology': ['93656', '15734', '33418', '33249', '93654'], 'Clinic or Group Practice': ['32663', '27245', '23472', '63047', '32666'], 'Chiropractic': ['98942', '98941', '99282', '98940'], 'Certified Registered Nurse Anesthetist (CRNA)': ['00562', '00567', '00563', '00566', '00670'], 'Certified Nurse Midwife': ['99219', 'G0439', '99284', '57160', 'G0101'], 'Certified Clinical Nurse Specialist': ['33533', '61867', '27130', '22551', '99291'], 'Cardiology': ['33863', '33463', '33860', '33430', '33533'], 'Cardiac Surgery': ['33945', '47135', '33916', '33860', '33863'], 'Audiologist': ['95913', '95939', '95864', '95863', '92585'], 'Anesthesiology Assistant': ['00563', '00562', '00670', '00567', '00566'], 'Anesthesiology': ['00567', '00562', '00796', '00563', '00560'], 'Ambulance Service Provider': ['A0434', 'A0427', 'A0429', 'A0428', 'A0425'], 'Allergy/ Immunology': ['30140', '30520', '99220', '00840', '99291'], 'Advanced Heart Failure and Transplant Cardiology': ['93505', '99291', '36556', '99239', '78492'], 'Addiction Medicine': ['99291', '99220', '99285', '99306', '90792']}\n"
     ]
    }
   ],
   "source": [
    "# facilities top 5 by total revenue\n",
    "\n",
    "facilities_top_five_revenue = provider_no_office_sort_payment[provider_no_office_sort_payment[\"Place of Service\"] == \"F\"]\n",
    "\n",
    "facilities_top_five_revenue_dict = {}\n",
    "for i, v in facilities_top_five_revenue.iterrows():\n",
    "    if v['Provider Type'] not in facilities_top_five_revenue_dict.keys():\n",
    "        facilities_top_five_revenue_dict[v['Provider Type']]=[v['HCPCS Code']]\n",
    "    elif (len(facilities_top_five_revenue_dict[v['Provider Type']]) < 5) & (v['HCPCS Code'] not in facilities_top_five_revenue_dict[v['Provider Type']]):\n",
    "        facilities_top_five_revenue_dict[v['Provider Type']].append(v['HCPCS Code'])\n",
    "    else:\n",
    "        continue\n",
    "\n",
    "print(facilities_top_five_revenue_dict)"
   ]
  },
  {
   "cell_type": "code",
   "execution_count": 45,
   "metadata": {},
   "outputs": [
    {
     "name": "stdout",
     "output_type": "stream",
     "text": [
      "{'Vascular Surgery': ['37227', '37225', '37231', '37229', '37226'], 'Urology': ['Q2043', '55873', 'J2505', 'J9225', 'G0339'], 'Unknown Supplier/Provider Specialty': ['92014'], 'Undefined Physician type': ['78815', '78492', '14301', '14061', '15260'], 'Thoracic Surgery': ['37227', '37225', '37229', '37228', '37241'], 'Surgical Oncology': ['J2505', '19296', '78815', '60500', '19301'], 'Sports Medicine': ['23470', '29827', 'J7327', '29876', '23412'], 'Speech Language Pathologist': ['92616', '92612', '92523', '31579', '96125'], 'Slide Preparation Facility': ['88312', '88305'], 'Sleep Medicine': ['21080', '95811', '95810', '21085', '95827'], 'Rheumatology': ['J2505', 'J3590', '78815', 'J7327', 'J9310'], 'Registered Dietitian or Nutrition Professional': ['G0108', '97802', 'G0270', '97803', '99490'], 'Radiation Oncology': ['Q2043', '22513', '22514', 'G0339', 'J2505'], 'Pulmonary Disease': ['78815', '36478', '95811', '31652', '95810'], 'Psychologist, Clinical': ['70555', '96020', '99350', '99337', '90791'], 'Psychiatry': ['95811', '95810', '21085', '95953', '95816'], 'Preventive Medicine': ['95811', '95810', '66821', '78452', '99496'], 'Portable X-Ray Supplier': ['R0070', 'G0202', 'R0075', '73502', '73110'], 'Podiatry': ['36475', '36478', '28298', '28299', '28296'], 'Plastic and Reconstructive Surgery': ['L8679', '31296', '19357', '36475', '15734'], 'Physician Assistant': ['Q2043', 'L8679', 'J2505', 'J7999', '37227'], 'Physical Therapist in Private Practice': ['95913', '95912', '95911', '95910', '46930'], 'Physical Medicine and Rehabilitation': ['L8679', '22513', 'J3490', '22514', '36475'], 'Peripheral Vascular Disease': ['37227', '37231', '37225', '37226', '37229'], 'Pediatric Medicine': ['J0178', 'J7327', '95811', '95808', 'J9310'], 'Pathology': ['L8679', '0008M', '81211', '81408', '81450'], 'Pain Management': ['L8679', '22514', '22513', 'J3490', '22515'], 'Otolaryngology': ['31296', '31295', '31297', '69645', '69930'], 'Osteopathic Manipulative Medicine': ['22513', '22514', 'J7327', '95811', 'J7326'], 'Orthopedic Surgery': ['22513', '22514', 'L8679', '22515', '36475'], 'Oral Surgery (Dentist only)': ['21215', '21088', '21210', '21208', '21080'], 'Optometry': ['65778', 'J0178', '67210', '66984', 'J2778'], 'Ophthalmology': ['65778', '67218', '15732', '67414', '67042'], 'Occupational Therapist in Private Practice': ['95909', '97166', '97165', '97167', '96125'], 'Obstetrics & Gynecology': ['36473', '36475', '58558', '64561', '36478'], 'Nurse Practitioner': ['Q2043', 'J3490', 'L8679', 'J2505', 'J0202'], 'Nuclear Medicine': ['Q9983', 'A9586', 'Q9982', 'A9599', 'A9584'], 'Neurosurgery': ['22513', '22514', '22515', 'G0339', '36226'], 'Neuropsychiatry': ['95811', '95810', '95953', '95819', '95816'], 'Neurology': ['J3590', 'J3490', 'L8679', '22513', 'J2505'], 'Nephrology': ['36906', '36903', '37241', '37238', '37236'], 'Medical Oncology': ['J3590', 'J2505', 'J3490', 'A9586', '77301'], 'Maxillofacial Surgery': ['21210', '21081', '21080', '21079', '14301'], 'Mass Immunizer Roster Biller': ['90670', '90732', '90653', '90662', 'G0008'], 'Licensed Clinical Social Worker': ['G0483', '99328', '92523', '99337', '90791'], 'Interventional Radiology': ['37227', '37231', '37225', '37229', '36906'], 'Interventional Pain Management': ['22514', '22513', 'L8679', '22515', 'J7999'], 'Interventional Cardiology': ['37227', '37225', '37229', '37226', '37241'], 'Internal Medicine': ['37227', '37225', '37231', '37229', '36906'], 'Infectious Disease': ['J3590', 'J9310', '45190', '87507', '78452'], 'Independent Diagnostic Testing Facility (IDTF)': ['93975', '93925', '93306', '93880', '93970'], 'Hospitalist': ['L8679', '95811', '95810', '90960', '99496'], 'Hospice and Palliative Care': ['64635', 'G6015', '93306', 'G6013', '11043'], 'Hematology-Oncology': ['Q2043', 'J7192', 'J3590', 'J9999', 'J3490'], 'Hematology': ['J9999', 'J3490', 'J2505', '78816', '78815'], 'Hand Surgery': ['25609', '29827', '25115', 'J7327', '25447'], 'Gynecological Oncology': ['J2505', '58558', '78815', '58571', 'J9310'], 'Geriatric Psychiatry': ['95816', '95957', '99328', 'G0505', '90867'], 'Geriatric Medicine': ['36478', '95811', '95810', '37766', '91120'], 'General Surgery': ['37227', '37225', '37229', '36906', '36903'], 'General Practice': ['37227', '37225', '37229', 'L8679', '36903'], 'Gastroenterology': ['45388', '43249', '91112', '43213', '91110'], 'Family Practice': ['J3590', 'L8679', 'J0600', 'J2505', '36475'], 'Endocrinology': ['J2505', '36516', 'J3240', '80418', 'J3490'], 'Emergency Medicine': ['37227', '37225', 'L8679', '37229', '37238'], 'Diagnostic Radiology': ['37227', '37225', '37243', '37229', '37231'], 'Dermatology': ['37241', '36475', '27059', '36473', '15734'], 'Dentist': ['21215', '21210', '21085', '14040', '30580'], 'Critical Care (Intensivists)': ['36906', '36903', '36908', '36905', '36909'], 'Colorectal Surgery (Proctology)': ['45388', '36475', '64561', '14301', '45303'], 'Clinical Laboratory': ['87633', '81226', '81225', '83970', '82652'], 'Clinical Cardiac Electrophysiology': ['78492', '36475', 'A9555', '93656', '36478'], 'Clinic or Group Practice': ['13132', '66821', '12032', '65855', '31231'], 'Chiropractic': ['84234', '97162', '98942', '98941', '97164'], 'Certified Registered Nurse Anesthetist (CRNA)': ['64635', '00770', '00880', '01922', '01500'], 'Certified Nurse Midwife': ['99345', 'G0438', '36590', '51728', '99350'], 'Certified Clinical Nurse Specialist': ['L8679', 'J3240', 'G0483', '90960', '90670'], 'Cardiology': ['37227', '37225', '37229', '37231', '37226'], 'Cardiac Surgery': ['37227', 'J3590', '37225', '37229', '37228'], 'Audiologist': ['92585', '92603', '95930', '92700', '92546'], 'Anesthesiology Assistant': ['00140', '00300', '00400', '00103', '00145'], 'Anesthesiology': ['L8679', '22514', '22513', '37238', 'J3490'], 'Allergy/ Immunology': ['J3590', '78815', '78816', 'J9310', '87633'], 'All Other Suppliers': ['90670', '90732', '90653', '90662', 'G0009'], 'Advanced Heart Failure and Transplant Cardiology': ['78452', '93306', '93750', 'G0008', '90686'], 'Addiction Medicine': ['G0483', 'G0482', 'G0481', '99350', 'G0439']}\n"
     ]
    }
   ],
   "source": [
    "# in office top 5 by total revenue\n",
    "\n",
    "offices_top_five_revenue = provider_no_office_sort_payment[provider_no_office_sort_payment[\"Place of Service\"] == \"O\"]\n",
    "\n",
    "offices_top_five_revenue_dict = {}\n",
    "for i, v in offices_top_five_revenue.iterrows():\n",
    "    if v['Provider Type'] not in offices_top_five_revenue_dict.keys():\n",
    "        offices_top_five_revenue_dict[v['Provider Type']]=[v['HCPCS Code']]\n",
    "    elif (len(offices_top_five_revenue_dict[v['Provider Type']]) < 5) & (v['HCPCS Code'] not in offices_top_five_revenue_dict[v['Provider Type']]):\n",
    "        offices_top_five_revenue_dict[v['Provider Type']].append(v['HCPCS Code'])\n",
    "    else:\n",
    "        continue\n",
    "        \n",
    "print(offices_top_five_revenue_dict)"
   ]
  },
  {
   "cell_type": "code",
   "execution_count": null,
   "metadata": {},
   "outputs": [],
   "source": []
  },
  {
   "cell_type": "code",
   "execution_count": null,
   "metadata": {},
   "outputs": [],
   "source": []
  },
  {
   "cell_type": "code",
   "execution_count": null,
   "metadata": {},
   "outputs": [],
   "source": []
  },
  {
   "cell_type": "code",
   "execution_count": 40,
   "metadata": {},
   "outputs": [],
   "source": [
    "names = ['Amanda', 'Ness', 'Cat', 'Ben', 'Jacob', 'Sophia']\n"
   ]
  },
  {
   "cell_type": "code",
   "execution_count": 44,
   "metadata": {},
   "outputs": [
    {
     "name": "stdout",
     "output_type": "stream",
     "text": [
      "Ben\n"
     ]
    }
   ],
   "source": [
    "generator = names.pop(random.randrange(0,len(names),1))\n",
    "print(generator)"
   ]
  }
 ],
 "metadata": {
  "kernelspec": {
   "display_name": "Python 3",
   "language": "python",
   "name": "python3"
  },
  "language_info": {
   "codemirror_mode": {
    "name": "ipython",
    "version": 3
   },
   "file_extension": ".py",
   "mimetype": "text/x-python",
   "name": "python",
   "nbconvert_exporter": "python",
   "pygments_lexer": "ipython3",
   "version": "3.7.7"
  }
 },
 "nbformat": 4,
 "nbformat_minor": 4
}
