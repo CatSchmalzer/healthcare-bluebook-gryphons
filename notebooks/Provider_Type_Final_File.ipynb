{
 "cells": [
  {
   "cell_type": "code",
   "execution_count": 1,
   "metadata": {},
   "outputs": [],
   "source": [
    "import pandas as pd\n",
    "import pickle"
   ]
  },
  {
   "cell_type": "code",
   "execution_count": 2,
   "metadata": {
    "scrolled": true
   },
   "outputs": [
    {
     "name": "stdout",
     "output_type": "stream",
     "text": [
      "Wall time: 30 s\n"
     ]
    }
   ],
   "source": [
    "%%time\n",
    "\n",
    "individual_provider_payment_df_clean = pd.read_pickle(\"../data/individual_provider_payment.pkl\")"
   ]
  },
  {
   "cell_type": "code",
   "execution_count": 3,
   "metadata": {},
   "outputs": [],
   "source": [
    "# creating total revenue column\n",
    "\n",
    "individual_provider_payment_df_clean['Total Revenue'] = individual_provider_payment_df_clean['Average Medicare Allowed Amount'] * individual_provider_payment_df_clean['Number of Services']"
   ]
  },
  {
   "cell_type": "code",
   "execution_count": 4,
   "metadata": {},
   "outputs": [],
   "source": [
    "# creating groupings for codes\n",
    "\n",
    "HCPCS_Grouped_Code = []\n",
    "\n",
    "for value in individual_provider_payment_df_clean['HCPCS Code']:\n",
    "    if value.endswith(\"T\"):\n",
    "        HCPCS_Grouped_Code.append(\"0000T\")\n",
    "    else:\n",
    "        HCPCS_Grouped_Code.append(value[0:3] + \"00\")\n",
    "        \n",
    "     "
   ]
  },
  {
   "cell_type": "code",
   "execution_count": 5,
   "metadata": {},
   "outputs": [],
   "source": [
    "# adds column for Grouped Code\n",
    "\n",
    "individual_provider_payment_df_clean['HCPCS Grouped Code'] = HCPCS_Grouped_Code "
   ]
  },
  {
   "cell_type": "code",
   "execution_count": 6,
   "metadata": {},
   "outputs": [],
   "source": [
    "# write file with total revenue\n",
    "individual_provider_payment_df_clean.to_csv(\"../data/final_data_file.csv\", index=False)"
   ]
  },
  {
   "cell_type": "code",
   "execution_count": null,
   "metadata": {},
   "outputs": [],
   "source": []
  },
  {
   "cell_type": "markdown",
   "metadata": {},
   "source": [
    "# Extra code that was used for EDA but not for the final file in Tableau\n"
   ]
  },
  {
   "cell_type": "code",
   "execution_count": null,
   "metadata": {
    "scrolled": false
   },
   "outputs": [],
   "source": [
    "provider_type_sum_of_services = individual_provider_payment_df_clean_no_office.groupby('Provider Type', as_index=False)['Number of Services'].sum()\n",
    "\n",
    "provider_type_services = individual_provider_payment_df_clean_no_office.groupby(['Provider Type','HCPCS Code'], as_index=False)['Number of Services'].sum()\n",
    "\n",
    "provider_type_grouped_services = individual_provider_payment_df_clean_no_office.groupby(['Provider Type','HCPCS Grouped Code'], as_index=False)['Number of Services'].sum()\n",
    "\n",
    "# print(provider_type_sum_of_services)"
   ]
  },
  {
   "cell_type": "code",
   "execution_count": null,
   "metadata": {
    "scrolled": true
   },
   "outputs": [],
   "source": [
    "# informational to make sure my row drops will be dropping what I expect it to drop\n",
    "individual_provider_payment_df_clean.loc[individual_provider_payment_df_clean['HCPCS Code'].str.contains('992..|993..', regex=True)]['HCPCS Code'].sort_values()"
   ]
  },
  {
   "cell_type": "code",
   "execution_count": null,
   "metadata": {},
   "outputs": [],
   "source": [
    "# remove patient office visits\n",
    "individual_provider_payment_df_clean_no_office = individual_provider_payment_df_clean.loc[~individual_provider_payment_df_clean['HCPCS Code'].str.contains('992..|993..', regex=True)]"
   ]
  },
  {
   "cell_type": "code",
   "execution_count": null,
   "metadata": {
    "scrolled": true
   },
   "outputs": [],
   "source": [
    "individual_provider_payment_df_clean_no_office = individual_provider_payment_df_clean_no_office.reset_index(drop=True)"
   ]
  },
  {
   "cell_type": "code",
   "execution_count": null,
   "metadata": {},
   "outputs": [],
   "source": [
    "provider_type_sum_of_services_df = pd.DataFrame({\"Provider Type\": provider_type_sum_of_services['Provider Type'], \"total_count\": provider_type_sum_of_services[\"Number of Services\"]})\n",
    "\n",
    "print(provider_type_sum_of_services_df.head())\n",
    "\n",
    "provider_type_services_df = pd.DataFrame({ \"Provider Type\":provider_type_services[\"Provider Type\"], \"HCPCS Code\":provider_type_services[\"HCPCS Code\"], \"service_count\":provider_type_services[\"Number of Services\"]})\n",
    "# provider_type_services_df = provider_type_services_df.reset_index(level='HCPCS Code')\n",
    "\n",
    "provider_type_grouped_services_df = pd.DataFrame({\"Provider Type\": provider_type_grouped_services['Provider Type'], \"HCPCS Grouped Code\":provider_type_grouped_services[\"HCPCS Grouped Code\"], \"grouped_service_count\":provider_type_grouped_services[\"Number of Services\"]})\n",
    "# provider_type_grouped_services_df = provider_type_grouped_services_df.reset_index(level='HCPCS Grouped Code')\n",
    "\n",
    "print(provider_type_grouped_services_df.head())"
   ]
  },
  {
   "cell_type": "code",
   "execution_count": null,
   "metadata": {},
   "outputs": [],
   "source": [
    "provider_type_sum_of_services.index"
   ]
  },
  {
   "cell_type": "code",
   "execution_count": null,
   "metadata": {},
   "outputs": [],
   "source": []
  },
  {
   "cell_type": "code",
   "execution_count": null,
   "metadata": {},
   "outputs": [],
   "source": []
  },
  {
   "cell_type": "code",
   "execution_count": null,
   "metadata": {},
   "outputs": [],
   "source": [
    "individual_provider_payment_df_clean_no_office_merged = pd.merge(individual_provider_payment_df_clean_no_office, provider_type_services_df, how=\"left\", on=['Provider Type','HCPCS Code'])\n",
    "individual_provider_payment_df_clean_no_office_merged = pd.merge(individual_provider_payment_df_clean_no_office_merged, provider_type_sum_of_services_df, how=\"left\", on='Provider Type')\n",
    "individual_provider_payment_df_clean_no_office_merged = pd.merge(individual_provider_payment_df_clean_no_office_merged, provider_type_grouped_services_df, how=\"left\", on=['Provider Type','HCPCS Grouped Code'])\n",
    "individual_provider_payment_df_clean_no_office_merged['service_ratio'] = individual_provider_payment_df_clean_no_office_merged.service_count/individual_provider_payment_df_clean_no_office_merged.total_count\n",
    "individual_provider_payment_df_clean_no_office_merged['grouped_service_ratio'] = individual_provider_payment_df_clean_no_office_merged.grouped_service_count/individual_provider_payment_df_clean_no_office_merged.total_count\n",
    "\n",
    "individual_provider_payment_df_clean_no_office_merged.info()"
   ]
  },
  {
   "cell_type": "code",
   "execution_count": null,
   "metadata": {},
   "outputs": [],
   "source": [
    "individual_provider_payment_df_clean_no_office_merged.service_count"
   ]
  },
  {
   "cell_type": "code",
   "execution_count": null,
   "metadata": {},
   "outputs": [],
   "source": [
    "pd.options.display.max_rows = 100\n",
    "\n",
    "individual_provider_payment_df_clean_no_office_merged[[\"Provider Type\", \"total_count\"]]"
   ]
  },
  {
   "cell_type": "code",
   "execution_count": null,
   "metadata": {},
   "outputs": [],
   "source": [
    "individual_provider_payment_df_clean_no_office_merged.shape"
   ]
  },
  {
   "cell_type": "code",
   "execution_count": null,
   "metadata": {},
   "outputs": [],
   "source": [
    "provider_no_office"
   ]
  },
  {
   "cell_type": "code",
   "execution_count": null,
   "metadata": {},
   "outputs": [],
   "source": [
    "# write file without 99200 and 99300; with service_counts and total_count and ratio to csv\n",
    "individual_provider_payment_df_clean_no_office_merged.to_csv(\"../data/final_data_file_without_office_visits.csv\", index=False)"
   ]
  },
  {
   "cell_type": "code",
   "execution_count": null,
   "metadata": {},
   "outputs": [],
   "source": []
  },
  {
   "cell_type": "code",
   "execution_count": null,
   "metadata": {},
   "outputs": [],
   "source": [
    "names = ['Amanda', 'Ness', 'Cat', 'Ben', 'Jacob', 'Sophia']\n"
   ]
  },
  {
   "cell_type": "code",
   "execution_count": null,
   "metadata": {},
   "outputs": [],
   "source": [
    "generator = names.pop(random.randrange(0,len(names),1))\n",
    "print(generator)"
   ]
  }
 ],
 "metadata": {
  "kernelspec": {
   "display_name": "Python 3",
   "language": "python",
   "name": "python3"
  },
  "language_info": {
   "codemirror_mode": {
    "name": "ipython",
    "version": 3
   },
   "file_extension": ".py",
   "mimetype": "text/x-python",
   "name": "python",
   "nbconvert_exporter": "python",
   "pygments_lexer": "ipython3",
   "version": "3.7.7"
  }
 },
 "nbformat": 4,
 "nbformat_minor": 4
}
