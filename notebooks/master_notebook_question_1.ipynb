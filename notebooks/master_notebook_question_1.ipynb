{
 "cells": [
  {
   "cell_type": "markdown",
   "metadata": {},
   "source": [
    "### Goal 3, Question 1:\n",
    "For entity type __Individual__, what is the \"normal basket\" of __procedures__ for each **provider type**?\n",
    "\n",
    "#### Steps:\n",
    "    1. read in csv and select rows that are ['Entity Type of the Provider'] == 'I']\n",
    "    2. select necessary columns, for clarity\n",
    "    3. Create query that returns top 15 procedures for given provider type"
   ]
  },
  {
   "cell_type": "code",
   "execution_count": 1,
   "metadata": {},
   "outputs": [],
   "source": [
    "import pandas as pd\n",
    "import pickle"
   ]
  },
  {
   "cell_type": "markdown",
   "metadata": {},
   "source": [
    "#### read csv, select rows with Entity Type 'I' "
   ]
  },
  {
   "cell_type": "code",
   "execution_count": 2,
   "metadata": {},
   "outputs": [
    {
     "name": "stdout",
     "output_type": "stream",
     "text": [
      "Wall time: 2min 7s\n"
     ]
    }
   ],
   "source": [
    "%%time\n",
    "\n",
    "individual_providers_rows =[]\n",
    "for chunk in pd.read_csv('../data/Medicare_Provider_Utilization_and_Payment_Data__Physician_and_Other_Supplier_PUF_CY2017.csv', \n",
    "                         chunksize = 1000):\n",
    "    individual_providers_rows.append(chunk[chunk['Entity Type of the Provider'] == 'I'])\n",
    "    \n",
    "               \n",
    "                \n",
    "individual_type_providers = pd.concat(individual_providers_rows, ignore_index=True)"
   ]
  },
  {
   "cell_type": "markdown",
   "metadata": {},
   "source": [
    "#### select columns:\n",
    "    - National Provider Identifier\n",
    "    - Entity Type of the Provider\n",
    "    - Provider Type\n",
    "    - Place of Service\n",
    "    - HCPCS Code\n",
    "    - HCPCS Description\n",
    "    - Number of Services\n",
    "    - Number of Medicare Beneficiaries\n",
    "    - Number of Distinct Medicare Beneficiary/Per Day Services"
   ]
  },
  {
   "cell_type": "code",
   "execution_count": 3,
   "metadata": {},
   "outputs": [],
   "source": [
    "individual_type_providers_reduced_columns = individual_type_providers[['National Provider Identifier','Entity Type of the Provider',\n",
    "                                                             'Provider Type','Place of Service','HCPCS Code',\n",
    "                                                             'HCPCS Description','Number of Services',\n",
    "                                                             'Number of Medicare Beneficiaries',\n",
    "                                                             'Number of Distinct Medicare Beneficiary/Per Day Services']]"
   ]
  },
  {
   "cell_type": "code",
   "execution_count": 4,
   "metadata": {},
   "outputs": [
    {
     "name": "stdout",
     "output_type": "stream",
     "text": [
      "<class 'pandas.core.frame.DataFrame'>\n",
      "RangeIndex: 9416125 entries, 0 to 9416124\n",
      "Data columns (total 9 columns):\n",
      " #   Column                                                    Dtype  \n",
      "---  ------                                                    -----  \n",
      " 0   National Provider Identifier                              int64  \n",
      " 1   Entity Type of the Provider                               object \n",
      " 2   Provider Type                                             object \n",
      " 3   Place of Service                                          object \n",
      " 4   HCPCS Code                                                object \n",
      " 5   HCPCS Description                                         object \n",
      " 6   Number of Services                                        float64\n",
      " 7   Number of Medicare Beneficiaries                          int64  \n",
      " 8   Number of Distinct Medicare Beneficiary/Per Day Services  int64  \n",
      "dtypes: float64(1), int64(3), object(5)\n",
      "memory usage: 646.6+ MB\n"
     ]
    }
   ],
   "source": [
    "individual_type_providers_reduced_columns.info()"
   ]
  },
  {
   "cell_type": "markdown",
   "metadata": {},
   "source": [
    "#### Diagnostic Radiology has the most rows, lets start by isolating that provider type..."
   ]
  },
  {
   "cell_type": "code",
   "execution_count": 5,
   "metadata": {
    "scrolled": true
   },
   "outputs": [
    {
     "data": {
      "text/plain": [
       "Diagnostic Radiology                   1241400\n",
       "Internal Medicine                      1118171\n",
       "Family Practice                         969268\n",
       "Nurse Practitioner                      560219\n",
       "Cardiology                              445088\n",
       "                                        ...   \n",
       "Ambulance Service Provider                  42\n",
       "Unknown Supplier/Provider Specialty         17\n",
       "All Other Suppliers                         11\n",
       "Medical Toxicology                           2\n",
       "Slide Preparation Facility                   2\n",
       "Name: Provider Type, Length: 88, dtype: int64"
      ]
     },
     "execution_count": 5,
     "metadata": {},
     "output_type": "execute_result"
    }
   ],
   "source": [
    "individual_type_providers_reduced_columns['Provider Type'].value_counts()"
   ]
  },
  {
   "cell_type": "code",
   "execution_count": 6,
   "metadata": {
    "scrolled": false
   },
   "outputs": [
    {
     "data": {
      "text/plain": [
       "(1241400, 9)"
      ]
     },
     "execution_count": 6,
     "metadata": {},
     "output_type": "execute_result"
    }
   ],
   "source": [
    "diag_radiology_providers = individual_type_providers_reduced_columns.loc[individual_type_providers_reduced_columns\n",
    "                                              ['Provider Type'] == 'Diagnostic Radiology']\n",
    "diag_radiology_providers.shape"
   ]
  },
  {
   "cell_type": "markdown",
   "metadata": {},
   "source": [
    "#### remove 99200 and 99300 codes"
   ]
  },
  {
   "cell_type": "code",
   "execution_count": 13,
   "metadata": {},
   "outputs": [
    {
     "name": "stdout",
     "output_type": "stream",
     "text": [
      "Wall time: 826 ms\n"
     ]
    },
    {
     "data": {
      "text/plain": [
       "(1238760, 9)"
      ]
     },
     "execution_count": 13,
     "metadata": {},
     "output_type": "execute_result"
    }
   ],
   "source": [
    "%%time\n",
    "diag_radiology_providers = diag_radiology_providers.loc[~diag_radiology_providers['HCPCS Code'].str.contains('992..|993..', regex=True)]\n",
    "diag_radiology_providers.shape"
   ]
  },
  {
   "cell_type": "markdown",
   "metadata": {},
   "source": [
    "#### Next, we need to do a value count of each HCPCS for radiology..."
   ]
  },
  {
   "cell_type": "code",
   "execution_count": 7,
   "metadata": {},
   "outputs": [
    {
     "data": {
      "text/plain": [
       "1174"
      ]
     },
     "execution_count": 7,
     "metadata": {},
     "output_type": "execute_result"
    }
   ],
   "source": [
    "diag_radiology_providers['HCPCS Code'].nunique()"
   ]
  },
  {
   "cell_type": "code",
   "execution_count": 10,
   "metadata": {},
   "outputs": [],
   "source": [
    "diag_radiology_providers.to_csv('diag_radio', index = False)"
   ]
  },
  {
   "cell_type": "code",
   "execution_count": null,
   "metadata": {},
   "outputs": [],
   "source": []
  }
 ],
 "metadata": {
  "kernelspec": {
   "display_name": "Python 3",
   "language": "python",
   "name": "python3"
  },
  "language_info": {
   "codemirror_mode": {
    "name": "ipython",
    "version": 3
   },
   "file_extension": ".py",
   "mimetype": "text/x-python",
   "name": "python",
   "nbconvert_exporter": "python",
   "pygments_lexer": "ipython3",
   "version": "3.7.6"
  }
 },
 "nbformat": 4,
 "nbformat_minor": 2
}
