{
 "cells": [
  {
   "cell_type": "code",
   "execution_count": 1,
   "metadata": {},
   "outputs": [],
   "source": [
    "import pandas as pd\n",
    "import pickle\n",
    "import pprint\n",
    "import random"
   ]
  },
  {
   "cell_type": "code",
   "execution_count": 2,
   "metadata": {
    "scrolled": true
   },
   "outputs": [
    {
     "name": "stdout",
     "output_type": "stream",
     "text": [
      "Wall time: 16.6 s\n"
     ]
    }
   ],
   "source": [
    "%%time\n",
    "\n",
    "individual_provider_payment_df_clean = pd.read_pickle(\"../data/individual_provider_payment.pkl\")"
   ]
  },
  {
   "cell_type": "code",
   "execution_count": 3,
   "metadata": {},
   "outputs": [
    {
     "data": {
      "text/html": [
       "<div>\n",
       "<style scoped>\n",
       "    .dataframe tbody tr th:only-of-type {\n",
       "        vertical-align: middle;\n",
       "    }\n",
       "\n",
       "    .dataframe tbody tr th {\n",
       "        vertical-align: top;\n",
       "    }\n",
       "\n",
       "    .dataframe thead th {\n",
       "        text-align: right;\n",
       "    }\n",
       "</style>\n",
       "<table border=\"1\" class=\"dataframe\">\n",
       "  <thead>\n",
       "    <tr style=\"text-align: right;\">\n",
       "      <th></th>\n",
       "      <th>National Provider Identifier</th>\n",
       "      <th>Number of Services</th>\n",
       "      <th>Number of Medicare Beneficiaries</th>\n",
       "      <th>Number of Distinct Medicare Beneficiary/Per Day Services</th>\n",
       "      <th>Average Medicare Allowed Amount</th>\n",
       "      <th>Average Medicare Payment Amount</th>\n",
       "    </tr>\n",
       "  </thead>\n",
       "  <tbody>\n",
       "    <tr>\n",
       "      <th>count</th>\n",
       "      <td>9.416125e+06</td>\n",
       "      <td>9.416125e+06</td>\n",
       "      <td>9.416125e+06</td>\n",
       "      <td>9.416125e+06</td>\n",
       "      <td>9.416125e+06</td>\n",
       "      <td>9.416125e+06</td>\n",
       "    </tr>\n",
       "    <tr>\n",
       "      <th>mean</th>\n",
       "      <td>1.499785e+09</td>\n",
       "      <td>1.983183e+02</td>\n",
       "      <td>7.084164e+01</td>\n",
       "      <td>1.151297e+02</td>\n",
       "      <td>9.735926e+01</td>\n",
       "      <td>7.392625e+01</td>\n",
       "    </tr>\n",
       "    <tr>\n",
       "      <th>std</th>\n",
       "      <td>2.877289e+08</td>\n",
       "      <td>2.351712e+03</td>\n",
       "      <td>1.442648e+02</td>\n",
       "      <td>2.783331e+02</td>\n",
       "      <td>2.186003e+02</td>\n",
       "      <td>1.705221e+02</td>\n",
       "    </tr>\n",
       "    <tr>\n",
       "      <th>min</th>\n",
       "      <td>1.003000e+09</td>\n",
       "      <td>2.400000e+00</td>\n",
       "      <td>1.100000e+01</td>\n",
       "      <td>1.100000e+01</td>\n",
       "      <td>6.035380e-05</td>\n",
       "      <td>0.000000e+00</td>\n",
       "    </tr>\n",
       "    <tr>\n",
       "      <th>25%</th>\n",
       "      <td>1.255302e+09</td>\n",
       "      <td>2.000000e+01</td>\n",
       "      <td>1.700000e+01</td>\n",
       "      <td>2.000000e+01</td>\n",
       "      <td>2.501000e+01</td>\n",
       "      <td>1.967050e+01</td>\n",
       "    </tr>\n",
       "    <tr>\n",
       "      <th>50%</th>\n",
       "      <td>1.497969e+09</td>\n",
       "      <td>4.300000e+01</td>\n",
       "      <td>3.200000e+01</td>\n",
       "      <td>4.000000e+01</td>\n",
       "      <td>6.639000e+01</td>\n",
       "      <td>4.745194e+01</td>\n",
       "    </tr>\n",
       "    <tr>\n",
       "      <th>75%</th>\n",
       "      <td>1.740681e+09</td>\n",
       "      <td>1.160000e+02</td>\n",
       "      <td>7.300000e+01</td>\n",
       "      <td>1.040000e+02</td>\n",
       "      <td>1.131400e+02</td>\n",
       "      <td>8.456263e+01</td>\n",
       "    </tr>\n",
       "    <tr>\n",
       "      <th>max</th>\n",
       "      <td>1.993000e+09</td>\n",
       "      <td>3.301134e+06</td>\n",
       "      <td>9.532700e+04</td>\n",
       "      <td>1.758700e+05</td>\n",
       "      <td>3.986417e+04</td>\n",
       "      <td>3.125351e+04</td>\n",
       "    </tr>\n",
       "  </tbody>\n",
       "</table>\n",
       "</div>"
      ],
      "text/plain": [
       "       National Provider Identifier  Number of Services  \\\n",
       "count                  9.416125e+06        9.416125e+06   \n",
       "mean                   1.499785e+09        1.983183e+02   \n",
       "std                    2.877289e+08        2.351712e+03   \n",
       "min                    1.003000e+09        2.400000e+00   \n",
       "25%                    1.255302e+09        2.000000e+01   \n",
       "50%                    1.497969e+09        4.300000e+01   \n",
       "75%                    1.740681e+09        1.160000e+02   \n",
       "max                    1.993000e+09        3.301134e+06   \n",
       "\n",
       "       Number of Medicare Beneficiaries  \\\n",
       "count                      9.416125e+06   \n",
       "mean                       7.084164e+01   \n",
       "std                        1.442648e+02   \n",
       "min                        1.100000e+01   \n",
       "25%                        1.700000e+01   \n",
       "50%                        3.200000e+01   \n",
       "75%                        7.300000e+01   \n",
       "max                        9.532700e+04   \n",
       "\n",
       "       Number of Distinct Medicare Beneficiary/Per Day Services  \\\n",
       "count                                       9.416125e+06          \n",
       "mean                                        1.151297e+02          \n",
       "std                                         2.783331e+02          \n",
       "min                                         1.100000e+01          \n",
       "25%                                         2.000000e+01          \n",
       "50%                                         4.000000e+01          \n",
       "75%                                         1.040000e+02          \n",
       "max                                         1.758700e+05          \n",
       "\n",
       "       Average Medicare Allowed Amount  Average Medicare Payment Amount  \n",
       "count                     9.416125e+06                     9.416125e+06  \n",
       "mean                      9.735926e+01                     7.392625e+01  \n",
       "std                       2.186003e+02                     1.705221e+02  \n",
       "min                       6.035380e-05                     0.000000e+00  \n",
       "25%                       2.501000e+01                     1.967050e+01  \n",
       "50%                       6.639000e+01                     4.745194e+01  \n",
       "75%                       1.131400e+02                     8.456263e+01  \n",
       "max                       3.986417e+04                     3.125351e+04  "
      ]
     },
     "execution_count": 3,
     "metadata": {},
     "output_type": "execute_result"
    }
   ],
   "source": [
    "individual_provider_payment_df_clean.describe()"
   ]
  },
  {
   "cell_type": "code",
   "execution_count": 4,
   "metadata": {
    "scrolled": true
   },
   "outputs": [
    {
     "name": "stdout",
     "output_type": "stream",
     "text": [
      "<class 'pandas.core.frame.DataFrame'>\n",
      "RangeIndex: 9416125 entries, 0 to 9416124\n",
      "Data columns (total 21 columns):\n",
      " #   Column                                                    Dtype  \n",
      "---  ------                                                    -----  \n",
      " 0   National Provider Identifier                              int64  \n",
      " 1   Last Name/Organization Name of the Provider               object \n",
      " 2   First Name of the Provider                                object \n",
      " 3   Credentials of the Provider                               object \n",
      " 4   Entity Type of the Provider                               object \n",
      " 5   Street Address 1 of the Provider                          object \n",
      " 6   City of the Provider                                      object \n",
      " 7   Zip Code of the Provider                                  object \n",
      " 8   State Code of the Provider                                object \n",
      " 9   Country Code of the Provider                              object \n",
      " 10  Provider Type                                             object \n",
      " 11  Medicare Participation Indicator                          object \n",
      " 12  Place of Service                                          object \n",
      " 13  HCPCS Code                                                object \n",
      " 14  HCPCS Description                                         object \n",
      " 15  HCPCS Drug Indicator                                      object \n",
      " 16  Number of Services                                        float64\n",
      " 17  Number of Medicare Beneficiaries                          int64  \n",
      " 18  Number of Distinct Medicare Beneficiary/Per Day Services  int64  \n",
      " 19  Average Medicare Allowed Amount                           float64\n",
      " 20  Average Medicare Payment Amount                           float64\n",
      "dtypes: float64(3), int64(3), object(15)\n",
      "memory usage: 1.5+ GB\n"
     ]
    }
   ],
   "source": [
    "individual_provider_payment_df_clean.info()"
   ]
  },
  {
   "cell_type": "code",
   "execution_count": 5,
   "metadata": {
    "scrolled": false
   },
   "outputs": [
    {
     "data": {
      "text/plain": [
       "Diagnostic Radiology                   1241400\n",
       "Internal Medicine                      1118171\n",
       "Family Practice                         969268\n",
       "Nurse Practitioner                      560219\n",
       "Cardiology                              445088\n",
       "                                        ...   \n",
       "Ambulance Service Provider                  42\n",
       "Unknown Supplier/Provider Specialty         17\n",
       "All Other Suppliers                         11\n",
       "Medical Toxicology                           2\n",
       "Slide Preparation Facility                   2\n",
       "Name: Provider Type, Length: 88, dtype: int64"
      ]
     },
     "execution_count": 5,
     "metadata": {},
     "output_type": "execute_result"
    }
   ],
   "source": [
    "individual_provider_payment_df_clean['Provider Type'].value_counts()"
   ]
  },
  {
   "cell_type": "code",
   "execution_count": 6,
   "metadata": {
    "scrolled": false
   },
   "outputs": [
    {
     "data": {
      "text/plain": [
       "Established patient office or other outpatient visit, typically 15 minutes    457835\n",
       "Established patient office or other outpatient, visit typically 25 minutes    428262\n",
       "New patient office or other outpatient visit, typically 45 minutes            179569\n",
       "New patient office or other outpatient visit, typically 30 minutes            178057\n",
       "Subsequent hospital inpatient care, typically 25 minutes per day              175335\n",
       "                                                                               ...  \n",
       "Drainage of abscess or blood accumulation at forearm and/or wrist                  1\n",
       "Repair of windpipe cartilage by insertion of splint or graft                       1\n",
       "Removal of nerve of foot muscle                                                    1\n",
       "Bone graft of pelvic bone with microvascular connection                            1\n",
       "Removal of bladder, urinary ducts (ureters)                                        1\n",
       "Name: HCPCS Description, Length: 5171, dtype: int64"
      ]
     },
     "execution_count": 6,
     "metadata": {},
     "output_type": "execute_result"
    }
   ],
   "source": [
    "individual_provider_payment_df_clean['HCPCS Description'].value_counts()"
   ]
  },
  {
   "cell_type": "code",
   "execution_count": 7,
   "metadata": {},
   "outputs": [
    {
     "data": {
      "text/plain": [
       "99213    457835\n",
       "99214    428262\n",
       "99204    179569\n",
       "99203    178057\n",
       "99232    175335\n",
       "          ...  \n",
       "67120         1\n",
       "80190         1\n",
       "44314         1\n",
       "96420         1\n",
       "86622         1\n",
       "Name: HCPCS Code, Length: 5702, dtype: int64"
      ]
     },
     "execution_count": 7,
     "metadata": {},
     "output_type": "execute_result"
    }
   ],
   "source": [
    "individual_provider_payment_df_clean['HCPCS Code'].value_counts()"
   ]
  },
  {
   "cell_type": "code",
   "execution_count": 60,
   "metadata": {
    "scrolled": true
   },
   "outputs": [
    {
     "data": {
      "text/plain": [
       "4075581    99201\n",
       "4887937    99201\n",
       "529176     99201\n",
       "1642193    99201\n",
       "7929017    99201\n",
       "           ...  \n",
       "8736400    99359\n",
       "8554568    99359\n",
       "9286250    99359\n",
       "5783575    99359\n",
       "8609130    99359\n",
       "Name: HCPCS Code, Length: 2957859, dtype: object"
      ]
     },
     "execution_count": 60,
     "metadata": {},
     "output_type": "execute_result"
    }
   ],
   "source": [
    "# informational to make sure my row drops will be dropping what I expect it to drop\n",
    "individual_provider_payment_df_clean.loc[individual_provider_payment_df_clean['HCPCS Code'].str.contains('992..|993..', regex=True)]['HCPCS Code'].sort_values()"
   ]
  },
  {
   "cell_type": "code",
   "execution_count": 3,
   "metadata": {},
   "outputs": [],
   "source": [
    "# remove patient office visits\n",
    "individual_provider_payment_df_clean_no_office = individual_provider_payment_df_clean.loc[~individual_provider_payment_df_clean['HCPCS Code'].str.contains('992..|993..', regex=True)]"
   ]
  },
  {
   "cell_type": "code",
   "execution_count": 4,
   "metadata": {
    "scrolled": true
   },
   "outputs": [],
   "source": [
    "individual_provider_payment_df_clean_no_office = individual_provider_payment_df_clean_no_office.reset_index(drop=True)"
   ]
  },
  {
   "cell_type": "code",
   "execution_count": 5,
   "metadata": {},
   "outputs": [],
   "source": [
    "# creating total revenue column\n",
    "\n",
    "individual_provider_payment_df_clean_no_office['Total Revenue'] = individual_provider_payment_df_clean_no_office['Average Medicare Allowed Amount'] * individual_provider_payment_df_clean_no_office['Number of Services']"
   ]
  },
  {
   "cell_type": "code",
   "execution_count": 14,
   "metadata": {},
   "outputs": [],
   "source": [
    "# creating groupings for codes\n",
    "\n",
    "HCPCS_Grouped_Code = []\n",
    "\n",
    "for value in individual_provider_payment_df_clean_no_office['HCPCS Code']:\n",
    "    if value.endswith(\"T\"):\n",
    "        HCPCS_Grouped_Code.append(value)\n",
    "    else:\n",
    "        HCPCS_Grouped_Code.append(value[0:3] + \"00\")\n",
    "        \n",
    "     "
   ]
  },
  {
   "cell_type": "code",
   "execution_count": 17,
   "metadata": {},
   "outputs": [],
   "source": [
    "individual_provider_payment_df_clean_no_office['HCPCS Grouped Code'] = HCPCS_Grouped_Code "
   ]
  },
  {
   "cell_type": "code",
   "execution_count": 18,
   "metadata": {},
   "outputs": [],
   "source": [
    "# write file without 99200 and 99300 to csv\n",
    "individual_provider_payment_df_clean_no_office.to_csv(\"../data/provider_payments_exclude_99200_and_99300.csv\", index=False)"
   ]
  },
  {
   "cell_type": "code",
   "execution_count": 118,
   "metadata": {
    "scrolled": false
   },
   "outputs": [],
   "source": [
    "provider_type_sum_of_services = individual_provider_payment_df_clean_no_office.groupby('Provider Type', as_index=False)['Number of Services'].sum()\n",
    "\n",
    "provider_type_services = individual_provider_payment_df_clean_no_office.groupby(['Provider Type','HCPCS Code'], as_index=False)['Number of Services'].sum()\n",
    "\n",
    "provider_type_grouped_services = individual_provider_payment_df_clean_no_office.groupby(['Provider Type','HCPCS Grouped Code'], as_index=False)['Number of Services'].sum()\n"
   ]
  },
  {
   "cell_type": "code",
   "execution_count": 124,
   "metadata": {},
   "outputs": [
    {
     "name": "stdout",
     "output_type": "stream",
     "text": [
      "        Provider Type HCPCS Code  Number of Services\n",
      "0  Addiction Medicine      36415               595.0\n",
      "1  Addiction Medicine      36556                12.0\n",
      "2  Addiction Medicine      36620                13.0\n",
      "3  Addiction Medicine      70100               590.0\n",
      "4  Addiction Medicine      70310               590.0\n",
      "                                      Provider Type  Number of Services\n",
      "0                                Addiction Medicine             38282.0\n",
      "1  Advanced Heart Failure and Transplant Cardiology              4219.0\n",
      "2                               All Other Suppliers              1109.0\n",
      "3                               Allergy/ Immunology          15512077.9\n",
      "4                        Ambulance Service Provider            233194.9\n",
      "        Provider Type HCPCS Grouped Code  Number of Services\n",
      "0  Addiction Medicine              36400               595.0\n",
      "1  Addiction Medicine              36500                12.0\n",
      "2  Addiction Medicine              36600                13.0\n",
      "3  Addiction Medicine              70100               590.0\n",
      "4  Addiction Medicine              70300              1081.0\n"
     ]
    }
   ],
   "source": [
    "print(provider_type_services.head())\n",
    "print(provider_type_sum_of_services.head())\n",
    "print(provider_type_grouped_services.head())"
   ]
  },
  {
   "cell_type": "code",
   "execution_count": 126,
   "metadata": {},
   "outputs": [
    {
     "name": "stdout",
     "output_type": "stream",
     "text": [
      "                                      Provider Type  total_count\n",
      "0                                Addiction Medicine      38282.0\n",
      "1  Advanced Heart Failure and Transplant Cardiology       4219.0\n",
      "2                               All Other Suppliers       1109.0\n",
      "3                               Allergy/ Immunology   15512077.9\n",
      "4                        Ambulance Service Provider     233194.9\n",
      "        Provider Type HCPCS Grouped Code  grouped_service_count\n",
      "0  Addiction Medicine              36400                  595.0\n",
      "1  Addiction Medicine              36500                   12.0\n",
      "2  Addiction Medicine              36600                   13.0\n",
      "3  Addiction Medicine              70100                  590.0\n",
      "4  Addiction Medicine              70300                 1081.0\n"
     ]
    }
   ],
   "source": [
    "provider_type_sum_of_services_df = pd.DataFrame({\"Provider Type\": provider_type_sum_of_services['Provider Type'], \"total_count\": provider_type_sum_of_services[\"Number of Services\"]})\n",
    "\n",
    "print(provider_type_sum_of_services_df.head())\n",
    "\n",
    "provider_type_services_df = pd.DataFrame({ \"Provider Type\":provider_type_services[\"Provider Type\"], \"HCPCS Code\":provider_type_services[\"HCPCS Code\"], \"service_count\":provider_type_services[\"Number of Services\"]})\n",
    "# provider_type_services_df = provider_type_services_df.reset_index(level='HCPCS Code')\n",
    "\n",
    "provider_type_grouped_services_df = pd.DataFrame({\"Provider Type\": provider_type_grouped_services['Provider Type'], \"HCPCS Grouped Code\":provider_type_grouped_services[\"HCPCS Grouped Code\"], \"grouped_service_count\":provider_type_grouped_services[\"Number of Services\"]})\n",
    "# provider_type_grouped_services_df = provider_type_grouped_services_df.reset_index(level='HCPCS Grouped Code')\n",
    "\n",
    "print(provider_type_grouped_services_df.head())"
   ]
  },
  {
   "cell_type": "code",
   "execution_count": 55,
   "metadata": {},
   "outputs": [
    {
     "data": {
      "text/plain": [
       "Index(['Addiction Medicine',\n",
       "       'Advanced Heart Failure and Transplant Cardiology',\n",
       "       'All Other Suppliers', 'Allergy/ Immunology',\n",
       "       'Ambulance Service Provider', 'Anesthesiology',\n",
       "       'Anesthesiology Assistant', 'Audiologist', 'Cardiac Surgery',\n",
       "       'Cardiology', 'Certified Clinical Nurse Specialist',\n",
       "       'Certified Nurse Midwife',\n",
       "       'Certified Registered Nurse Anesthetist (CRNA)', 'Chiropractic',\n",
       "       'Clinic or Group Practice', 'Clinical Cardiac Electrophysiology',\n",
       "       'Clinical Laboratory', 'Colorectal Surgery (Proctology)',\n",
       "       'Critical Care (Intensivists)', 'Dentist', 'Dermatology',\n",
       "       'Diagnostic Radiology', 'Emergency Medicine', 'Endocrinology',\n",
       "       'Family Practice', 'Gastroenterology', 'General Practice',\n",
       "       'General Surgery', 'Geriatric Medicine', 'Geriatric Psychiatry',\n",
       "       'Gynecological Oncology', 'Hand Surgery', 'Hematology',\n",
       "       'Hematology-Oncology', 'Hospice and Palliative Care', 'Hospitalist',\n",
       "       'Independent Diagnostic Testing Facility (IDTF)', 'Infectious Disease',\n",
       "       'Internal Medicine', 'Interventional Cardiology',\n",
       "       'Interventional Pain Management', 'Interventional Radiology',\n",
       "       'Licensed Clinical Social Worker', 'Mass Immunizer Roster Biller',\n",
       "       'Maxillofacial Surgery', 'Medical Oncology', 'Nephrology', 'Neurology',\n",
       "       'Neuropsychiatry', 'Neurosurgery', 'Nuclear Medicine',\n",
       "       'Nurse Practitioner', 'Obstetrics & Gynecology',\n",
       "       'Occupational Therapist in Private Practice', 'Ophthalmology',\n",
       "       'Optometry', 'Oral Surgery (Dentist only)', 'Orthopedic Surgery',\n",
       "       'Osteopathic Manipulative Medicine', 'Otolaryngology',\n",
       "       'Pain Management', 'Pathology', 'Pediatric Medicine',\n",
       "       'Peripheral Vascular Disease', 'Physical Medicine and Rehabilitation',\n",
       "       'Physical Therapist in Private Practice', 'Physician Assistant',\n",
       "       'Plastic and Reconstructive Surgery', 'Podiatry',\n",
       "       'Portable X-Ray Supplier', 'Preventive Medicine', 'Psychiatry',\n",
       "       'Psychologist, Clinical', 'Pulmonary Disease', 'Radiation Oncology',\n",
       "       'Registered Dietitian or Nutrition Professional', 'Rheumatology',\n",
       "       'Sleep Medicine', 'Slide Preparation Facility',\n",
       "       'Speech Language Pathologist', 'Sports Medicine', 'Surgical Oncology',\n",
       "       'Thoracic Surgery', 'Undefined Physician type',\n",
       "       'Unknown Supplier/Provider Specialty', 'Urology', 'Vascular Surgery'],\n",
       "      dtype='object', name='Provider Type')"
      ]
     },
     "execution_count": 55,
     "metadata": {},
     "output_type": "execute_result"
    }
   ],
   "source": [
    "provider_type_sum_of_services.index"
   ]
  },
  {
   "cell_type": "code",
   "execution_count": null,
   "metadata": {},
   "outputs": [],
   "source": []
  },
  {
   "cell_type": "code",
   "execution_count": null,
   "metadata": {},
   "outputs": [],
   "source": []
  },
  {
   "cell_type": "code",
   "execution_count": 127,
   "metadata": {},
   "outputs": [
    {
     "name": "stdout",
     "output_type": "stream",
     "text": [
      "<class 'pandas.core.frame.DataFrame'>\n",
      "Int64Index: 6458266 entries, 0 to 6458265\n",
      "Data columns (total 28 columns):\n",
      " #   Column                                                    Dtype  \n",
      "---  ------                                                    -----  \n",
      " 0   National Provider Identifier                              int64  \n",
      " 1   Last Name/Organization Name of the Provider               object \n",
      " 2   First Name of the Provider                                object \n",
      " 3   Credentials of the Provider                               object \n",
      " 4   Entity Type of the Provider                               object \n",
      " 5   Street Address 1 of the Provider                          object \n",
      " 6   City of the Provider                                      object \n",
      " 7   Zip Code of the Provider                                  object \n",
      " 8   State Code of the Provider                                object \n",
      " 9   Country Code of the Provider                              object \n",
      " 10  Provider Type                                             object \n",
      " 11  Medicare Participation Indicator                          object \n",
      " 12  Place of Service                                          object \n",
      " 13  HCPCS Code                                                object \n",
      " 14  HCPCS Description                                         object \n",
      " 15  HCPCS Drug Indicator                                      object \n",
      " 16  Number of Services                                        float64\n",
      " 17  Number of Medicare Beneficiaries                          int64  \n",
      " 18  Number of Distinct Medicare Beneficiary/Per Day Services  int64  \n",
      " 19  Average Medicare Allowed Amount                           float64\n",
      " 20  Average Medicare Payment Amount                           float64\n",
      " 21  Total Revenue                                             float64\n",
      " 22  HCPCS Grouped Code                                        object \n",
      " 23  service_count                                             float64\n",
      " 24  total_count                                               float64\n",
      " 25  grouped_service_count                                     float64\n",
      " 26  service_ratio                                             float64\n",
      " 27  grouped_service_ratio                                     float64\n",
      "dtypes: float64(9), int64(3), object(16)\n",
      "memory usage: 1.4+ GB\n"
     ]
    }
   ],
   "source": [
    "individual_provider_payment_df_clean_no_office_merged = pd.merge(individual_provider_payment_df_clean_no_office, provider_type_services_df, how=\"left\", on=['Provider Type','HCPCS Code'])\n",
    "individual_provider_payment_df_clean_no_office_merged = pd.merge(individual_provider_payment_df_clean_no_office_merged, provider_type_sum_of_services_df, how=\"left\", on='Provider Type')\n",
    "individual_provider_payment_df_clean_no_office_merged = pd.merge(individual_provider_payment_df_clean_no_office_merged, provider_type_grouped_services_df, how=\"left\", on=['Provider Type','HCPCS Grouped Code'])\n",
    "individual_provider_payment_df_clean_no_office_merged['service_ratio'] = individual_provider_payment_df_clean_no_office_merged.service_count/individual_provider_payment_df_clean_no_office_merged.total_count\n",
    "individual_provider_payment_df_clean_no_office_merged['grouped_service_ratio'] = individual_provider_payment_df_clean_no_office_merged.grouped_service_count/individual_provider_payment_df_clean_no_office_merged.total_count\n",
    "\n",
    "individual_provider_payment_df_clean_no_office_merged.info()"
   ]
  },
  {
   "cell_type": "code",
   "execution_count": 97,
   "metadata": {},
   "outputs": [
    {
     "data": {
      "text/plain": [
       "0            759792.0\n",
       "1          11238971.8\n",
       "2            872574.0\n",
       "3           1020068.1\n",
       "4            116120.0\n",
       "              ...    \n",
       "6458261      528132.0\n",
       "6458262      566218.0\n",
       "6458263      566218.0\n",
       "6458264      858304.0\n",
       "6458265      858304.0\n",
       "Name: service_count, Length: 6458266, dtype: float64"
      ]
     },
     "execution_count": 97,
     "metadata": {},
     "output_type": "execute_result"
    }
   ],
   "source": [
    "individual_provider_payment_df_clean_no_office_merged.service_count"
   ]
  },
  {
   "cell_type": "code",
   "execution_count": 104,
   "metadata": {},
   "outputs": [
    {
     "data": {
      "text/html": [
       "<div>\n",
       "<style scoped>\n",
       "    .dataframe tbody tr th:only-of-type {\n",
       "        vertical-align: middle;\n",
       "    }\n",
       "\n",
       "    .dataframe tbody tr th {\n",
       "        vertical-align: top;\n",
       "    }\n",
       "\n",
       "    .dataframe thead th {\n",
       "        text-align: right;\n",
       "    }\n",
       "</style>\n",
       "<table border=\"1\" class=\"dataframe\">\n",
       "  <thead>\n",
       "    <tr style=\"text-align: right;\">\n",
       "      <th></th>\n",
       "      <th>Provider Type</th>\n",
       "      <th>total_count</th>\n",
       "    </tr>\n",
       "  </thead>\n",
       "  <tbody>\n",
       "    <tr>\n",
       "      <th>0</th>\n",
       "      <td>Pathology</td>\n",
       "      <td>29516564.8</td>\n",
       "    </tr>\n",
       "    <tr>\n",
       "      <th>1</th>\n",
       "      <td>Pathology</td>\n",
       "      <td>29516564.8</td>\n",
       "    </tr>\n",
       "    <tr>\n",
       "      <th>2</th>\n",
       "      <td>Pathology</td>\n",
       "      <td>29516564.8</td>\n",
       "    </tr>\n",
       "    <tr>\n",
       "      <th>3</th>\n",
       "      <td>Pathology</td>\n",
       "      <td>29516564.8</td>\n",
       "    </tr>\n",
       "    <tr>\n",
       "      <th>4</th>\n",
       "      <td>Pathology</td>\n",
       "      <td>29516564.8</td>\n",
       "    </tr>\n",
       "    <tr>\n",
       "      <th>...</th>\n",
       "      <td>...</td>\n",
       "      <td>...</td>\n",
       "    </tr>\n",
       "    <tr>\n",
       "      <th>6458261</th>\n",
       "      <td>Otolaryngology</td>\n",
       "      <td>8748779.9</td>\n",
       "    </tr>\n",
       "    <tr>\n",
       "      <th>6458262</th>\n",
       "      <td>Otolaryngology</td>\n",
       "      <td>8748779.9</td>\n",
       "    </tr>\n",
       "    <tr>\n",
       "      <th>6458263</th>\n",
       "      <td>Otolaryngology</td>\n",
       "      <td>8748779.9</td>\n",
       "    </tr>\n",
       "    <tr>\n",
       "      <th>6458264</th>\n",
       "      <td>Otolaryngology</td>\n",
       "      <td>8748779.9</td>\n",
       "    </tr>\n",
       "    <tr>\n",
       "      <th>6458265</th>\n",
       "      <td>Otolaryngology</td>\n",
       "      <td>8748779.9</td>\n",
       "    </tr>\n",
       "  </tbody>\n",
       "</table>\n",
       "<p>6458266 rows × 2 columns</p>\n",
       "</div>"
      ],
      "text/plain": [
       "          Provider Type  total_count\n",
       "0             Pathology   29516564.8\n",
       "1             Pathology   29516564.8\n",
       "2             Pathology   29516564.8\n",
       "3             Pathology   29516564.8\n",
       "4             Pathology   29516564.8\n",
       "...                 ...          ...\n",
       "6458261  Otolaryngology    8748779.9\n",
       "6458262  Otolaryngology    8748779.9\n",
       "6458263  Otolaryngology    8748779.9\n",
       "6458264  Otolaryngology    8748779.9\n",
       "6458265  Otolaryngology    8748779.9\n",
       "\n",
       "[6458266 rows x 2 columns]"
      ]
     },
     "execution_count": 104,
     "metadata": {},
     "output_type": "execute_result"
    }
   ],
   "source": [
    "pd.options.display.max_rows = 100\n",
    "\n",
    "individual_provider_payment_df_clean_no_office_merged[[\"Provider Type\", \"total_count\"]]"
   ]
  },
  {
   "cell_type": "code",
   "execution_count": 128,
   "metadata": {},
   "outputs": [],
   "source": [
    "# write file without 99200 and 99300; with service_counts and total_count and ratio to csv\n",
    "individual_provider_payment_df_clean_no_office_merged.to_csv(\"../data/final_data_file.csv\", index=False)"
   ]
  },
  {
   "cell_type": "code",
   "execution_count": 68,
   "metadata": {},
   "outputs": [
    {
     "data": {
      "text/plain": [
       "(6458266, 26)"
      ]
     },
     "execution_count": 68,
     "metadata": {},
     "output_type": "execute_result"
    }
   ],
   "source": [
    "individual_provider_payment_df_clean_no_office_merged.shape"
   ]
  },
  {
   "cell_type": "code",
   "execution_count": 18,
   "metadata": {},
   "outputs": [
    {
     "data": {
      "text/html": [
       "<div>\n",
       "<style scoped>\n",
       "    .dataframe tbody tr th:only-of-type {\n",
       "        vertical-align: middle;\n",
       "    }\n",
       "\n",
       "    .dataframe tbody tr th {\n",
       "        vertical-align: top;\n",
       "    }\n",
       "\n",
       "    .dataframe thead th {\n",
       "        text-align: right;\n",
       "    }\n",
       "</style>\n",
       "<table border=\"1\" class=\"dataframe\">\n",
       "  <thead>\n",
       "    <tr style=\"text-align: right;\">\n",
       "      <th></th>\n",
       "      <th></th>\n",
       "      <th></th>\n",
       "      <th>Average Medicare Allowed Amount</th>\n",
       "      <th>Average Medicare Payment Amount</th>\n",
       "      <th>National Provider Identifier</th>\n",
       "      <th>Number of Distinct Medicare Beneficiary/Per Day Services</th>\n",
       "      <th>Number of Medicare Beneficiaries</th>\n",
       "      <th>Number of Services</th>\n",
       "      <th>Total Revenue</th>\n",
       "    </tr>\n",
       "    <tr>\n",
       "      <th>Provider Type</th>\n",
       "      <th>HCPCS Code</th>\n",
       "      <th>HCPCS Description</th>\n",
       "      <th></th>\n",
       "      <th></th>\n",
       "      <th></th>\n",
       "      <th></th>\n",
       "      <th></th>\n",
       "      <th></th>\n",
       "      <th></th>\n",
       "    </tr>\n",
       "  </thead>\n",
       "  <tbody>\n",
       "    <tr>\n",
       "      <th rowspan=\"5\" valign=\"top\">Addiction Medicine</th>\n",
       "      <th>36415</th>\n",
       "      <th>Insertion of needle into vein for collection of blood sample</th>\n",
       "      <td>3.000000</td>\n",
       "      <td>2.933529</td>\n",
       "      <td>1.443171e+09</td>\n",
       "      <td>85.000000</td>\n",
       "      <td>52.285714</td>\n",
       "      <td>85.000000</td>\n",
       "      <td>255.000000</td>\n",
       "    </tr>\n",
       "    <tr>\n",
       "      <th>36556</th>\n",
       "      <th>Insertion of central venous catheter for infusion, patient 5 years or older</th>\n",
       "      <td>112.510000</td>\n",
       "      <td>88.210000</td>\n",
       "      <td>1.770876e+09</td>\n",
       "      <td>11.000000</td>\n",
       "      <td>11.000000</td>\n",
       "      <td>12.000000</td>\n",
       "      <td>1350.120000</td>\n",
       "    </tr>\n",
       "    <tr>\n",
       "      <th>36620</th>\n",
       "      <th>Insertion of arterial catheter for blood sampling or infusion, accessed through the skin</th>\n",
       "      <td>47.990000</td>\n",
       "      <td>37.620000</td>\n",
       "      <td>1.770876e+09</td>\n",
       "      <td>13.000000</td>\n",
       "      <td>12.000000</td>\n",
       "      <td>13.000000</td>\n",
       "      <td>623.870000</td>\n",
       "    </tr>\n",
       "    <tr>\n",
       "      <th>70100</th>\n",
       "      <th>X-ray of mandible, less than 4 views</th>\n",
       "      <td>12.624219</td>\n",
       "      <td>9.532713</td>\n",
       "      <td>1.306066e+09</td>\n",
       "      <td>293.500000</td>\n",
       "      <td>255.000000</td>\n",
       "      <td>295.000000</td>\n",
       "      <td>4606.980000</td>\n",
       "    </tr>\n",
       "    <tr>\n",
       "      <th>70310</th>\n",
       "      <th>X-ray of teeth, less than full mouth</th>\n",
       "      <td>12.237704</td>\n",
       "      <td>9.257998</td>\n",
       "      <td>1.306066e+09</td>\n",
       "      <td>293.500000</td>\n",
       "      <td>255.000000</td>\n",
       "      <td>295.000000</td>\n",
       "      <td>4654.485000</td>\n",
       "    </tr>\n",
       "    <tr>\n",
       "      <th>...</th>\n",
       "      <th>...</th>\n",
       "      <th>...</th>\n",
       "      <td>...</td>\n",
       "      <td>...</td>\n",
       "      <td>...</td>\n",
       "      <td>...</td>\n",
       "      <td>...</td>\n",
       "      <td>...</td>\n",
       "      <td>...</td>\n",
       "    </tr>\n",
       "    <tr>\n",
       "      <th rowspan=\"5\" valign=\"top\">Vascular Surgery</th>\n",
       "      <th>Q4131</th>\n",
       "      <th>Epifix or epicord, per square centimeter</th>\n",
       "      <td>161.975351</td>\n",
       "      <td>126.948602</td>\n",
       "      <td>1.543785e+09</td>\n",
       "      <td>237.500000</td>\n",
       "      <td>27.000000</td>\n",
       "      <td>5138.000000</td>\n",
       "      <td>830971.424989</td>\n",
       "    </tr>\n",
       "    <tr>\n",
       "      <th>Q4148</th>\n",
       "      <th>Neox 1k, per square centimeter</th>\n",
       "      <td>250.330000</td>\n",
       "      <td>196.258910</td>\n",
       "      <td>1.275593e+09</td>\n",
       "      <td>27.000000</td>\n",
       "      <td>11.000000</td>\n",
       "      <td>211.000000</td>\n",
       "      <td>52819.630000</td>\n",
       "    </tr>\n",
       "    <tr>\n",
       "      <th>Q9965</th>\n",
       "      <th>Low osmolar contrast material, 100-199 mg/ml iodine concentration, per ml</th>\n",
       "      <td>0.834526</td>\n",
       "      <td>0.654269</td>\n",
       "      <td>1.609892e+09</td>\n",
       "      <td>111.000000</td>\n",
       "      <td>70.000000</td>\n",
       "      <td>5786.000000</td>\n",
       "      <td>4828.570000</td>\n",
       "    </tr>\n",
       "    <tr>\n",
       "      <th>Q9966</th>\n",
       "      <th>Low osmolar contrast material, 200-299 mg/ml iodine concentration, per ml</th>\n",
       "      <td>0.246482</td>\n",
       "      <td>0.192448</td>\n",
       "      <td>1.531503e+09</td>\n",
       "      <td>93.891892</td>\n",
       "      <td>65.135135</td>\n",
       "      <td>5398.270270</td>\n",
       "      <td>1291.882703</td>\n",
       "    </tr>\n",
       "    <tr>\n",
       "      <th>Q9967</th>\n",
       "      <th>Low osmolar contrast material, 300-399 mg/ml iodine concentration, per ml</th>\n",
       "      <td>0.124234</td>\n",
       "      <td>0.096476</td>\n",
       "      <td>1.518484e+09</td>\n",
       "      <td>100.416216</td>\n",
       "      <td>74.827027</td>\n",
       "      <td>6281.327027</td>\n",
       "      <td>780.574595</td>\n",
       "    </tr>\n",
       "  </tbody>\n",
       "</table>\n",
       "<p>44747 rows × 7 columns</p>\n",
       "</div>"
      ],
      "text/plain": [
       "                                                                                  Average Medicare Allowed Amount  \\\n",
       "Provider Type      HCPCS Code HCPCS Description                                                                     \n",
       "Addiction Medicine 36415      Insertion of needle into vein for collection of...                         3.000000   \n",
       "                   36556      Insertion of central venous catheter for infusi...                       112.510000   \n",
       "                   36620      Insertion of arterial catheter for blood sampli...                        47.990000   \n",
       "                   70100      X-ray of mandible, less than 4 views                                      12.624219   \n",
       "                   70310      X-ray of teeth, less than full mouth                                      12.237704   \n",
       "...                                                                                                           ...   \n",
       "Vascular Surgery   Q4131      Epifix or epicord, per square centimeter                                 161.975351   \n",
       "                   Q4148      Neox 1k, per square centimeter                                           250.330000   \n",
       "                   Q9965      Low osmolar contrast material, 100-199 mg/ml io...                         0.834526   \n",
       "                   Q9966      Low osmolar contrast material, 200-299 mg/ml io...                         0.246482   \n",
       "                   Q9967      Low osmolar contrast material, 300-399 mg/ml io...                         0.124234   \n",
       "\n",
       "                                                                                  Average Medicare Payment Amount  \\\n",
       "Provider Type      HCPCS Code HCPCS Description                                                                     \n",
       "Addiction Medicine 36415      Insertion of needle into vein for collection of...                         2.933529   \n",
       "                   36556      Insertion of central venous catheter for infusi...                        88.210000   \n",
       "                   36620      Insertion of arterial catheter for blood sampli...                        37.620000   \n",
       "                   70100      X-ray of mandible, less than 4 views                                       9.532713   \n",
       "                   70310      X-ray of teeth, less than full mouth                                       9.257998   \n",
       "...                                                                                                           ...   \n",
       "Vascular Surgery   Q4131      Epifix or epicord, per square centimeter                                 126.948602   \n",
       "                   Q4148      Neox 1k, per square centimeter                                           196.258910   \n",
       "                   Q9965      Low osmolar contrast material, 100-199 mg/ml io...                         0.654269   \n",
       "                   Q9966      Low osmolar contrast material, 200-299 mg/ml io...                         0.192448   \n",
       "                   Q9967      Low osmolar contrast material, 300-399 mg/ml io...                         0.096476   \n",
       "\n",
       "                                                                                  National Provider Identifier  \\\n",
       "Provider Type      HCPCS Code HCPCS Description                                                                  \n",
       "Addiction Medicine 36415      Insertion of needle into vein for collection of...                  1.443171e+09   \n",
       "                   36556      Insertion of central venous catheter for infusi...                  1.770876e+09   \n",
       "                   36620      Insertion of arterial catheter for blood sampli...                  1.770876e+09   \n",
       "                   70100      X-ray of mandible, less than 4 views                                1.306066e+09   \n",
       "                   70310      X-ray of teeth, less than full mouth                                1.306066e+09   \n",
       "...                                                                                                        ...   \n",
       "Vascular Surgery   Q4131      Epifix or epicord, per square centimeter                            1.543785e+09   \n",
       "                   Q4148      Neox 1k, per square centimeter                                      1.275593e+09   \n",
       "                   Q9965      Low osmolar contrast material, 100-199 mg/ml io...                  1.609892e+09   \n",
       "                   Q9966      Low osmolar contrast material, 200-299 mg/ml io...                  1.531503e+09   \n",
       "                   Q9967      Low osmolar contrast material, 300-399 mg/ml io...                  1.518484e+09   \n",
       "\n",
       "                                                                                  Number of Distinct Medicare Beneficiary/Per Day Services  \\\n",
       "Provider Type      HCPCS Code HCPCS Description                                                                                              \n",
       "Addiction Medicine 36415      Insertion of needle into vein for collection of...                                          85.000000          \n",
       "                   36556      Insertion of central venous catheter for infusi...                                          11.000000          \n",
       "                   36620      Insertion of arterial catheter for blood sampli...                                          13.000000          \n",
       "                   70100      X-ray of mandible, less than 4 views                                                       293.500000          \n",
       "                   70310      X-ray of teeth, less than full mouth                                                       293.500000          \n",
       "...                                                                                                                             ...          \n",
       "Vascular Surgery   Q4131      Epifix or epicord, per square centimeter                                                   237.500000          \n",
       "                   Q4148      Neox 1k, per square centimeter                                                              27.000000          \n",
       "                   Q9965      Low osmolar contrast material, 100-199 mg/ml io...                                         111.000000          \n",
       "                   Q9966      Low osmolar contrast material, 200-299 mg/ml io...                                          93.891892          \n",
       "                   Q9967      Low osmolar contrast material, 300-399 mg/ml io...                                         100.416216          \n",
       "\n",
       "                                                                                  Number of Medicare Beneficiaries  \\\n",
       "Provider Type      HCPCS Code HCPCS Description                                                                      \n",
       "Addiction Medicine 36415      Insertion of needle into vein for collection of...                         52.285714   \n",
       "                   36556      Insertion of central venous catheter for infusi...                         11.000000   \n",
       "                   36620      Insertion of arterial catheter for blood sampli...                         12.000000   \n",
       "                   70100      X-ray of mandible, less than 4 views                                      255.000000   \n",
       "                   70310      X-ray of teeth, less than full mouth                                      255.000000   \n",
       "...                                                                                                            ...   \n",
       "Vascular Surgery   Q4131      Epifix or epicord, per square centimeter                                   27.000000   \n",
       "                   Q4148      Neox 1k, per square centimeter                                             11.000000   \n",
       "                   Q9965      Low osmolar contrast material, 100-199 mg/ml io...                         70.000000   \n",
       "                   Q9966      Low osmolar contrast material, 200-299 mg/ml io...                         65.135135   \n",
       "                   Q9967      Low osmolar contrast material, 300-399 mg/ml io...                         74.827027   \n",
       "\n",
       "                                                                                  Number of Services  \\\n",
       "Provider Type      HCPCS Code HCPCS Description                                                        \n",
       "Addiction Medicine 36415      Insertion of needle into vein for collection of...           85.000000   \n",
       "                   36556      Insertion of central venous catheter for infusi...           12.000000   \n",
       "                   36620      Insertion of arterial catheter for blood sampli...           13.000000   \n",
       "                   70100      X-ray of mandible, less than 4 views                        295.000000   \n",
       "                   70310      X-ray of teeth, less than full mouth                        295.000000   \n",
       "...                                                                                              ...   \n",
       "Vascular Surgery   Q4131      Epifix or epicord, per square centimeter                   5138.000000   \n",
       "                   Q4148      Neox 1k, per square centimeter                              211.000000   \n",
       "                   Q9965      Low osmolar contrast material, 100-199 mg/ml io...         5786.000000   \n",
       "                   Q9966      Low osmolar contrast material, 200-299 mg/ml io...         5398.270270   \n",
       "                   Q9967      Low osmolar contrast material, 300-399 mg/ml io...         6281.327027   \n",
       "\n",
       "                                                                                  Total Revenue  \n",
       "Provider Type      HCPCS Code HCPCS Description                                                  \n",
       "Addiction Medicine 36415      Insertion of needle into vein for collection of...     255.000000  \n",
       "                   36556      Insertion of central venous catheter for infusi...    1350.120000  \n",
       "                   36620      Insertion of arterial catheter for blood sampli...     623.870000  \n",
       "                   70100      X-ray of mandible, less than 4 views                  4606.980000  \n",
       "                   70310      X-ray of teeth, less than full mouth                  4654.485000  \n",
       "...                                                                                         ...  \n",
       "Vascular Surgery   Q4131      Epifix or epicord, per square centimeter            830971.424989  \n",
       "                   Q4148      Neox 1k, per square centimeter                       52819.630000  \n",
       "                   Q9965      Low osmolar contrast material, 100-199 mg/ml io...    4828.570000  \n",
       "                   Q9966      Low osmolar contrast material, 200-299 mg/ml io...    1291.882703  \n",
       "                   Q9967      Low osmolar contrast material, 300-399 mg/ml io...     780.574595  \n",
       "\n",
       "[44747 rows x 7 columns]"
      ]
     },
     "execution_count": 18,
     "metadata": {},
     "output_type": "execute_result"
    }
   ],
   "source": [
    "provider_no_office"
   ]
  },
  {
   "cell_type": "code",
   "execution_count": null,
   "metadata": {},
   "outputs": [],
   "source": []
  },
  {
   "cell_type": "code",
   "execution_count": 31,
   "metadata": {},
   "outputs": [],
   "source": [
    "names = ['Amanda', 'Ness', 'Cat', 'Ben', 'Jacob', 'Sophia']\n"
   ]
  },
  {
   "cell_type": "code",
   "execution_count": 32,
   "metadata": {},
   "outputs": [
    {
     "name": "stdout",
     "output_type": "stream",
     "text": [
      "Amanda\n"
     ]
    }
   ],
   "source": [
    "generator = names.pop(random.randrange(0,len(names),1))\n",
    "print(generator)"
   ]
  }
 ],
 "metadata": {
  "kernelspec": {
   "display_name": "Python 3",
   "language": "python",
   "name": "python3"
  },
  "language_info": {
   "codemirror_mode": {
    "name": "ipython",
    "version": 3
   },
   "file_extension": ".py",
   "mimetype": "text/x-python",
   "name": "python",
   "nbconvert_exporter": "python",
   "pygments_lexer": "ipython3",
   "version": "3.7.6"
  }
 },
 "nbformat": 4,
 "nbformat_minor": 4
}
