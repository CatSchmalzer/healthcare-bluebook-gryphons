{
 "cells": [
  {
   "cell_type": "markdown",
   "metadata": {},
   "source": [
    "Provider Types and highest revenue procedures (non-generic or new patient office visits)\n",
    "Look at both per procedure average and/or total revenue from procedure\n",
    "\n",
    "-Drop office visits from description column, and hospital  \n",
    "-pivot table to group (first by provider type then by procedure)  \n",
    "-save pivot table as dataframe and sort  \n",
    "-sophia did something with a for loop that i dont understand  \n",
    "-combine similar type of procedure using something that just looks at stuff before the comma and use a function and loop to say \"if things before the comma are identical, group these things together\"\n",
    "\n",
    "EDA  \n",
    "value_counts  \n",
    "pivot_table: provider type and description/codes; NPI and description/codes  \n",
    "bar chart  \n",
    "histogram  \n",
    "check for null values  \n",
    "info  "
   ]
  },
  {
   "cell_type": "code",
   "execution_count": 3,
   "metadata": {},
   "outputs": [],
   "source": [
    "import pandas as pd"
   ]
  },
  {
   "cell_type": "code",
   "execution_count": 4,
   "metadata": {},
   "outputs": [],
   "source": [
    "hcpcs = pd.read_pickle(\"../data/hcpcs_pay.pkl\")"
   ]
  },
  {
   "cell_type": "code",
   "execution_count": 5,
   "metadata": {},
   "outputs": [
    {
     "data": {
      "text/plain": [
       "array(['I', 'O'], dtype=object)"
      ]
     },
     "execution_count": 5,
     "metadata": {},
     "output_type": "execute_result"
    }
   ],
   "source": [
    "hcpcs['Entity Type of the Provider'].unique()"
   ]
  },
  {
   "cell_type": "code",
   "execution_count": 6,
   "metadata": {},
   "outputs": [
    {
     "data": {
      "text/plain": [
       "94"
      ]
     },
     "execution_count": 6,
     "metadata": {},
     "output_type": "execute_result"
    }
   ],
   "source": [
    "hcpcs['Provider Type'].nunique()"
   ]
  },
  {
   "cell_type": "code",
   "execution_count": 7,
   "metadata": {},
   "outputs": [
    {
     "data": {
      "text/plain": [
       "array(['Internal Medicine', 'Pathology', 'Anesthesiology',\n",
       "       'Family Practice', 'Obstetrics & Gynecology', 'General Surgery',\n",
       "       'Urology', 'Cardiac Surgery', 'Physician Assistant',\n",
       "       'Physical Therapist in Private Practice', 'Dermatology',\n",
       "       'Licensed Clinical Social Worker', 'Optometry',\n",
       "       'Mass Immunizer Roster Biller',\n",
       "       'Physical Medicine and Rehabilitation', 'Radiation Oncology',\n",
       "       'Infectious Disease', 'Orthopedic Surgery',\n",
       "       'Certified Clinical Nurse Specialist', 'Endocrinology',\n",
       "       'Chiropractic', 'Psychiatry', 'Diagnostic Radiology',\n",
       "       'Centralized Flu', 'Rheumatology', 'General Practice', 'Neurology',\n",
       "       'Emergency Medicine', 'Nephrology', 'Ophthalmology',\n",
       "       'Nurse Practitioner', 'Pulmonary Disease', 'Otolaryngology',\n",
       "       'Plastic and Reconstructive Surgery', 'Psychologist, Clinical',\n",
       "       'Cardiology', 'Ambulance Service Provider',\n",
       "       'Interventional Cardiology', 'Gastroenterology', 'Hospitalist',\n",
       "       'Audiologist', 'Certified Registered Nurse Anesthetist (CRNA)',\n",
       "       'Geriatric Medicine', 'Neurosurgery', 'Interventional Radiology',\n",
       "       'Critical Care (Intensivists)', 'Podiatry', 'Hematology-Oncology',\n",
       "       'All Other Suppliers', 'Ambulatory Surgical Center',\n",
       "       'Medical Oncology', 'Nuclear Medicine', 'Thoracic Surgery',\n",
       "       'Allergy/ Immunology', 'Certified Nurse Midwife',\n",
       "       'Pain Management', 'Sports Medicine',\n",
       "       'Occupational Therapist in Private Practice', 'Hand Surgery',\n",
       "       'Hospice and Palliative Care',\n",
       "       'Independent Diagnostic Testing Facility (IDTF)',\n",
       "       'Speech Language Pathologist', 'Clinical Laboratory',\n",
       "       'Advanced Heart Failure and Transplant Cardiology',\n",
       "       'Osteopathic Manipulative Medicine',\n",
       "       'Registered Dietitian or Nutrition Professional',\n",
       "       'Vascular Surgery', 'Pediatric Medicine',\n",
       "       'Anesthesiology Assistant', 'Clinical Cardiac Electrophysiology',\n",
       "       'Oral Surgery (Dentist only)', 'Undefined Physician type',\n",
       "       'Hematology', 'Portable X-Ray Supplier',\n",
       "       'Colorectal Surgery (Proctology)', 'Mammography Center',\n",
       "       'Surgical Oncology', 'Interventional Pain Management',\n",
       "       'Maxillofacial Surgery', 'Preventive Medicine',\n",
       "       'Public Health or Welfare Agency', 'Sleep Medicine',\n",
       "       'Addiction Medicine', 'Neuropsychiatry',\n",
       "       'Peripheral Vascular Disease', 'Gynecological Oncology',\n",
       "       'Geriatric Psychiatry', 'Clinic or Group Practice',\n",
       "       'Radiation Therapy Center', 'Slide Preparation Facility',\n",
       "       'Pharmacy', 'Dentist', 'Medical Toxicology',\n",
       "       'Unknown Supplier/Provider Specialty'], dtype=object)"
      ]
     },
     "execution_count": 7,
     "metadata": {},
     "output_type": "execute_result"
    }
   ],
   "source": [
    "hcpcs['Provider Type'].unique()"
   ]
  },
  {
   "cell_type": "code",
   "execution_count": 8,
   "metadata": {},
   "outputs": [
    {
     "name": "stdout",
     "output_type": "stream",
     "text": [
      "<class 'pandas.core.frame.DataFrame'>\n",
      "RangeIndex: 9847443 entries, 0 to 9847442\n",
      "Data columns (total 23 columns):\n",
      " #   Column                                                    Dtype  \n",
      "---  ------                                                    -----  \n",
      " 0   National Provider Identifier                              int64  \n",
      " 1   Last Name/Organization Name of the Provider               object \n",
      " 2   First Name of the Provider                                object \n",
      " 3   Credentials of the Provider                               object \n",
      " 4   Entity Type of the Provider                               object \n",
      " 5   Street Address 1 of the Provider                          object \n",
      " 6   City of the Provider                                      object \n",
      " 7   Zip Code of the Provider                                  object \n",
      " 8   State Code of the Provider                                object \n",
      " 9   Country Code of the Provider                              object \n",
      " 10  Provider Type                                             object \n",
      " 11  Medicare Participation Indicator                          object \n",
      " 12  Place of Service                                          object \n",
      " 13  HCPCS Code                                                object \n",
      " 14  HCPCS Description                                         object \n",
      " 15  HCPCS Drug Indicator                                      object \n",
      " 16  Number of Services                                        float64\n",
      " 17  Number of Medicare Beneficiaries                          int64  \n",
      " 18  Number of Distinct Medicare Beneficiary/Per Day Services  int64  \n",
      " 19  Average Medicare Allowed Amount                           float64\n",
      " 20  Average Submitted Charge Amount                           float64\n",
      " 21  Average Medicare Payment Amount                           float64\n",
      " 22  Average Medicare Standardized Amount                      float64\n",
      "dtypes: float64(5), int64(3), object(15)\n",
      "memory usage: 1.7+ GB\n"
     ]
    }
   ],
   "source": [
    "hcpcs.info()"
   ]
  },
  {
   "cell_type": "code",
   "execution_count": 9,
   "metadata": {},
   "outputs": [
    {
     "data": {
      "text/plain": [
       "array(['Y', 'N'], dtype=object)"
      ]
     },
     "execution_count": 9,
     "metadata": {},
     "output_type": "execute_result"
    }
   ],
   "source": [
    "hcpcs['Medicare Participation Indicator'].unique()"
   ]
  },
  {
   "cell_type": "code",
   "execution_count": 10,
   "metadata": {},
   "outputs": [
    {
     "data": {
      "text/plain": [
       "array(['N', 'Y'], dtype=object)"
      ]
     },
     "execution_count": 10,
     "metadata": {},
     "output_type": "execute_result"
    }
   ],
   "source": [
    "hcpcs['HCPCS Drug Indicator'].unique()"
   ]
  },
  {
   "cell_type": "code",
   "execution_count": 11,
   "metadata": {},
   "outputs": [
    {
     "data": {
      "text/plain": [
       "array([  100. ,    26. ,    52. , ..., 23387.4,  2522.7,   176.2])"
      ]
     },
     "execution_count": 11,
     "metadata": {},
     "output_type": "execute_result"
    }
   ],
   "source": [
    "hcpcs['Number of Services'].unique()"
   ]
  },
  {
   "cell_type": "code",
   "execution_count": 12,
   "metadata": {},
   "outputs": [],
   "source": [
    "baby_hcpcs = hcpcs[['National Provider Identifier', \n",
    "                    'Entity Type of the Provider', \n",
    "                    'Provider Type', \n",
    "                    'Medicare Participation Indicator', \n",
    "                    'HCPCS Code', \n",
    "                    'HCPCS Description', \n",
    "                    'Number of Services', \n",
    "                    'Average Medicare Allowed Amount', \n",
    "                    'Average Submitted Charge Amount', \n",
    "                    'Average Medicare Payment Amount', \n",
    "                    'Average Medicare Standardized Amount']]"
   ]
  },
  {
   "cell_type": "code",
   "execution_count": 13,
   "metadata": {},
   "outputs": [
    {
     "data": {
      "text/html": [
       "<div>\n",
       "<style scoped>\n",
       "    .dataframe tbody tr th:only-of-type {\n",
       "        vertical-align: middle;\n",
       "    }\n",
       "\n",
       "    .dataframe tbody tr th {\n",
       "        vertical-align: top;\n",
       "    }\n",
       "\n",
       "    .dataframe thead th {\n",
       "        text-align: right;\n",
       "    }\n",
       "</style>\n",
       "<table border=\"1\" class=\"dataframe\">\n",
       "  <thead>\n",
       "    <tr style=\"text-align: right;\">\n",
       "      <th></th>\n",
       "      <th>National Provider Identifier</th>\n",
       "      <th>Entity Type of the Provider</th>\n",
       "      <th>Provider Type</th>\n",
       "      <th>Medicare Participation Indicator</th>\n",
       "      <th>HCPCS Code</th>\n",
       "      <th>HCPCS Description</th>\n",
       "      <th>Number of Services</th>\n",
       "      <th>Average Medicare Allowed Amount</th>\n",
       "      <th>Average Submitted Charge Amount</th>\n",
       "      <th>Average Medicare Payment Amount</th>\n",
       "      <th>Average Medicare Standardized Amount</th>\n",
       "    </tr>\n",
       "  </thead>\n",
       "  <tbody>\n",
       "    <tr>\n",
       "      <th>0</th>\n",
       "      <td>1003000126</td>\n",
       "      <td>I</td>\n",
       "      <td>Internal Medicine</td>\n",
       "      <td>Y</td>\n",
       "      <td>99217</td>\n",
       "      <td>Hospital observation care discharge</td>\n",
       "      <td>100.0</td>\n",
       "      <td>73.398800</td>\n",
       "      <td>325.780000</td>\n",
       "      <td>56.827200</td>\n",
       "      <td>57.492400</td>\n",
       "    </tr>\n",
       "    <tr>\n",
       "      <th>1</th>\n",
       "      <td>1003000126</td>\n",
       "      <td>I</td>\n",
       "      <td>Internal Medicine</td>\n",
       "      <td>Y</td>\n",
       "      <td>99218</td>\n",
       "      <td>Hospital observation care typically 30 minutes</td>\n",
       "      <td>26.0</td>\n",
       "      <td>100.080000</td>\n",
       "      <td>449.000000</td>\n",
       "      <td>78.460000</td>\n",
       "      <td>79.306154</td>\n",
       "    </tr>\n",
       "    <tr>\n",
       "      <th>2</th>\n",
       "      <td>1003000126</td>\n",
       "      <td>I</td>\n",
       "      <td>Internal Medicine</td>\n",
       "      <td>Y</td>\n",
       "      <td>99219</td>\n",
       "      <td>Hospital observation care typically 50 minutes</td>\n",
       "      <td>52.0</td>\n",
       "      <td>136.380000</td>\n",
       "      <td>614.000000</td>\n",
       "      <td>102.807692</td>\n",
       "      <td>103.895385</td>\n",
       "    </tr>\n",
       "    <tr>\n",
       "      <th>3</th>\n",
       "      <td>1003000126</td>\n",
       "      <td>I</td>\n",
       "      <td>Internal Medicine</td>\n",
       "      <td>Y</td>\n",
       "      <td>99220</td>\n",
       "      <td>Hospital observation care typically 70 minutes...</td>\n",
       "      <td>59.0</td>\n",
       "      <td>190.363729</td>\n",
       "      <td>755.932203</td>\n",
       "      <td>141.293559</td>\n",
       "      <td>142.865763</td>\n",
       "    </tr>\n",
       "    <tr>\n",
       "      <th>4</th>\n",
       "      <td>1003000126</td>\n",
       "      <td>I</td>\n",
       "      <td>Internal Medicine</td>\n",
       "      <td>Y</td>\n",
       "      <td>99221</td>\n",
       "      <td>Initial hospital inpatient care, typically 30 ...</td>\n",
       "      <td>16.0</td>\n",
       "      <td>101.680000</td>\n",
       "      <td>462.812500</td>\n",
       "      <td>79.710000</td>\n",
       "      <td>80.750000</td>\n",
       "    </tr>\n",
       "  </tbody>\n",
       "</table>\n",
       "</div>"
      ],
      "text/plain": [
       "   National Provider Identifier Entity Type of the Provider  \\\n",
       "0                    1003000126                           I   \n",
       "1                    1003000126                           I   \n",
       "2                    1003000126                           I   \n",
       "3                    1003000126                           I   \n",
       "4                    1003000126                           I   \n",
       "\n",
       "       Provider Type Medicare Participation Indicator HCPCS Code  \\\n",
       "0  Internal Medicine                                Y      99217   \n",
       "1  Internal Medicine                                Y      99218   \n",
       "2  Internal Medicine                                Y      99219   \n",
       "3  Internal Medicine                                Y      99220   \n",
       "4  Internal Medicine                                Y      99221   \n",
       "\n",
       "                                   HCPCS Description  Number of Services  \\\n",
       "0                Hospital observation care discharge               100.0   \n",
       "1     Hospital observation care typically 30 minutes                26.0   \n",
       "2     Hospital observation care typically 50 minutes                52.0   \n",
       "3  Hospital observation care typically 70 minutes...                59.0   \n",
       "4  Initial hospital inpatient care, typically 30 ...                16.0   \n",
       "\n",
       "   Average Medicare Allowed Amount  Average Submitted Charge Amount  \\\n",
       "0                        73.398800                       325.780000   \n",
       "1                       100.080000                       449.000000   \n",
       "2                       136.380000                       614.000000   \n",
       "3                       190.363729                       755.932203   \n",
       "4                       101.680000                       462.812500   \n",
       "\n",
       "   Average Medicare Payment Amount  Average Medicare Standardized Amount  \n",
       "0                        56.827200                             57.492400  \n",
       "1                        78.460000                             79.306154  \n",
       "2                       102.807692                            103.895385  \n",
       "3                       141.293559                            142.865763  \n",
       "4                        79.710000                             80.750000  "
      ]
     },
     "execution_count": 13,
     "metadata": {},
     "output_type": "execute_result"
    }
   ],
   "source": [
    "baby_hcpcs.head()"
   ]
  },
  {
   "cell_type": "code",
   "execution_count": 14,
   "metadata": {},
   "outputs": [
    {
     "name": "stdout",
     "output_type": "stream",
     "text": [
      "<class 'pandas.core.frame.DataFrame'>\n",
      "RangeIndex: 9847443 entries, 0 to 9847442\n",
      "Data columns (total 11 columns):\n",
      " #   Column                                Non-Null Count    Dtype  \n",
      "---  ------                                --------------    -----  \n",
      " 0   National Provider Identifier          9847443 non-null  int64  \n",
      " 1   Entity Type of the Provider           9847443 non-null  object \n",
      " 2   Provider Type                         9847443 non-null  object \n",
      " 3   Medicare Participation Indicator      9847443 non-null  object \n",
      " 4   HCPCS Code                            9847443 non-null  object \n",
      " 5   HCPCS Description                     9847443 non-null  object \n",
      " 6   Number of Services                    9847443 non-null  float64\n",
      " 7   Average Medicare Allowed Amount       9847443 non-null  float64\n",
      " 8   Average Submitted Charge Amount       9847443 non-null  float64\n",
      " 9   Average Medicare Payment Amount       9847443 non-null  float64\n",
      " 10  Average Medicare Standardized Amount  9847443 non-null  float64\n",
      "dtypes: float64(5), int64(1), object(5)\n",
      "memory usage: 826.4+ MB\n"
     ]
    }
   ],
   "source": [
    "baby_hcpcs.info(null_counts = True)"
   ]
  },
  {
   "cell_type": "code",
   "execution_count": 15,
   "metadata": {},
   "outputs": [
    {
     "data": {
      "text/plain": [
       "5467"
      ]
     },
     "execution_count": 15,
     "metadata": {},
     "output_type": "execute_result"
    }
   ],
   "source": [
    "baby_hcpcs['HCPCS Description'].nunique()"
   ]
  },
  {
   "cell_type": "code",
   "execution_count": 23,
   "metadata": {},
   "outputs": [
    {
     "data": {
      "text/plain": [
       "Prolonged office or other outpatient service first hour                                                                                                                                                                                                             3203\n",
       "Chemotherapy administration, intravenous infusion technique; initiation of infusion in the office/clinic setting using office/clinic pump/supplies, with continuation of the infusion in the community setting (e.g., home, domiciliary, rest home or assisted l     740\n",
       "Cognition and functional assessment using standardized instruments with development of recorded care plan for the patient with cognitive impairment, history obtained from patient and/or caregiver, in office or other outpatient setting or home or domiciliar     355\n",
       "Prolonged office or other outpatient service each 30 minutes beyond first hour                                                                                                                                                                                       182\n",
       "Prolonged office or other outpatient service by clinical staff - first hour                                                                                                                                                                                           34\n",
       "Prolonged office or other outpatient service by clinical staff - each additional 30 minutes                                                                                                                                                                            5\n",
       "Name: HCPCS Description, dtype: int64"
      ]
     },
     "execution_count": 23,
     "metadata": {},
     "output_type": "execute_result"
    }
   ],
   "source": [
    "baby_hcpcs.loc[baby_hcpcs['HCPCS Description'].str.contains('office')]['HCPCS Description'].value_counts()"
   ]
  },
  {
   "cell_type": "code",
   "execution_count": 24,
   "metadata": {},
   "outputs": [],
   "source": [
    "baby_hcpcs = baby_hcpcs[~baby_hcpcs['HCPCS Description'].str.contains('patient office')]"
   ]
  },
  {
   "cell_type": "code",
   "execution_count": 25,
   "metadata": {},
   "outputs": [
    {
     "data": {
      "text/plain": [
       "Series([], Name: HCPCS Description, dtype: int64)"
      ]
     },
     "execution_count": 25,
     "metadata": {},
     "output_type": "execute_result"
    }
   ],
   "source": [
    "baby_hcpcs.loc[baby_hcpcs['HCPCS Description'].str.contains('patient office')]['HCPCS Description'].value_counts()"
   ]
  },
  {
   "cell_type": "code",
   "execution_count": 27,
   "metadata": {},
   "outputs": [
    {
     "data": {
      "text/plain": [
       "(8204794, 11)"
      ]
     },
     "execution_count": 27,
     "metadata": {},
     "output_type": "execute_result"
    }
   ],
   "source": [
    "baby_hcpcs.shape"
   ]
  },
  {
   "cell_type": "markdown",
   "metadata": {},
   "source": [
    "In theory, I now have a dataframe with several unnecessary columns dropped and any HCPCS Descriptions that included \"patient office\" are now gone as well. Next step is to create a pivot table that groups first by provider type then by procedure."
   ]
  },
  {
   "cell_type": "code",
   "execution_count": 29,
   "metadata": {},
   "outputs": [],
   "source": [
    "baby_hcpcs_pivot = baby_hcpcs.pivot_table(index=['Provider Type'], values=['Average Medicare Allowed Amount', 'Number of Services'], aggfunc='sum')"
   ]
  },
  {
   "cell_type": "code",
   "execution_count": 30,
   "metadata": {},
   "outputs": [
    {
     "data": {
      "text/html": [
       "<div>\n",
       "<style scoped>\n",
       "    .dataframe tbody tr th:only-of-type {\n",
       "        vertical-align: middle;\n",
       "    }\n",
       "\n",
       "    .dataframe tbody tr th {\n",
       "        vertical-align: top;\n",
       "    }\n",
       "\n",
       "    .dataframe thead th {\n",
       "        text-align: right;\n",
       "    }\n",
       "</style>\n",
       "<table border=\"1\" class=\"dataframe\">\n",
       "  <thead>\n",
       "    <tr style=\"text-align: right;\">\n",
       "      <th></th>\n",
       "      <th>Average Medicare Allowed Amount</th>\n",
       "      <th>Number of Services</th>\n",
       "    </tr>\n",
       "    <tr>\n",
       "      <th>Provider Type</th>\n",
       "      <th></th>\n",
       "      <th></th>\n",
       "    </tr>\n",
       "  </thead>\n",
       "  <tbody>\n",
       "    <tr>\n",
       "      <th>Addiction Medicine</th>\n",
       "      <td>4.018654e+04</td>\n",
       "      <td>68146.0</td>\n",
       "    </tr>\n",
       "    <tr>\n",
       "      <th>Advanced Heart Failure and Transplant Cardiology</th>\n",
       "      <td>1.367311e+04</td>\n",
       "      <td>10091.0</td>\n",
       "    </tr>\n",
       "    <tr>\n",
       "      <th>All Other Suppliers</th>\n",
       "      <td>6.741056e+05</td>\n",
       "      <td>18202361.2</td>\n",
       "    </tr>\n",
       "    <tr>\n",
       "      <th>Allergy/ Immunology</th>\n",
       "      <td>4.986496e+05</td>\n",
       "      <td>15530267.9</td>\n",
       "    </tr>\n",
       "    <tr>\n",
       "      <th>Ambulance Service Provider</th>\n",
       "      <td>1.097784e+07</td>\n",
       "      <td>161178120.5</td>\n",
       "    </tr>\n",
       "  </tbody>\n",
       "</table>\n",
       "</div>"
      ],
      "text/plain": [
       "                                                  Average Medicare Allowed Amount  \\\n",
       "Provider Type                                                                       \n",
       "Addiction Medicine                                                   4.018654e+04   \n",
       "Advanced Heart Failure and Transplant Cardiology                     1.367311e+04   \n",
       "All Other Suppliers                                                  6.741056e+05   \n",
       "Allergy/ Immunology                                                  4.986496e+05   \n",
       "Ambulance Service Provider                                           1.097784e+07   \n",
       "\n",
       "                                                  Number of Services  \n",
       "Provider Type                                                         \n",
       "Addiction Medicine                                           68146.0  \n",
       "Advanced Heart Failure and Transplant Cardiology             10091.0  \n",
       "All Other Suppliers                                       18202361.2  \n",
       "Allergy/ Immunology                                       15530267.9  \n",
       "Ambulance Service Provider                               161178120.5  "
      ]
     },
     "execution_count": 30,
     "metadata": {},
     "output_type": "execute_result"
    }
   ],
   "source": [
    "baby_hcpcs_pivot.head()"
   ]
  },
  {
   "cell_type": "code",
   "execution_count": 38,
   "metadata": {},
   "outputs": [
    {
     "name": "stdout",
     "output_type": "stream",
     "text": [
      "<class 'pandas.core.frame.DataFrame'>\n",
      "Index: 94 entries, Addiction Medicine to Vascular Surgery\n",
      "Data columns (total 2 columns):\n",
      " #   Column                           Non-Null Count  Dtype  \n",
      "---  ------                           --------------  -----  \n",
      " 0   Average Medicare Allowed Amount  94 non-null     float64\n",
      " 1   Number of Services               94 non-null     float64\n",
      "dtypes: float64(2)\n",
      "memory usage: 2.2+ KB\n"
     ]
    }
   ],
   "source": [
    "baby_hcpcs_pivot.info()"
   ]
  },
  {
   "cell_type": "code",
   "execution_count": 43,
   "metadata": {},
   "outputs": [],
   "source": [
    "baby_hcpcs_pivot['total']=baby_hcpcs_pivot['Average Medicare Allowed Amount']*baby_hcpcs_pivot['Number of Services']"
   ]
  },
  {
   "cell_type": "code",
   "execution_count": 44,
   "metadata": {},
   "outputs": [
    {
     "data": {
      "text/html": [
       "<div>\n",
       "<style scoped>\n",
       "    .dataframe tbody tr th:only-of-type {\n",
       "        vertical-align: middle;\n",
       "    }\n",
       "\n",
       "    .dataframe tbody tr th {\n",
       "        vertical-align: top;\n",
       "    }\n",
       "\n",
       "    .dataframe thead th {\n",
       "        text-align: right;\n",
       "    }\n",
       "</style>\n",
       "<table border=\"1\" class=\"dataframe\">\n",
       "  <thead>\n",
       "    <tr style=\"text-align: right;\">\n",
       "      <th></th>\n",
       "      <th>Average Medicare Allowed Amount</th>\n",
       "      <th>Number of Services</th>\n",
       "      <th>total</th>\n",
       "    </tr>\n",
       "    <tr>\n",
       "      <th>Provider Type</th>\n",
       "      <th></th>\n",
       "      <th></th>\n",
       "      <th></th>\n",
       "    </tr>\n",
       "  </thead>\n",
       "  <tbody>\n",
       "    <tr>\n",
       "      <th>Addiction Medicine</th>\n",
       "      <td>4.018654e+04</td>\n",
       "      <td>68146.0</td>\n",
       "      <td>2.738552e+09</td>\n",
       "    </tr>\n",
       "    <tr>\n",
       "      <th>Advanced Heart Failure and Transplant Cardiology</th>\n",
       "      <td>1.367311e+04</td>\n",
       "      <td>10091.0</td>\n",
       "      <td>1.379754e+08</td>\n",
       "    </tr>\n",
       "    <tr>\n",
       "      <th>All Other Suppliers</th>\n",
       "      <td>6.741056e+05</td>\n",
       "      <td>18202361.2</td>\n",
       "      <td>1.227031e+13</td>\n",
       "    </tr>\n",
       "    <tr>\n",
       "      <th>Allergy/ Immunology</th>\n",
       "      <td>4.986496e+05</td>\n",
       "      <td>15530267.9</td>\n",
       "      <td>7.744163e+12</td>\n",
       "    </tr>\n",
       "    <tr>\n",
       "      <th>Ambulance Service Provider</th>\n",
       "      <td>1.097784e+07</td>\n",
       "      <td>161178120.5</td>\n",
       "      <td>1.769387e+15</td>\n",
       "    </tr>\n",
       "  </tbody>\n",
       "</table>\n",
       "</div>"
      ],
      "text/plain": [
       "                                                  Average Medicare Allowed Amount  \\\n",
       "Provider Type                                                                       \n",
       "Addiction Medicine                                                   4.018654e+04   \n",
       "Advanced Heart Failure and Transplant Cardiology                     1.367311e+04   \n",
       "All Other Suppliers                                                  6.741056e+05   \n",
       "Allergy/ Immunology                                                  4.986496e+05   \n",
       "Ambulance Service Provider                                           1.097784e+07   \n",
       "\n",
       "                                                  Number of Services  \\\n",
       "Provider Type                                                          \n",
       "Addiction Medicine                                           68146.0   \n",
       "Advanced Heart Failure and Transplant Cardiology             10091.0   \n",
       "All Other Suppliers                                       18202361.2   \n",
       "Allergy/ Immunology                                       15530267.9   \n",
       "Ambulance Service Provider                               161178120.5   \n",
       "\n",
       "                                                         total  \n",
       "Provider Type                                                   \n",
       "Addiction Medicine                                2.738552e+09  \n",
       "Advanced Heart Failure and Transplant Cardiology  1.379754e+08  \n",
       "All Other Suppliers                               1.227031e+13  \n",
       "Allergy/ Immunology                               7.744163e+12  \n",
       "Ambulance Service Provider                        1.769387e+15  "
      ]
     },
     "execution_count": 44,
     "metadata": {},
     "output_type": "execute_result"
    }
   ],
   "source": [
    "baby_hcpcs_pivot.head()"
   ]
  },
  {
   "cell_type": "code",
   "execution_count": null,
   "metadata": {},
   "outputs": [],
   "source": []
  }
 ],
 "metadata": {
  "kernelspec": {
   "display_name": "Python 3",
   "language": "python",
   "name": "python3"
  },
  "language_info": {
   "codemirror_mode": {
    "name": "ipython",
    "version": 3
   },
   "file_extension": ".py",
   "mimetype": "text/x-python",
   "name": "python",
   "nbconvert_exporter": "python",
   "pygments_lexer": "ipython3",
   "version": "3.7.6"
  }
 },
 "nbformat": 4,
 "nbformat_minor": 4
}
