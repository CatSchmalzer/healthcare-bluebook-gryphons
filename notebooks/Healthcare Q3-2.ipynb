{
 "cells": [
  {
   "cell_type": "markdown",
   "metadata": {},
   "source": [
    "Provider Types and highest revenue procedures (non-generic or new patient office visits)\n",
    "Look at both per procedure average and/or total revenue from procedure\n",
    "\n",
    "-Drop office visits from description column, and hospital  \n",
    "-pivot table to group (first by provider type then by procedure)  \n",
    "-save pivot table as dataframe and sort  \n",
    "-sophia did something with a for loop that i dont understand  \n",
    "-combine similar type of procedure using something that just looks at stuff before the comma and use a function and loop to say \"if things before the comma are identical, group these things together\"\n",
    "\n",
    "EDA  \n",
    "value_counts  \n",
    "pivot_table: provider type and description/codes; NPI and description/codes  \n",
    "bar chart  \n",
    "histogram  \n",
    "check for null values  \n",
    "info  "
   ]
  },
  {
   "cell_type": "code",
   "execution_count": 33,
   "metadata": {},
   "outputs": [],
   "source": [
    "import pandas as pd"
   ]
  },
  {
   "cell_type": "code",
   "execution_count": 34,
   "metadata": {},
   "outputs": [],
   "source": [
    "hcpcs = pd.read_pickle(\"../data/hcpcs_pay.pkl\")"
   ]
  },
  {
   "cell_type": "code",
   "execution_count": 35,
   "metadata": {},
   "outputs": [
    {
     "data": {
      "text/plain": [
       "array(['I', 'O'], dtype=object)"
      ]
     },
     "execution_count": 35,
     "metadata": {},
     "output_type": "execute_result"
    }
   ],
   "source": [
    "hcpcs['Entity Type of the Provider'].unique()"
   ]
  },
  {
   "cell_type": "code",
   "execution_count": 36,
   "metadata": {},
   "outputs": [
    {
     "data": {
      "text/plain": [
       "94"
      ]
     },
     "execution_count": 36,
     "metadata": {},
     "output_type": "execute_result"
    }
   ],
   "source": [
    "hcpcs['Provider Type'].nunique()"
   ]
  },
  {
   "cell_type": "code",
   "execution_count": 37,
   "metadata": {},
   "outputs": [
    {
     "data": {
      "text/plain": [
       "array(['Internal Medicine', 'Pathology', 'Anesthesiology',\n",
       "       'Family Practice', 'Obstetrics & Gynecology', 'General Surgery',\n",
       "       'Urology', 'Cardiac Surgery', 'Physician Assistant',\n",
       "       'Physical Therapist in Private Practice', 'Dermatology',\n",
       "       'Licensed Clinical Social Worker', 'Optometry',\n",
       "       'Mass Immunizer Roster Biller',\n",
       "       'Physical Medicine and Rehabilitation', 'Radiation Oncology',\n",
       "       'Infectious Disease', 'Orthopedic Surgery',\n",
       "       'Certified Clinical Nurse Specialist', 'Endocrinology',\n",
       "       'Chiropractic', 'Psychiatry', 'Diagnostic Radiology',\n",
       "       'Centralized Flu', 'Rheumatology', 'General Practice', 'Neurology',\n",
       "       'Emergency Medicine', 'Nephrology', 'Ophthalmology',\n",
       "       'Nurse Practitioner', 'Pulmonary Disease', 'Otolaryngology',\n",
       "       'Plastic and Reconstructive Surgery', 'Psychologist, Clinical',\n",
       "       'Cardiology', 'Ambulance Service Provider',\n",
       "       'Interventional Cardiology', 'Gastroenterology', 'Hospitalist',\n",
       "       'Audiologist', 'Certified Registered Nurse Anesthetist (CRNA)',\n",
       "       'Geriatric Medicine', 'Neurosurgery', 'Interventional Radiology',\n",
       "       'Critical Care (Intensivists)', 'Podiatry', 'Hematology-Oncology',\n",
       "       'All Other Suppliers', 'Ambulatory Surgical Center',\n",
       "       'Medical Oncology', 'Nuclear Medicine', 'Thoracic Surgery',\n",
       "       'Allergy/ Immunology', 'Certified Nurse Midwife',\n",
       "       'Pain Management', 'Sports Medicine',\n",
       "       'Occupational Therapist in Private Practice', 'Hand Surgery',\n",
       "       'Hospice and Palliative Care',\n",
       "       'Independent Diagnostic Testing Facility (IDTF)',\n",
       "       'Speech Language Pathologist', 'Clinical Laboratory',\n",
       "       'Advanced Heart Failure and Transplant Cardiology',\n",
       "       'Osteopathic Manipulative Medicine',\n",
       "       'Registered Dietitian or Nutrition Professional',\n",
       "       'Vascular Surgery', 'Pediatric Medicine',\n",
       "       'Anesthesiology Assistant', 'Clinical Cardiac Electrophysiology',\n",
       "       'Oral Surgery (Dentist only)', 'Undefined Physician type',\n",
       "       'Hematology', 'Portable X-Ray Supplier',\n",
       "       'Colorectal Surgery (Proctology)', 'Mammography Center',\n",
       "       'Surgical Oncology', 'Interventional Pain Management',\n",
       "       'Maxillofacial Surgery', 'Preventive Medicine',\n",
       "       'Public Health or Welfare Agency', 'Sleep Medicine',\n",
       "       'Addiction Medicine', 'Neuropsychiatry',\n",
       "       'Peripheral Vascular Disease', 'Gynecological Oncology',\n",
       "       'Geriatric Psychiatry', 'Clinic or Group Practice',\n",
       "       'Radiation Therapy Center', 'Slide Preparation Facility',\n",
       "       'Pharmacy', 'Dentist', 'Medical Toxicology',\n",
       "       'Unknown Supplier/Provider Specialty'], dtype=object)"
      ]
     },
     "execution_count": 37,
     "metadata": {},
     "output_type": "execute_result"
    }
   ],
   "source": [
    "hcpcs['Provider Type'].unique()"
   ]
  },
  {
   "cell_type": "code",
   "execution_count": 38,
   "metadata": {},
   "outputs": [
    {
     "name": "stdout",
     "output_type": "stream",
     "text": [
      "<class 'pandas.core.frame.DataFrame'>\n",
      "RangeIndex: 9847443 entries, 0 to 9847442\n",
      "Data columns (total 23 columns):\n",
      " #   Column                                                    Dtype  \n",
      "---  ------                                                    -----  \n",
      " 0   National Provider Identifier                              int64  \n",
      " 1   Last Name/Organization Name of the Provider               object \n",
      " 2   First Name of the Provider                                object \n",
      " 3   Credentials of the Provider                               object \n",
      " 4   Entity Type of the Provider                               object \n",
      " 5   Street Address 1 of the Provider                          object \n",
      " 6   City of the Provider                                      object \n",
      " 7   Zip Code of the Provider                                  object \n",
      " 8   State Code of the Provider                                object \n",
      " 9   Country Code of the Provider                              object \n",
      " 10  Provider Type                                             object \n",
      " 11  Medicare Participation Indicator                          object \n",
      " 12  Place of Service                                          object \n",
      " 13  HCPCS Code                                                object \n",
      " 14  HCPCS Description                                         object \n",
      " 15  HCPCS Drug Indicator                                      object \n",
      " 16  Number of Services                                        float64\n",
      " 17  Number of Medicare Beneficiaries                          int64  \n",
      " 18  Number of Distinct Medicare Beneficiary/Per Day Services  int64  \n",
      " 19  Average Medicare Allowed Amount                           float64\n",
      " 20  Average Submitted Charge Amount                           float64\n",
      " 21  Average Medicare Payment Amount                           float64\n",
      " 22  Average Medicare Standardized Amount                      float64\n",
      "dtypes: float64(5), int64(3), object(15)\n",
      "memory usage: 1.7+ GB\n"
     ]
    }
   ],
   "source": [
    "hcpcs.info()"
   ]
  },
  {
   "cell_type": "code",
   "execution_count": 39,
   "metadata": {},
   "outputs": [
    {
     "data": {
      "text/plain": [
       "array(['Y', 'N'], dtype=object)"
      ]
     },
     "execution_count": 39,
     "metadata": {},
     "output_type": "execute_result"
    }
   ],
   "source": [
    "hcpcs['Medicare Participation Indicator'].unique()"
   ]
  },
  {
   "cell_type": "code",
   "execution_count": 40,
   "metadata": {},
   "outputs": [
    {
     "data": {
      "text/plain": [
       "array(['N', 'Y'], dtype=object)"
      ]
     },
     "execution_count": 40,
     "metadata": {},
     "output_type": "execute_result"
    }
   ],
   "source": [
    "hcpcs['HCPCS Drug Indicator'].unique()"
   ]
  },
  {
   "cell_type": "code",
   "execution_count": 41,
   "metadata": {},
   "outputs": [
    {
     "data": {
      "text/plain": [
       "array([  100. ,    26. ,    52. , ..., 23387.4,  2522.7,   176.2])"
      ]
     },
     "execution_count": 41,
     "metadata": {},
     "output_type": "execute_result"
    }
   ],
   "source": [
    "hcpcs['Number of Services'].unique()"
   ]
  },
  {
   "cell_type": "code",
   "execution_count": 42,
   "metadata": {},
   "outputs": [],
   "source": [
    "baby_hcpcs = hcpcs[['National Provider Identifier', \n",
    "                    'Entity Type of the Provider', \n",
    "                    'Provider Type', \n",
    "                    'Medicare Participation Indicator', \n",
    "                    'HCPCS Code', \n",
    "                    'HCPCS Description', \n",
    "                    'Number of Services', \n",
    "                    'Average Medicare Allowed Amount', \n",
    "                    'Average Submitted Charge Amount', \n",
    "                    'Average Medicare Payment Amount', \n",
    "                    'Average Medicare Standardized Amount']]"
   ]
  },
  {
   "cell_type": "code",
   "execution_count": 43,
   "metadata": {},
   "outputs": [
    {
     "data": {
      "text/html": [
       "<div>\n",
       "<style scoped>\n",
       "    .dataframe tbody tr th:only-of-type {\n",
       "        vertical-align: middle;\n",
       "    }\n",
       "\n",
       "    .dataframe tbody tr th {\n",
       "        vertical-align: top;\n",
       "    }\n",
       "\n",
       "    .dataframe thead th {\n",
       "        text-align: right;\n",
       "    }\n",
       "</style>\n",
       "<table border=\"1\" class=\"dataframe\">\n",
       "  <thead>\n",
       "    <tr style=\"text-align: right;\">\n",
       "      <th></th>\n",
       "      <th>National Provider Identifier</th>\n",
       "      <th>Entity Type of the Provider</th>\n",
       "      <th>Provider Type</th>\n",
       "      <th>Medicare Participation Indicator</th>\n",
       "      <th>HCPCS Code</th>\n",
       "      <th>HCPCS Description</th>\n",
       "      <th>Number of Services</th>\n",
       "      <th>Average Medicare Allowed Amount</th>\n",
       "      <th>Average Submitted Charge Amount</th>\n",
       "      <th>Average Medicare Payment Amount</th>\n",
       "      <th>Average Medicare Standardized Amount</th>\n",
       "    </tr>\n",
       "  </thead>\n",
       "  <tbody>\n",
       "    <tr>\n",
       "      <th>0</th>\n",
       "      <td>1003000126</td>\n",
       "      <td>I</td>\n",
       "      <td>Internal Medicine</td>\n",
       "      <td>Y</td>\n",
       "      <td>99217</td>\n",
       "      <td>Hospital observation care discharge</td>\n",
       "      <td>100.0</td>\n",
       "      <td>73.398800</td>\n",
       "      <td>325.780000</td>\n",
       "      <td>56.827200</td>\n",
       "      <td>57.492400</td>\n",
       "    </tr>\n",
       "    <tr>\n",
       "      <th>1</th>\n",
       "      <td>1003000126</td>\n",
       "      <td>I</td>\n",
       "      <td>Internal Medicine</td>\n",
       "      <td>Y</td>\n",
       "      <td>99218</td>\n",
       "      <td>Hospital observation care typically 30 minutes</td>\n",
       "      <td>26.0</td>\n",
       "      <td>100.080000</td>\n",
       "      <td>449.000000</td>\n",
       "      <td>78.460000</td>\n",
       "      <td>79.306154</td>\n",
       "    </tr>\n",
       "    <tr>\n",
       "      <th>2</th>\n",
       "      <td>1003000126</td>\n",
       "      <td>I</td>\n",
       "      <td>Internal Medicine</td>\n",
       "      <td>Y</td>\n",
       "      <td>99219</td>\n",
       "      <td>Hospital observation care typically 50 minutes</td>\n",
       "      <td>52.0</td>\n",
       "      <td>136.380000</td>\n",
       "      <td>614.000000</td>\n",
       "      <td>102.807692</td>\n",
       "      <td>103.895385</td>\n",
       "    </tr>\n",
       "    <tr>\n",
       "      <th>3</th>\n",
       "      <td>1003000126</td>\n",
       "      <td>I</td>\n",
       "      <td>Internal Medicine</td>\n",
       "      <td>Y</td>\n",
       "      <td>99220</td>\n",
       "      <td>Hospital observation care typically 70 minutes...</td>\n",
       "      <td>59.0</td>\n",
       "      <td>190.363729</td>\n",
       "      <td>755.932203</td>\n",
       "      <td>141.293559</td>\n",
       "      <td>142.865763</td>\n",
       "    </tr>\n",
       "    <tr>\n",
       "      <th>4</th>\n",
       "      <td>1003000126</td>\n",
       "      <td>I</td>\n",
       "      <td>Internal Medicine</td>\n",
       "      <td>Y</td>\n",
       "      <td>99221</td>\n",
       "      <td>Initial hospital inpatient care, typically 30 ...</td>\n",
       "      <td>16.0</td>\n",
       "      <td>101.680000</td>\n",
       "      <td>462.812500</td>\n",
       "      <td>79.710000</td>\n",
       "      <td>80.750000</td>\n",
       "    </tr>\n",
       "  </tbody>\n",
       "</table>\n",
       "</div>"
      ],
      "text/plain": [
       "   National Provider Identifier Entity Type of the Provider  \\\n",
       "0                    1003000126                           I   \n",
       "1                    1003000126                           I   \n",
       "2                    1003000126                           I   \n",
       "3                    1003000126                           I   \n",
       "4                    1003000126                           I   \n",
       "\n",
       "       Provider Type Medicare Participation Indicator HCPCS Code  \\\n",
       "0  Internal Medicine                                Y      99217   \n",
       "1  Internal Medicine                                Y      99218   \n",
       "2  Internal Medicine                                Y      99219   \n",
       "3  Internal Medicine                                Y      99220   \n",
       "4  Internal Medicine                                Y      99221   \n",
       "\n",
       "                                   HCPCS Description  Number of Services  \\\n",
       "0                Hospital observation care discharge               100.0   \n",
       "1     Hospital observation care typically 30 minutes                26.0   \n",
       "2     Hospital observation care typically 50 minutes                52.0   \n",
       "3  Hospital observation care typically 70 minutes...                59.0   \n",
       "4  Initial hospital inpatient care, typically 30 ...                16.0   \n",
       "\n",
       "   Average Medicare Allowed Amount  Average Submitted Charge Amount  \\\n",
       "0                        73.398800                       325.780000   \n",
       "1                       100.080000                       449.000000   \n",
       "2                       136.380000                       614.000000   \n",
       "3                       190.363729                       755.932203   \n",
       "4                       101.680000                       462.812500   \n",
       "\n",
       "   Average Medicare Payment Amount  Average Medicare Standardized Amount  \n",
       "0                        56.827200                             57.492400  \n",
       "1                        78.460000                             79.306154  \n",
       "2                       102.807692                            103.895385  \n",
       "3                       141.293559                            142.865763  \n",
       "4                        79.710000                             80.750000  "
      ]
     },
     "execution_count": 43,
     "metadata": {},
     "output_type": "execute_result"
    }
   ],
   "source": [
    "baby_hcpcs.head()"
   ]
  },
  {
   "cell_type": "code",
   "execution_count": 44,
   "metadata": {},
   "outputs": [
    {
     "name": "stdout",
     "output_type": "stream",
     "text": [
      "<class 'pandas.core.frame.DataFrame'>\n",
      "RangeIndex: 9847443 entries, 0 to 9847442\n",
      "Data columns (total 11 columns):\n",
      " #   Column                                Non-Null Count    Dtype  \n",
      "---  ------                                --------------    -----  \n",
      " 0   National Provider Identifier          9847443 non-null  int64  \n",
      " 1   Entity Type of the Provider           9847443 non-null  object \n",
      " 2   Provider Type                         9847443 non-null  object \n",
      " 3   Medicare Participation Indicator      9847443 non-null  object \n",
      " 4   HCPCS Code                            9847443 non-null  object \n",
      " 5   HCPCS Description                     9847443 non-null  object \n",
      " 6   Number of Services                    9847443 non-null  float64\n",
      " 7   Average Medicare Allowed Amount       9847443 non-null  float64\n",
      " 8   Average Submitted Charge Amount       9847443 non-null  float64\n",
      " 9   Average Medicare Payment Amount       9847443 non-null  float64\n",
      " 10  Average Medicare Standardized Amount  9847443 non-null  float64\n",
      "dtypes: float64(5), int64(1), object(5)\n",
      "memory usage: 826.4+ MB\n"
     ]
    }
   ],
   "source": [
    "baby_hcpcs.info(null_counts = True)"
   ]
  },
  {
   "cell_type": "code",
   "execution_count": 45,
   "metadata": {},
   "outputs": [
    {
     "data": {
      "text/plain": [
       "5467"
      ]
     },
     "execution_count": 45,
     "metadata": {},
     "output_type": "execute_result"
    }
   ],
   "source": [
    "baby_hcpcs['HCPCS Description'].nunique()"
   ]
  },
  {
   "cell_type": "code",
   "execution_count": 46,
   "metadata": {},
   "outputs": [
    {
     "data": {
      "text/plain": [
       "Established patient office or other outpatient visit, typically 15 minutes                                                                                                                                                                                          457843\n",
       "Established patient office or other outpatient, visit typically 25 minutes                                                                                                                                                                                          428268\n",
       "New patient office or other outpatient visit, typically 45 minutes                                                                                                                                                                                                  179569\n",
       "New patient office or other outpatient visit, typically 30 minutes                                                                                                                                                                                                  178059\n",
       "Established patient office or other outpatient visit, typically 10 minutes                                                                                                                                                                                          133180\n",
       "Established patient office or other outpatient, visit typically 40 minutes                                                                                                                                                                                          119758\n",
       "New patient office or other outpatient visit, typically 60 minutes                                                                                                                                                                                                   62427\n",
       "New patient office or other outpatient visit, typically 20 minutes                                                                                                                                                                                                   48226\n",
       "Established patient office or other outpatient visit, typically 5 minutes                                                                                                                                                                                            30700\n",
       "New patient office or other outpatient visit, typically 10 minutes                                                                                                                                                                                                    4619\n",
       "Prolonged office or other outpatient service first hour                                                                                                                                                                                                               3203\n",
       "Chemotherapy administration, intravenous infusion technique; initiation of infusion in the office/clinic setting using office/clinic pump/supplies, with continuation of the infusion in the community setting (e.g., home, domiciliary, rest home or assisted l       740\n",
       "Cognition and functional assessment using standardized instruments with development of recorded care plan for the patient with cognitive impairment, history obtained from patient and/or caregiver, in office or other outpatient setting or home or domiciliar       355\n",
       "Prolonged office or other outpatient service each 30 minutes beyond first hour                                                                                                                                                                                         182\n",
       "Prolonged office or other outpatient service by clinical staff - first hour                                                                                                                                                                                             34\n",
       "Prolonged office or other outpatient service by clinical staff - each additional 30 minutes                                                                                                                                                                              5\n",
       "Name: HCPCS Description, dtype: int64"
      ]
     },
     "execution_count": 46,
     "metadata": {},
     "output_type": "execute_result"
    }
   ],
   "source": [
    "baby_hcpcs.loc[baby_hcpcs['HCPCS Description'].str.contains('office')]['HCPCS Description'].value_counts()"
   ]
  },
  {
   "cell_type": "code",
   "execution_count": 47,
   "metadata": {},
   "outputs": [],
   "source": [
    "baby_hcpcs = baby_hcpcs[~baby_hcpcs['HCPCS Description'].str.contains('patient office')]"
   ]
  },
  {
   "cell_type": "code",
   "execution_count": 48,
   "metadata": {},
   "outputs": [
    {
     "data": {
      "text/plain": [
       "Series([], Name: HCPCS Description, dtype: int64)"
      ]
     },
     "execution_count": 48,
     "metadata": {},
     "output_type": "execute_result"
    }
   ],
   "source": [
    "baby_hcpcs.loc[baby_hcpcs['HCPCS Description'].str.contains('patient office')]['HCPCS Description'].value_counts()"
   ]
  },
  {
   "cell_type": "code",
   "execution_count": 49,
   "metadata": {},
   "outputs": [
    {
     "data": {
      "text/plain": [
       "(8204794, 11)"
      ]
     },
     "execution_count": 49,
     "metadata": {},
     "output_type": "execute_result"
    }
   ],
   "source": [
    "baby_hcpcs.shape"
   ]
  },
  {
   "cell_type": "code",
   "execution_count": 50,
   "metadata": {},
   "outputs": [
    {
     "data": {
      "text/html": [
       "<div>\n",
       "<style scoped>\n",
       "    .dataframe tbody tr th:only-of-type {\n",
       "        vertical-align: middle;\n",
       "    }\n",
       "\n",
       "    .dataframe tbody tr th {\n",
       "        vertical-align: top;\n",
       "    }\n",
       "\n",
       "    .dataframe thead th {\n",
       "        text-align: right;\n",
       "    }\n",
       "</style>\n",
       "<table border=\"1\" class=\"dataframe\">\n",
       "  <thead>\n",
       "    <tr style=\"text-align: right;\">\n",
       "      <th></th>\n",
       "      <th>National Provider Identifier</th>\n",
       "      <th>Entity Type of the Provider</th>\n",
       "      <th>Provider Type</th>\n",
       "      <th>Medicare Participation Indicator</th>\n",
       "      <th>HCPCS Code</th>\n",
       "      <th>HCPCS Description</th>\n",
       "      <th>Number of Services</th>\n",
       "      <th>Average Medicare Allowed Amount</th>\n",
       "      <th>Average Submitted Charge Amount</th>\n",
       "      <th>Average Medicare Payment Amount</th>\n",
       "      <th>Average Medicare Standardized Amount</th>\n",
       "      <th>monetary_total</th>\n",
       "    </tr>\n",
       "  </thead>\n",
       "  <tbody>\n",
       "    <tr>\n",
       "      <th>0</th>\n",
       "      <td>1003000126</td>\n",
       "      <td>I</td>\n",
       "      <td>Internal Medicine</td>\n",
       "      <td>Y</td>\n",
       "      <td>99217</td>\n",
       "      <td>Hospital observation care discharge</td>\n",
       "      <td>100.0</td>\n",
       "      <td>73.398800</td>\n",
       "      <td>325.780000</td>\n",
       "      <td>56.827200</td>\n",
       "      <td>57.492400</td>\n",
       "      <td>7339.88</td>\n",
       "    </tr>\n",
       "    <tr>\n",
       "      <th>1</th>\n",
       "      <td>1003000126</td>\n",
       "      <td>I</td>\n",
       "      <td>Internal Medicine</td>\n",
       "      <td>Y</td>\n",
       "      <td>99218</td>\n",
       "      <td>Hospital observation care typically 30 minutes</td>\n",
       "      <td>26.0</td>\n",
       "      <td>100.080000</td>\n",
       "      <td>449.000000</td>\n",
       "      <td>78.460000</td>\n",
       "      <td>79.306154</td>\n",
       "      <td>2602.08</td>\n",
       "    </tr>\n",
       "    <tr>\n",
       "      <th>2</th>\n",
       "      <td>1003000126</td>\n",
       "      <td>I</td>\n",
       "      <td>Internal Medicine</td>\n",
       "      <td>Y</td>\n",
       "      <td>99219</td>\n",
       "      <td>Hospital observation care typically 50 minutes</td>\n",
       "      <td>52.0</td>\n",
       "      <td>136.380000</td>\n",
       "      <td>614.000000</td>\n",
       "      <td>102.807692</td>\n",
       "      <td>103.895385</td>\n",
       "      <td>7091.76</td>\n",
       "    </tr>\n",
       "    <tr>\n",
       "      <th>3</th>\n",
       "      <td>1003000126</td>\n",
       "      <td>I</td>\n",
       "      <td>Internal Medicine</td>\n",
       "      <td>Y</td>\n",
       "      <td>99220</td>\n",
       "      <td>Hospital observation care typically 70 minutes...</td>\n",
       "      <td>59.0</td>\n",
       "      <td>190.363729</td>\n",
       "      <td>755.932203</td>\n",
       "      <td>141.293559</td>\n",
       "      <td>142.865763</td>\n",
       "      <td>11231.46</td>\n",
       "    </tr>\n",
       "    <tr>\n",
       "      <th>4</th>\n",
       "      <td>1003000126</td>\n",
       "      <td>I</td>\n",
       "      <td>Internal Medicine</td>\n",
       "      <td>Y</td>\n",
       "      <td>99221</td>\n",
       "      <td>Initial hospital inpatient care, typically 30 ...</td>\n",
       "      <td>16.0</td>\n",
       "      <td>101.680000</td>\n",
       "      <td>462.812500</td>\n",
       "      <td>79.710000</td>\n",
       "      <td>80.750000</td>\n",
       "      <td>1626.88</td>\n",
       "    </tr>\n",
       "  </tbody>\n",
       "</table>\n",
       "</div>"
      ],
      "text/plain": [
       "   National Provider Identifier Entity Type of the Provider  \\\n",
       "0                    1003000126                           I   \n",
       "1                    1003000126                           I   \n",
       "2                    1003000126                           I   \n",
       "3                    1003000126                           I   \n",
       "4                    1003000126                           I   \n",
       "\n",
       "       Provider Type Medicare Participation Indicator HCPCS Code  \\\n",
       "0  Internal Medicine                                Y      99217   \n",
       "1  Internal Medicine                                Y      99218   \n",
       "2  Internal Medicine                                Y      99219   \n",
       "3  Internal Medicine                                Y      99220   \n",
       "4  Internal Medicine                                Y      99221   \n",
       "\n",
       "                                   HCPCS Description  Number of Services  \\\n",
       "0                Hospital observation care discharge               100.0   \n",
       "1     Hospital observation care typically 30 minutes                26.0   \n",
       "2     Hospital observation care typically 50 minutes                52.0   \n",
       "3  Hospital observation care typically 70 minutes...                59.0   \n",
       "4  Initial hospital inpatient care, typically 30 ...                16.0   \n",
       "\n",
       "   Average Medicare Allowed Amount  Average Submitted Charge Amount  \\\n",
       "0                        73.398800                       325.780000   \n",
       "1                       100.080000                       449.000000   \n",
       "2                       136.380000                       614.000000   \n",
       "3                       190.363729                       755.932203   \n",
       "4                       101.680000                       462.812500   \n",
       "\n",
       "   Average Medicare Payment Amount  Average Medicare Standardized Amount  \\\n",
       "0                        56.827200                             57.492400   \n",
       "1                        78.460000                             79.306154   \n",
       "2                       102.807692                            103.895385   \n",
       "3                       141.293559                            142.865763   \n",
       "4                        79.710000                             80.750000   \n",
       "\n",
       "   monetary_total  \n",
       "0         7339.88  \n",
       "1         2602.08  \n",
       "2         7091.76  \n",
       "3        11231.46  \n",
       "4         1626.88  "
      ]
     },
     "execution_count": 50,
     "metadata": {},
     "output_type": "execute_result"
    }
   ],
   "source": [
    "baby_hcpcs['monetary_total'] = baby_hcpcs['Average Medicare Allowed Amount']*baby_hcpcs['Number of Services']\n",
    "baby_hcpcs.head()"
   ]
  },
  {
   "cell_type": "markdown",
   "metadata": {},
   "source": [
    "In theory, I now have a dataframe with several unnecessary columns dropped and any HCPCS Descriptions that included \"patient office\" are now gone as well. I have added a money total column for use in the pivot tables. Next step is to sort by monetary total and then create a pivot table that groups first by provider type then by procedure."
   ]
  },
  {
   "cell_type": "code",
   "execution_count": 62,
   "metadata": {},
   "outputs": [
    {
     "data": {
      "text/plain": [
       "0           7339.88\n",
       "1           2602.08\n",
       "2           7091.76\n",
       "3          11231.46\n",
       "4           1626.88\n",
       "             ...   \n",
       "4054194     4546.30\n",
       "4054195     6901.48\n",
       "4054196    12754.80\n",
       "4054197     6536.40\n",
       "5202759     1527.72\n",
       "Name: monetary_total, Length: 932, dtype: float64"
      ]
     },
     "execution_count": 62,
     "metadata": {},
     "output_type": "execute_result"
    }
   ],
   "source": [
    "total_by_provider = baby_hcpcs.groupby(\"Provider Type\")[\"monetary_total\"]\n",
    "total_by_provider.head(10)"
   ]
  },
  {
   "cell_type": "code",
   "execution_count": 52,
   "metadata": {},
   "outputs": [],
   "source": [
    "#baby_hcpcs_pivot_prov['total']=baby_hcpcs_pivot_prov['Average Medicare Allowed Amount']*baby_hcpcs_pivot_prov['Number of Services']"
   ]
  },
  {
   "cell_type": "code",
   "execution_count": 53,
   "metadata": {},
   "outputs": [],
   "source": [
    "#baby_hcpcs_pivot_prov.head()"
   ]
  },
  {
   "cell_type": "code",
   "execution_count": 54,
   "metadata": {},
   "outputs": [],
   "source": [
    "#baby_hcpcs_pivot_prov.shape"
   ]
  },
  {
   "cell_type": "code",
   "execution_count": 55,
   "metadata": {},
   "outputs": [],
   "source": [
    "#baby_hcpcs_pivot_proc = baby_hcpcs.pivot_table(index=['HCPCS Code', 'HCPCS Description'], values=['Average Medicare Allowed Amount', 'Number of Services'], aggfunc='sum')\n",
    "#baby_hcpcs_pivot_proc.head()"
   ]
  },
  {
   "cell_type": "code",
   "execution_count": 56,
   "metadata": {},
   "outputs": [],
   "source": [
    "#baby_hcpcs_pivot_proc['total']=baby_hcpcs_pivot_proc['Average Medicare Allowed Amount']*baby_hcpcs_pivot_proc['Number of Services']\n",
    "#baby_hcpcs_pivot_proc.head()"
   ]
  },
  {
   "cell_type": "code",
   "execution_count": null,
   "metadata": {},
   "outputs": [],
   "source": []
  }
 ],
 "metadata": {
  "kernelspec": {
   "display_name": "Python 3",
   "language": "python",
   "name": "python3"
  },
  "language_info": {
   "codemirror_mode": {
    "name": "ipython",
    "version": 3
   },
   "file_extension": ".py",
   "mimetype": "text/x-python",
   "name": "python",
   "nbconvert_exporter": "python",
   "pygments_lexer": "ipython3",
   "version": "3.7.6"
  }
 },
 "nbformat": 4,
 "nbformat_minor": 4
}
