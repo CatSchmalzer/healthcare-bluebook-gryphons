{
 "cells": [
  {
   "cell_type": "code",
   "execution_count": 1,
   "metadata": {},
   "outputs": [],
   "source": [
    "import pandas as pd\n",
    "import pickle"
   ]
  },
  {
   "cell_type": "markdown",
   "metadata": {},
   "source": [
    "#### read csv, select rows with Entity Type 'I' "
   ]
  },
  {
   "cell_type": "code",
   "execution_count": 30,
   "metadata": {},
   "outputs": [
    {
     "name": "stdout",
     "output_type": "stream",
     "text": [
      "Wall time: 4min 15s\n"
     ]
    }
   ],
   "source": [
    "%%time\n",
    "\n",
    "individual_providers_rows =[]\n",
    "for chunk in pd.read_csv('../data/Medicare_Provider_Utilization_and_Payment_Data__Physician_and_Other_Supplier_PUF_CY2017.csv', \n",
    "                         chunksize = 1000):\n",
    "    individual_providers_rows.append(chunk[chunk['Entity Type of the Provider'] == 'I'])\n",
    "    \n",
    "               \n",
    "                \n",
    "individual_provider_type = pd.concat(individual_providers_rows, ignore_index=True)"
   ]
  },
  {
   "cell_type": "code",
   "execution_count": 33,
   "metadata": {},
   "outputs": [
    {
     "name": "stdout",
     "output_type": "stream",
     "text": [
      "<class 'pandas.core.frame.DataFrame'>\n",
      "RangeIndex: 9416125 entries, 0 to 9416124\n",
      "Data columns (total 26 columns):\n",
      " #   Column                                                    Dtype  \n",
      "---  ------                                                    -----  \n",
      " 0   National Provider Identifier                              int64  \n",
      " 1   Last Name/Organization Name of the Provider               object \n",
      " 2   First Name of the Provider                                object \n",
      " 3   Middle Initial of the Provider                            object \n",
      " 4   Credentials of the Provider                               object \n",
      " 5   Gender of the Provider                                    object \n",
      " 6   Entity Type of the Provider                               object \n",
      " 7   Street Address 1 of the Provider                          object \n",
      " 8   Street Address 2 of the Provider                          object \n",
      " 9   City of the Provider                                      object \n",
      " 10  Zip Code of the Provider                                  object \n",
      " 11  State Code of the Provider                                object \n",
      " 12  Country Code of the Provider                              object \n",
      " 13  Provider Type                                             object \n",
      " 14  Medicare Participation Indicator                          object \n",
      " 15  Place of Service                                          object \n",
      " 16  HCPCS Code                                                object \n",
      " 17  HCPCS Description                                         object \n",
      " 18  HCPCS Drug Indicator                                      object \n",
      " 19  Number of Services                                        float64\n",
      " 20  Number of Medicare Beneficiaries                          int64  \n",
      " 21  Number of Distinct Medicare Beneficiary/Per Day Services  int64  \n",
      " 22  Average Medicare Allowed Amount                           float64\n",
      " 23  Average Submitted Charge Amount                           float64\n",
      " 24  Average Medicare Payment Amount                           float64\n",
      " 25  Average Medicare Standardized Amount                      float64\n",
      "dtypes: float64(5), int64(3), object(18)\n",
      "memory usage: 1.8+ GB\n"
     ]
    }
   ],
   "source": [
    "individual_provider_type.info()"
   ]
  },
  {
   "cell_type": "markdown",
   "metadata": {},
   "source": [
    "#### select columns:\n",
    "    - National Provider Identifier\n",
    "    - Entity Type of the Provider\n",
    "    - Provider Type\n",
    "    - Place of Service\n",
    "    - HCPCS Code\n",
    "    - HCPCS Description\n",
    "    - Number of Services\n",
    "    - Number of Medicare Beneficiaries\n",
    "    - Number of Distinct Medicare Beneficiary/Per Day Services"
   ]
  },
  {
   "cell_type": "code",
   "execution_count": 34,
   "metadata": {},
   "outputs": [],
   "source": [
    "individual_provider_type_reduced = individual_provider_type[['National Provider Identifier','Entity Type of the Provider',\n",
    "                                                             'Provider Type','Place of Service','HCPCS Code',\n",
    "                                                             'HCPCS Description','Number of Services',\n",
    "                                                             'Number of Medicare Beneficiaries',\n",
    "                                                             'Number of Distinct Medicare Beneficiary/Per Day Services']]"
   ]
  },
  {
   "cell_type": "code",
   "execution_count": 37,
   "metadata": {},
   "outputs": [
    {
     "name": "stdout",
     "output_type": "stream",
     "text": [
      "<class 'pandas.core.frame.DataFrame'>\n",
      "RangeIndex: 9416125 entries, 0 to 9416124\n",
      "Data columns (total 9 columns):\n",
      " #   Column                                                    Dtype  \n",
      "---  ------                                                    -----  \n",
      " 0   National Provider Identifier                              int64  \n",
      " 1   Entity Type of the Provider                               object \n",
      " 2   Provider Type                                             object \n",
      " 3   Place of Service                                          object \n",
      " 4   HCPCS Code                                                object \n",
      " 5   HCPCS Description                                         object \n",
      " 6   Number of Services                                        float64\n",
      " 7   Number of Medicare Beneficiaries                          int64  \n",
      " 8   Number of Distinct Medicare Beneficiary/Per Day Services  int64  \n",
      "dtypes: float64(1), int64(3), object(5)\n",
      "memory usage: 646.6+ MB\n"
     ]
    }
   ],
   "source": [
    "individual_provider_type_reduced.info()"
   ]
  },
  {
   "cell_type": "code",
   "execution_count": null,
   "metadata": {},
   "outputs": [],
   "source": []
  }
 ],
 "metadata": {
  "kernelspec": {
   "display_name": "Python 3",
   "language": "python",
   "name": "python3"
  },
  "language_info": {
   "codemirror_mode": {
    "name": "ipython",
    "version": 3
   },
   "file_extension": ".py",
   "mimetype": "text/x-python",
   "name": "python",
   "nbconvert_exporter": "python",
   "pygments_lexer": "ipython3",
   "version": "3.7.6"
  }
 },
 "nbformat": 4,
 "nbformat_minor": 2
}
