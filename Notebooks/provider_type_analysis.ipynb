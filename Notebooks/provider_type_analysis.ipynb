{
 "cells": [
  {
   "cell_type": "code",
   "execution_count": 1,
   "metadata": {},
   "outputs": [],
   "source": [
    "import pandas as pd\n",
    "import matplotlib.pyplot as plt\n",
    "import time\n",
    "\n",
    "%matplotlib inline"
   ]
  },
  {
   "cell_type": "code",
   "execution_count": 4,
   "metadata": {},
   "outputs": [],
   "source": [
    "#%%time\n",
    "\n",
    "#payment_df = pd.DataFrame()\n",
    "#chunk_nbr = 1\n",
    "\n",
    "#for chunk in pd.read_csv('../data/Medicare_Provider_Utilization_and_Payment_Data__Physician_and_Other_Supplier_PUF_CY2017.csv'):\n",
    "#    if chunk_nbr == 1:\n",
    "#        payment_df = payment_df.append(chunk)\n",
    "#        chunk_nbr += 1\n",
    "#    else: break\n",
    "#payment_df.head()\n",
    "#low_memory=False"
   ]
  },
  {
   "cell_type": "code",
   "execution_count": 6,
   "metadata": {},
   "outputs": [
    {
     "name": "stdout",
     "output_type": "stream",
     "text": [
      "Wall time: 49.3 s\n"
     ]
    }
   ],
   "source": [
    "%%time\n",
    "payment_df = pd.read_csv('../data/Medicare_Provider_Utilization_and_Payment_Data__Physician_and_Other_Supplier_PUF_CY2017.csv')"
   ]
  },
  {
   "cell_type": "code",
   "execution_count": 7,
   "metadata": {},
   "outputs": [],
   "source": [
    "p_df_table = pd.pivot_table(payment_df, index = ['Provider Type', 'HCPCS Code', \n",
    "                                                                          'HCPCS Description', 'Place of Service'])"
   ]
  },
  {
   "cell_type": "code",
   "execution_count": 21,
   "metadata": {},
   "outputs": [
    {
     "data": {
      "text/html": [
       "<div>\n",
       "<style scoped>\n",
       "    .dataframe tbody tr th:only-of-type {\n",
       "        vertical-align: middle;\n",
       "    }\n",
       "\n",
       "    .dataframe tbody tr th {\n",
       "        vertical-align: top;\n",
       "    }\n",
       "\n",
       "    .dataframe thead th {\n",
       "        text-align: right;\n",
       "    }\n",
       "</style>\n",
       "<table border=\"1\" class=\"dataframe\">\n",
       "  <thead>\n",
       "    <tr style=\"text-align: right;\">\n",
       "      <th></th>\n",
       "      <th></th>\n",
       "      <th></th>\n",
       "      <th></th>\n",
       "      <th>Average Medicare Allowed Amount</th>\n",
       "      <th>Average Medicare Payment Amount</th>\n",
       "      <th>Average Medicare Standardized Amount</th>\n",
       "      <th>Average Submitted Charge Amount</th>\n",
       "      <th>National Provider Identifier</th>\n",
       "      <th>Number of Distinct Medicare Beneficiary/Per Day Services</th>\n",
       "      <th>Number of Medicare Beneficiaries</th>\n",
       "      <th>Number of Services</th>\n",
       "    </tr>\n",
       "    <tr>\n",
       "      <th>Provider Type</th>\n",
       "      <th>HCPCS Code</th>\n",
       "      <th>HCPCS Description</th>\n",
       "      <th>Place of Service</th>\n",
       "      <th></th>\n",
       "      <th></th>\n",
       "      <th></th>\n",
       "      <th></th>\n",
       "      <th></th>\n",
       "      <th></th>\n",
       "      <th></th>\n",
       "      <th></th>\n",
       "    </tr>\n",
       "  </thead>\n",
       "  <tbody>\n",
       "    <tr>\n",
       "      <td rowspan=\"5\" valign=\"top\">Addiction Medicine</td>\n",
       "      <td>36415</td>\n",
       "      <td>Insertion of needle into vein for collection of blood sample</td>\n",
       "      <td>O</td>\n",
       "      <td>3.000000</td>\n",
       "      <td>2.933529</td>\n",
       "      <td>2.940000</td>\n",
       "      <td>14.714286</td>\n",
       "      <td>1.443171e+09</td>\n",
       "      <td>85.0</td>\n",
       "      <td>52.285714</td>\n",
       "      <td>85.0</td>\n",
       "    </tr>\n",
       "    <tr>\n",
       "      <td>36556</td>\n",
       "      <td>Insertion of central venous catheter for infusion, patient 5 years or older</td>\n",
       "      <td>F</td>\n",
       "      <td>112.510000</td>\n",
       "      <td>88.210000</td>\n",
       "      <td>97.910000</td>\n",
       "      <td>129.390000</td>\n",
       "      <td>1.770876e+09</td>\n",
       "      <td>11.0</td>\n",
       "      <td>11.000000</td>\n",
       "      <td>12.0</td>\n",
       "    </tr>\n",
       "    <tr>\n",
       "      <td>36620</td>\n",
       "      <td>Insertion of arterial catheter for blood sampling or infusion, accessed through the skin</td>\n",
       "      <td>F</td>\n",
       "      <td>47.990000</td>\n",
       "      <td>37.620000</td>\n",
       "      <td>41.360000</td>\n",
       "      <td>55.190000</td>\n",
       "      <td>1.770876e+09</td>\n",
       "      <td>13.0</td>\n",
       "      <td>12.000000</td>\n",
       "      <td>13.0</td>\n",
       "    </tr>\n",
       "    <tr>\n",
       "      <td rowspan=\"2\" valign=\"top\">70100</td>\n",
       "      <td rowspan=\"2\" valign=\"top\">X-ray of mandible, less than 4 views</td>\n",
       "      <td>F</td>\n",
       "      <td>9.078696</td>\n",
       "      <td>6.833478</td>\n",
       "      <td>7.167391</td>\n",
       "      <td>35.000000</td>\n",
       "      <td>1.306066e+09</td>\n",
       "      <td>46.0</td>\n",
       "      <td>39.000000</td>\n",
       "      <td>46.0</td>\n",
       "    </tr>\n",
       "    <tr>\n",
       "      <td>O</td>\n",
       "      <td>16.169743</td>\n",
       "      <td>12.231949</td>\n",
       "      <td>13.277022</td>\n",
       "      <td>44.816176</td>\n",
       "      <td>1.306066e+09</td>\n",
       "      <td>541.0</td>\n",
       "      <td>471.000000</td>\n",
       "      <td>544.0</td>\n",
       "    </tr>\n",
       "  </tbody>\n",
       "</table>\n",
       "</div>"
      ],
      "text/plain": [
       "                                                                                                   Average Medicare Allowed Amount  \\\n",
       "Provider Type      HCPCS Code HCPCS Description                                  Place of Service                                    \n",
       "Addiction Medicine 36415      Insertion of needle into vein for collection of... O                                        3.000000   \n",
       "                   36556      Insertion of central venous catheter for infusi... F                                      112.510000   \n",
       "                   36620      Insertion of arterial catheter for blood sampli... F                                       47.990000   \n",
       "                   70100      X-ray of mandible, less than 4 views               F                                        9.078696   \n",
       "                                                                                 O                                       16.169743   \n",
       "\n",
       "                                                                                                   Average Medicare Payment Amount  \\\n",
       "Provider Type      HCPCS Code HCPCS Description                                  Place of Service                                    \n",
       "Addiction Medicine 36415      Insertion of needle into vein for collection of... O                                        2.933529   \n",
       "                   36556      Insertion of central venous catheter for infusi... F                                       88.210000   \n",
       "                   36620      Insertion of arterial catheter for blood sampli... F                                       37.620000   \n",
       "                   70100      X-ray of mandible, less than 4 views               F                                        6.833478   \n",
       "                                                                                 O                                       12.231949   \n",
       "\n",
       "                                                                                                   Average Medicare Standardized Amount  \\\n",
       "Provider Type      HCPCS Code HCPCS Description                                  Place of Service                                         \n",
       "Addiction Medicine 36415      Insertion of needle into vein for collection of... O                                             2.940000   \n",
       "                   36556      Insertion of central venous catheter for infusi... F                                            97.910000   \n",
       "                   36620      Insertion of arterial catheter for blood sampli... F                                            41.360000   \n",
       "                   70100      X-ray of mandible, less than 4 views               F                                             7.167391   \n",
       "                                                                                 O                                            13.277022   \n",
       "\n",
       "                                                                                                   Average Submitted Charge Amount  \\\n",
       "Provider Type      HCPCS Code HCPCS Description                                  Place of Service                                    \n",
       "Addiction Medicine 36415      Insertion of needle into vein for collection of... O                                       14.714286   \n",
       "                   36556      Insertion of central venous catheter for infusi... F                                      129.390000   \n",
       "                   36620      Insertion of arterial catheter for blood sampli... F                                       55.190000   \n",
       "                   70100      X-ray of mandible, less than 4 views               F                                       35.000000   \n",
       "                                                                                 O                                       44.816176   \n",
       "\n",
       "                                                                                                   National Provider Identifier  \\\n",
       "Provider Type      HCPCS Code HCPCS Description                                  Place of Service                                 \n",
       "Addiction Medicine 36415      Insertion of needle into vein for collection of... O                                 1.443171e+09   \n",
       "                   36556      Insertion of central venous catheter for infusi... F                                 1.770876e+09   \n",
       "                   36620      Insertion of arterial catheter for blood sampli... F                                 1.770876e+09   \n",
       "                   70100      X-ray of mandible, less than 4 views               F                                 1.306066e+09   \n",
       "                                                                                 O                                 1.306066e+09   \n",
       "\n",
       "                                                                                                   Number of Distinct Medicare Beneficiary/Per Day Services  \\\n",
       "Provider Type      HCPCS Code HCPCS Description                                  Place of Service                                                             \n",
       "Addiction Medicine 36415      Insertion of needle into vein for collection of... O                                                              85.0          \n",
       "                   36556      Insertion of central venous catheter for infusi... F                                                              11.0          \n",
       "                   36620      Insertion of arterial catheter for blood sampli... F                                                              13.0          \n",
       "                   70100      X-ray of mandible, less than 4 views               F                                                              46.0          \n",
       "                                                                                 O                                                             541.0          \n",
       "\n",
       "                                                                                                   Number of Medicare Beneficiaries  \\\n",
       "Provider Type      HCPCS Code HCPCS Description                                  Place of Service                                     \n",
       "Addiction Medicine 36415      Insertion of needle into vein for collection of... O                                        52.285714   \n",
       "                   36556      Insertion of central venous catheter for infusi... F                                        11.000000   \n",
       "                   36620      Insertion of arterial catheter for blood sampli... F                                        12.000000   \n",
       "                   70100      X-ray of mandible, less than 4 views               F                                        39.000000   \n",
       "                                                                                 O                                       471.000000   \n",
       "\n",
       "                                                                                                   Number of Services  \n",
       "Provider Type      HCPCS Code HCPCS Description                                  Place of Service                      \n",
       "Addiction Medicine 36415      Insertion of needle into vein for collection of... O                               85.0  \n",
       "                   36556      Insertion of central venous catheter for infusi... F                               12.0  \n",
       "                   36620      Insertion of arterial catheter for blood sampli... F                               13.0  \n",
       "                   70100      X-ray of mandible, less than 4 views               F                               46.0  \n",
       "                                                                                 O                              544.0  "
      ]
     },
     "execution_count": 21,
     "metadata": {},
     "output_type": "execute_result"
    }
   ],
   "source": [
    "p_df_table.head()"
   ]
  },
  {
   "cell_type": "code",
   "execution_count": 9,
   "metadata": {},
   "outputs": [
    {
     "data": {
      "text/plain": [
       "(59639, 8)"
      ]
     },
     "execution_count": 9,
     "metadata": {},
     "output_type": "execute_result"
    }
   ],
   "source": [
    "p_df_table.shape"
   ]
  },
  {
   "cell_type": "code",
   "execution_count": 10,
   "metadata": {},
   "outputs": [
    {
     "data": {
      "text/plain": [
       "(9847443, 26)"
      ]
     },
     "execution_count": 10,
     "metadata": {},
     "output_type": "execute_result"
    }
   ],
   "source": [
    "payment_df.shape"
   ]
  },
  {
   "cell_type": "code",
   "execution_count": 13,
   "metadata": {},
   "outputs": [],
   "source": [
    "individual_provider_payment_df_clean_no_office = payment_df.loc[~payment_df['HCPCS Code'].str.contains('992..|993..', regex=True)]"
   ]
  },
  {
   "cell_type": "code",
   "execution_count": 15,
   "metadata": {},
   "outputs": [
    {
     "data": {
      "text/plain": [
       "(6889555, 26)"
      ]
     },
     "execution_count": 15,
     "metadata": {},
     "output_type": "execute_result"
    }
   ],
   "source": [
    "individual_provider_payment_df_clean_no_office.shape"
   ]
  },
  {
   "cell_type": "code",
   "execution_count": 19,
   "metadata": {},
   "outputs": [
    {
     "data": {
      "text/plain": [
       "array(['Internal Medicine', 'Pathology', 'Anesthesiology',\n",
       "       'Family Practice', 'Obstetrics & Gynecology', 'General Surgery',\n",
       "       'Urology', 'Cardiac Surgery', 'Physician Assistant',\n",
       "       'Physical Therapist in Private Practice', 'Dermatology',\n",
       "       'Licensed Clinical Social Worker', 'Optometry',\n",
       "       'Mass Immunizer Roster Biller',\n",
       "       'Physical Medicine and Rehabilitation', 'Radiation Oncology',\n",
       "       'Infectious Disease', 'Orthopedic Surgery',\n",
       "       'Certified Clinical Nurse Specialist', 'Endocrinology',\n",
       "       'Chiropractic', 'Psychiatry', 'Diagnostic Radiology',\n",
       "       'Centralized Flu', 'Rheumatology', 'General Practice', 'Neurology',\n",
       "       'Emergency Medicine', 'Nephrology', 'Ophthalmology',\n",
       "       'Nurse Practitioner', 'Pulmonary Disease', 'Otolaryngology',\n",
       "       'Plastic and Reconstructive Surgery', 'Psychologist, Clinical',\n",
       "       'Cardiology', 'Ambulance Service Provider',\n",
       "       'Interventional Cardiology', 'Gastroenterology', 'Hospitalist',\n",
       "       'Audiologist', 'Certified Registered Nurse Anesthetist (CRNA)',\n",
       "       'Geriatric Medicine', 'Neurosurgery', 'Interventional Radiology',\n",
       "       'Critical Care (Intensivists)', 'Podiatry', 'Hematology-Oncology',\n",
       "       'All Other Suppliers', 'Ambulatory Surgical Center',\n",
       "       'Medical Oncology', 'Nuclear Medicine', 'Thoracic Surgery',\n",
       "       'Allergy/ Immunology', 'Certified Nurse Midwife',\n",
       "       'Pain Management', 'Sports Medicine',\n",
       "       'Occupational Therapist in Private Practice', 'Hand Surgery',\n",
       "       'Hospice and Palliative Care',\n",
       "       'Independent Diagnostic Testing Facility (IDTF)',\n",
       "       'Speech Language Pathologist', 'Clinical Laboratory',\n",
       "       'Advanced Heart Failure and Transplant Cardiology',\n",
       "       'Osteopathic Manipulative Medicine',\n",
       "       'Registered Dietitian or Nutrition Professional',\n",
       "       'Vascular Surgery', 'Pediatric Medicine',\n",
       "       'Anesthesiology Assistant', 'Clinical Cardiac Electrophysiology',\n",
       "       'Oral Surgery (Dentist only)', 'Undefined Physician type',\n",
       "       'Hematology', 'Portable X-Ray Supplier',\n",
       "       'Colorectal Surgery (Proctology)', 'Mammography Center',\n",
       "       'Surgical Oncology', 'Interventional Pain Management',\n",
       "       'Maxillofacial Surgery', 'Preventive Medicine',\n",
       "       'Public Health or Welfare Agency', 'Sleep Medicine',\n",
       "       'Addiction Medicine', 'Neuropsychiatry',\n",
       "       'Peripheral Vascular Disease', 'Gynecological Oncology',\n",
       "       'Geriatric Psychiatry', 'Clinic or Group Practice',\n",
       "       'Radiation Therapy Center', 'Slide Preparation Facility',\n",
       "       'Pharmacy', 'Dentist', 'Medical Toxicology',\n",
       "       'Unknown Supplier/Provider Specialty'], dtype=object)"
      ]
     },
     "execution_count": 19,
     "metadata": {},
     "output_type": "execute_result"
    }
   ],
   "source": [
    "payment_df['Provider Type'].unique()"
   ]
  },
  {
   "cell_type": "code",
   "execution_count": null,
   "metadata": {},
   "outputs": [],
   "source": []
  }
 ],
 "metadata": {
  "kernelspec": {
   "display_name": "Python 3",
   "language": "python",
   "name": "python3"
  },
  "language_info": {
   "codemirror_mode": {
    "name": "ipython",
    "version": 3
   },
   "file_extension": ".py",
   "mimetype": "text/x-python",
   "name": "python",
   "nbconvert_exporter": "python",
   "pygments_lexer": "ipython3",
   "version": "3.7.4"
  }
 },
 "nbformat": 4,
 "nbformat_minor": 2
}
