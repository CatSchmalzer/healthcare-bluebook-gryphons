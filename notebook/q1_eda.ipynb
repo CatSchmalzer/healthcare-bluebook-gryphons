{
 "cells": [
  {
   "cell_type": "code",
   "execution_count": 3,
   "metadata": {},
   "outputs": [],
   "source": [
    "import pandas as pd"
   ]
  },
  {
   "cell_type": "code",
   "execution_count": 4,
   "metadata": {},
   "outputs": [
    {
     "name": "stderr",
     "output_type": "stream",
     "text": [
      "/Users/nessartoul/opt/anaconda3/lib/python3.7/site-packages/IPython/core/interactiveshell.py:3063: DtypeWarning: Columns (10) have mixed types.Specify dtype option on import or set low_memory=False.\n",
      "  interactivity=interactivity, compiler=compiler, result=result)\n"
     ]
    }
   ],
   "source": [
    "df = pd.read_csv('../data/Medicare_Provider_Utilization_and_Payment_Data__Physician_and_Other_Supplier_PUF_CY2017.csv')"
   ]
  },
  {
   "cell_type": "code",
   "execution_count": 5,
   "metadata": {
    "scrolled": true
   },
   "outputs": [
    {
     "data": {
      "text/plain": [
       "['National Provider Identifier',\n",
       " 'Last Name/Organization Name of the Provider',\n",
       " 'First Name of the Provider',\n",
       " 'Middle Initial of the Provider',\n",
       " 'Credentials of the Provider',\n",
       " 'Gender of the Provider',\n",
       " 'Entity Type of the Provider',\n",
       " 'Street Address 1 of the Provider',\n",
       " 'Street Address 2 of the Provider',\n",
       " 'City of the Provider',\n",
       " 'Zip Code of the Provider',\n",
       " 'State Code of the Provider',\n",
       " 'Country Code of the Provider',\n",
       " 'Provider Type',\n",
       " 'Medicare Participation Indicator',\n",
       " 'Place of Service',\n",
       " 'HCPCS Code',\n",
       " 'HCPCS Description',\n",
       " 'HCPCS Drug Indicator',\n",
       " 'Number of Services',\n",
       " 'Number of Medicare Beneficiaries',\n",
       " 'Number of Distinct Medicare Beneficiary/Per Day Services',\n",
       " 'Average Medicare Allowed Amount',\n",
       " 'Average Submitted Charge Amount',\n",
       " 'Average Medicare Payment Amount',\n",
       " 'Average Medicare Standardized Amount']"
      ]
     },
     "execution_count": 5,
     "metadata": {},
     "output_type": "execute_result"
    }
   ],
   "source": [
    "list(df.columns)"
   ]
  },
  {
   "cell_type": "code",
   "execution_count": 6,
   "metadata": {},
   "outputs": [],
   "source": [
    "df = df.drop(columns = ['Middle Initial of the Provider','Street Address 1 of the Provider','Street Address 2 of the Provider','City of the Provider','Zip Code of the Provider', 'State Code of the Provider','Country Code of the Provider'], axis = 1)"
   ]
  },
  {
   "cell_type": "code",
   "execution_count": 7,
   "metadata": {},
   "outputs": [
    {
     "data": {
      "text/plain": [
       "['National Provider Identifier',\n",
       " 'Last Name/Organization Name of the Provider',\n",
       " 'First Name of the Provider',\n",
       " 'Credentials of the Provider',\n",
       " 'Gender of the Provider',\n",
       " 'Entity Type of the Provider',\n",
       " 'Provider Type',\n",
       " 'Medicare Participation Indicator',\n",
       " 'Place of Service',\n",
       " 'HCPCS Code',\n",
       " 'HCPCS Description',\n",
       " 'HCPCS Drug Indicator',\n",
       " 'Number of Services',\n",
       " 'Number of Medicare Beneficiaries',\n",
       " 'Number of Distinct Medicare Beneficiary/Per Day Services',\n",
       " 'Average Medicare Allowed Amount',\n",
       " 'Average Submitted Charge Amount',\n",
       " 'Average Medicare Payment Amount',\n",
       " 'Average Medicare Standardized Amount']"
      ]
     },
     "execution_count": 7,
     "metadata": {},
     "output_type": "execute_result"
    }
   ],
   "source": [
    "list(df.columns)"
   ]
  },
  {
   "cell_type": "code",
   "execution_count": 9,
   "metadata": {},
   "outputs": [
    {
     "data": {
      "text/html": [
       "<div>\n",
       "<style scoped>\n",
       "    .dataframe tbody tr th:only-of-type {\n",
       "        vertical-align: middle;\n",
       "    }\n",
       "\n",
       "    .dataframe tbody tr th {\n",
       "        vertical-align: top;\n",
       "    }\n",
       "\n",
       "    .dataframe thead th {\n",
       "        text-align: right;\n",
       "    }\n",
       "</style>\n",
       "<table border=\"1\" class=\"dataframe\">\n",
       "  <thead>\n",
       "    <tr style=\"text-align: right;\">\n",
       "      <th></th>\n",
       "      <th>National Provider Identifier</th>\n",
       "      <th>Last Name/Organization Name of the Provider</th>\n",
       "      <th>First Name of the Provider</th>\n",
       "      <th>Credentials of the Provider</th>\n",
       "      <th>Gender of the Provider</th>\n",
       "      <th>Entity Type of the Provider</th>\n",
       "      <th>Provider Type</th>\n",
       "      <th>Medicare Participation Indicator</th>\n",
       "      <th>Place of Service</th>\n",
       "      <th>HCPCS Code</th>\n",
       "      <th>HCPCS Description</th>\n",
       "      <th>HCPCS Drug Indicator</th>\n",
       "      <th>Number of Services</th>\n",
       "      <th>Number of Medicare Beneficiaries</th>\n",
       "      <th>Number of Distinct Medicare Beneficiary/Per Day Services</th>\n",
       "      <th>Average Medicare Allowed Amount</th>\n",
       "      <th>Average Submitted Charge Amount</th>\n",
       "      <th>Average Medicare Payment Amount</th>\n",
       "      <th>Average Medicare Standardized Amount</th>\n",
       "    </tr>\n",
       "  </thead>\n",
       "  <tbody>\n",
       "    <tr>\n",
       "      <th>0</th>\n",
       "      <td>1003000126</td>\n",
       "      <td>ENKESHAFI</td>\n",
       "      <td>ARDALAN</td>\n",
       "      <td>M.D.</td>\n",
       "      <td>M</td>\n",
       "      <td>I</td>\n",
       "      <td>Internal Medicine</td>\n",
       "      <td>Y</td>\n",
       "      <td>F</td>\n",
       "      <td>99217</td>\n",
       "      <td>Hospital observation care discharge</td>\n",
       "      <td>N</td>\n",
       "      <td>100.0</td>\n",
       "      <td>96</td>\n",
       "      <td>100</td>\n",
       "      <td>73.3988</td>\n",
       "      <td>325.78</td>\n",
       "      <td>56.8272</td>\n",
       "      <td>57.4924</td>\n",
       "    </tr>\n",
       "  </tbody>\n",
       "</table>\n",
       "</div>"
      ],
      "text/plain": [
       "   National Provider Identifier Last Name/Organization Name of the Provider  \\\n",
       "0                    1003000126                                   ENKESHAFI   \n",
       "\n",
       "  First Name of the Provider Credentials of the Provider  \\\n",
       "0                    ARDALAN                        M.D.   \n",
       "\n",
       "  Gender of the Provider Entity Type of the Provider      Provider Type  \\\n",
       "0                      M                           I  Internal Medicine   \n",
       "\n",
       "  Medicare Participation Indicator Place of Service HCPCS Code  \\\n",
       "0                                Y                F      99217   \n",
       "\n",
       "                     HCPCS Description HCPCS Drug Indicator  \\\n",
       "0  Hospital observation care discharge                    N   \n",
       "\n",
       "   Number of Services  Number of Medicare Beneficiaries  \\\n",
       "0               100.0                                96   \n",
       "\n",
       "   Number of Distinct Medicare Beneficiary/Per Day Services  \\\n",
       "0                                                100          \n",
       "\n",
       "   Average Medicare Allowed Amount  Average Submitted Charge Amount  \\\n",
       "0                          73.3988                           325.78   \n",
       "\n",
       "   Average Medicare Payment Amount  Average Medicare Standardized Amount  \n",
       "0                          56.8272                               57.4924  "
      ]
     },
     "execution_count": 9,
     "metadata": {},
     "output_type": "execute_result"
    }
   ],
   "source": [
    "df.head(1)"
   ]
  },
  {
   "cell_type": "code",
   "execution_count": 17,
   "metadata": {},
   "outputs": [],
   "source": [
    "# Checking to see the HCPCS Code Descriptions"
   ]
  },
  {
   "cell_type": "code",
   "execution_count": 12,
   "metadata": {},
   "outputs": [
    {
     "data": {
      "text/plain": [
       "array(['Hospital observation care discharge',\n",
       "       'Hospital observation care typically 30 minutes',\n",
       "       'Hospital observation care typically 50 minutes', ...,\n",
       "       'Incision of spine bone with removal of disc at upper spinal column',\n",
       "       'Heat delivery to muscle at esophagus and/or stomach to treat gastric reflux using an endoscope',\n",
       "       'Destruction of pudendal (external genital) nerve'], dtype=object)"
      ]
     },
     "execution_count": 12,
     "metadata": {},
     "output_type": "execute_result"
    }
   ],
   "source": [
    "df['HCPCS Description'].unique()"
   ]
  },
  {
   "cell_type": "code",
   "execution_count": 18,
   "metadata": {},
   "outputs": [],
   "source": [
    "# looking at unique HCPCS codes"
   ]
  },
  {
   "cell_type": "code",
   "execution_count": 35,
   "metadata": {},
   "outputs": [
    {
     "data": {
      "text/plain": [
       "6048"
      ]
     },
     "execution_count": 35,
     "metadata": {},
     "output_type": "execute_result"
    }
   ],
   "source": [
    "    df['HCPCS Code'].nunique()"
   ]
  },
  {
   "cell_type": "code",
   "execution_count": 36,
   "metadata": {},
   "outputs": [
    {
     "data": {
      "text/plain": [
       "99213    457843\n",
       "99214    428268\n",
       "99204    179569\n",
       "99203    178059\n",
       "99232    175336\n",
       "          ...  \n",
       "J9306         1\n",
       "84228         1\n",
       "49419         1\n",
       "81519         1\n",
       "25028         1\n",
       "Name: HCPCS Code, Length: 6048, dtype: int64"
      ]
     },
     "execution_count": 36,
     "metadata": {},
     "output_type": "execute_result"
    }
   ],
   "source": [
    "df['HCPCS Code'].value_counts()"
   ]
  },
  {
   "cell_type": "code",
   "execution_count": 37,
   "metadata": {},
   "outputs": [],
   "source": [
    "## making a dataframe of HCPCS Codes and payment amounts"
   ]
  },
  {
   "cell_type": "code",
   "execution_count": 55,
   "metadata": {},
   "outputs": [
    {
     "data": {
      "text/plain": [
       "['Entity Type of the Provider',\n",
       " 'Provider Type',\n",
       " 'Credentials of the Provider',\n",
       " 'Gender of the Provider',\n",
       " 'Place of Service',\n",
       " 'HCPCS Code',\n",
       " 'Average Medicare Standardized Amount',\n",
       " 'Average Medicare Payment Amount',\n",
       " 'Average Submitted Charge Amount',\n",
       " 'Average Medicare Allowed Amount']"
      ]
     },
     "execution_count": 55,
     "metadata": {},
     "output_type": "execute_result"
    }
   ],
   "source": [
    "code_dollar = df.iloc[:,[5,6,3,4,8,9,-1,-2,-3,-4]]\n",
    "list(code_dollar.columns)"
   ]
  },
  {
   "cell_type": "code",
   "execution_count": 57,
   "metadata": {},
   "outputs": [
    {
     "data": {
      "text/plain": [
       "array(['F', 'O'], dtype=object)"
      ]
     },
     "execution_count": 57,
     "metadata": {},
     "output_type": "execute_result"
    }
   ],
   "source": [
    "code_dollar['Place of Service'].unique()"
   ]
  },
  {
   "cell_type": "code",
   "execution_count": 58,
   "metadata": {},
   "outputs": [
    {
     "data": {
      "text/plain": [
       "O    6077711\n",
       "F    3769732\n",
       "Name: Place of Service, dtype: int64"
      ]
     },
     "execution_count": 58,
     "metadata": {},
     "output_type": "execute_result"
    }
   ],
   "source": [
    "code_dollar['Place of Service'].value_counts()"
   ]
  },
  {
   "cell_type": "code",
   "execution_count": 73,
   "metadata": {},
   "outputs": [
    {
     "data": {
      "text/plain": [
       "F    3769732\n",
       "Name: Place of Service, dtype: int64"
      ]
     },
     "execution_count": 73,
     "metadata": {},
     "output_type": "execute_result"
    }
   ],
   "source": [
    "#dropping office visits and double check\n",
    "\n",
    "code_dollar = code_dollar[code_dollar['Place of Service'] != 'O']\n",
    "code_dollar['Place of Service'].value_counts()"
   ]
  },
  {
   "cell_type": "code",
   "execution_count": null,
   "metadata": {},
   "outputs": [],
   "source": []
  }
 ],
 "metadata": {
  "kernelspec": {
   "display_name": "Python 3",
   "language": "python",
   "name": "python3"
  },
  "language_info": {
   "codemirror_mode": {
    "name": "ipython",
    "version": 3
   },
   "file_extension": ".py",
   "mimetype": "text/x-python",
   "name": "python",
   "nbconvert_exporter": "python",
   "pygments_lexer": "ipython3",
   "version": "3.7.6"
  }
 },
 "nbformat": 4,
 "nbformat_minor": 4
}
